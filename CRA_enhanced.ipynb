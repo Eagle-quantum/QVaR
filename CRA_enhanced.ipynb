{
 "cells": [
  {
   "cell_type": "code",
   "execution_count": 1,
   "metadata": {},
   "outputs": [
    {
     "name": "stderr",
     "output_type": "stream",
     "text": [
      "<frozen importlib._bootstrap>:219: RuntimeWarning: scipy._lib.messagestream.MessageStream size changed, may indicate binary incompatibility. Expected 56 from C header, got 64 from PyObject\n"
     ]
    }
   ],
   "source": [
    "import numpy as np\n",
    "import matplotlib.pyplot as plt\n",
    "\n",
    "from qiskit import QuantumRegister, QuantumCircuit, Aer, execute, IBMQ\n",
    "from qiskit.circuit.library import IntegerComparator\n",
    "from qiskit.utils import QuantumInstance\n",
    "from qiskit.algorithms import IterativeAmplitudeEstimation, EstimationProblem\n",
    "from qiskit.providers.aer.noise import NoiseModel\n",
    "from qiskit.test.mock import FakeMontreal, FakeMumbai, FakeGuadalupe, FakeToronto, FakeCasablanca\n",
    "from qiskit.providers.aer import QasmSimulator \n",
    "from qiskit.circuit.library import LinearAmplitudeFunction\n",
    "\n",
    "account = IBMQ.load_account()\n",
    "provider = IBMQ.get_provider(hub='ibm-q-research-2', group='politecnico-tor-1', project='main')"
   ]
  },
  {
   "cell_type": "markdown",
   "metadata": {},
   "source": [
    "# idea: reset the qubits representing the distribution(s)"
   ]
  },
  {
   "cell_type": "code",
   "execution_count": 2,
   "metadata": {},
   "outputs": [],
   "source": [
    "import pandas as pd\n",
    "from itertools import combinations\n",
    "\n",
    "df = pd.read_csv(\"sampled_counterparts.csv\")\n",
    "# df = df[((df['pd']>=0.1) & ((1000 < df['lgd dwt']*df['ead']) & (df['lgd dwt']*df['ead'] < 5000000)))]\n",
    "\n",
    "# def sett(daf, i):\n",
    "#     return daf.iloc[i]['sett']\n",
    "\n",
    "# assets = ['613108_581', '005109_41492']\n",
    "\n",
    "df = df.iloc[[38-2, 260-2, 7816-2]] "
   ]
  },
  {
   "cell_type": "code",
   "execution_count": 3,
   "metadata": {},
   "outputs": [],
   "source": [
    "F = pd.read_csv(\"F_for_sampled_counterparts.csv\")\n",
    "\n",
    "sectors = [1-1, 2-1]\n",
    "F_values = [[F.iloc[df.index.values[j]][i] for i in sectors] for j in range(len(df))]\n",
    "alphas_list = [[0.35, 0.2], [0.1, 0.25]] # make F/rhos"
   ]
  },
  {
   "cell_type": "code",
   "execution_count": 4,
   "metadata": {},
   "outputs": [
    {
     "name": "stdout",
     "output_type": "stream",
     "text": [
      "F: [[0.35, 0.2], [0.1, 0.25]]\n",
      "Rhos: [0.31622777 0.2236068 ]\n",
      "Lgds: [1000.5, 2000.5]\n",
      "p_zeros: [0.15, 0.25]\n"
     ]
    }
   ],
   "source": [
    "# Build noise model from backend properties\n",
    "fake_backend = FakeGuadalupe()\n",
    "\n",
    "# set problem parameters\n",
    "n_z = 2\n",
    "z_max = 2\n",
    "z_values = np.linspace(-z_max, z_max, 2**n_z)\n",
    "\n",
    "# clusters 1118 e 1618  \n",
    "p_zeros = [0.15, 0.25] #[el['pd'] for _, el in df.iterrows()]                                                             #[0.15, 0.25, 0.2]\n",
    "rhos = [0.1, 0.05] #[el['is']**2 for _, el in df.iterrows()]    #not the same as the paper                                 #[0.1, 0.05, 0.2]\n",
    "lgd = [1000.5, 2000.5] #[el['lgd dwt']*el['ead'] for _, el in df.iterrows()] # = [425701.9399312228, 3376.692855]           #[1, 1, 1] [0.67, 0.49] \n",
    "\n",
    "K = len(p_zeros)\n",
    "\n",
    "n_shots = 2048\n",
    "optimization_level = 1\n",
    "alpha_var = 0.05\n",
    "\n",
    "print(f'F: {alphas_list}\\nRhos: {np.sqrt(rhos)}\\nLgds: {lgd}\\np_zeros: {p_zeros}')\n",
    "# df"
   ]
  },
  {
   "cell_type": "code",
   "execution_count": 5,
   "metadata": {
    "tags": []
   },
   "outputs": [],
   "source": [
    "# This code is part of Qiskit.\n",
    "#\n",
    "# (C) Copyright IBM 2019, 2021.\n",
    "#\n",
    "# This code is licensed under the Apache License, Version 2.0. You may\n",
    "# obtain a copy of this license in the LICENSE.txt file in the root directory\n",
    "# of this source tree or at http://www.apache.org/licenses/LICENSE-2.0.\n",
    "#\n",
    "# Any modifications or derivative works of this code must retain this\n",
    "# copyright notice, and modified files need to carry a notice indicating\n",
    "# that they have been altered from the originals.\n",
    "\n",
    "\"\"\"Multivariate Gaussian Conditional Independence Model for Credit Risk.\"\"\"\n",
    "\n",
    "from typing import List, Union\n",
    "import numpy as np\n",
    "from scipy.stats.distributions import norm\n",
    "\n",
    "from qiskit.circuit import QuantumCircuit\n",
    "from qiskit.circuit.library import LinearPauliRotations\n",
    "from qiskit_finance.circuit.library import NormalDistribution\n",
    "from qiskit.circuit.library.generalized_gates import mcmt\n",
    "\n",
    "\n",
    "class MultivariateGCI(QuantumCircuit):\n",
    "    \"\"\"Attempt for a multivariate Gaussian Conditional \n",
    "    Independence Model for Credit Risk.\n",
    "    \"\"\"\n",
    "\n",
    "\n",
    "    def __init__(\n",
    "        self,\n",
    "        n_normal: int,\n",
    "        normal_max_value: float,\n",
    "        p_zeros: Union[List[float], np.ndarray],\n",
    "        rhos: Union[List[float], np.ndarray],\n",
    "        alphas_list: List[float],\n",
    "    ) -> None:\n",
    "        \"\"\"\n",
    "        Args:\n",
    "            n_normal: Number of qubits to represent the latent normal random variable Z\n",
    "            normal_max_value: Min/max value to truncate the latent normal random variable Z\n",
    "            p_zeros: Standard default probabilities for each asset\n",
    "            rhos: Sensitivities of default probability of assets with respect to latent variable Z\n",
    "        \"\"\"\n",
    "        self.n_normal = n_normal\n",
    "        self.normal_max_value = normal_max_value\n",
    "        self.p_zeros = p_zeros\n",
    "        self.rhos = rhos\n",
    "        num_qubits = n_normal*len(sectors) + len(p_zeros)\n",
    "\n",
    "        # get normal (inverse) CDF and pdf (these names are from the paper, therefore ignore\n",
    "        # pylint)\n",
    "        def F(x):  # pylint: disable=invalid-name\n",
    "            return norm.cdf(x)\n",
    "\n",
    "        def F_inv(x):  # pylint: disable=invalid-name\n",
    "            return norm.ppf(x)\n",
    "\n",
    "        def f(x):  # pylint: disable=invalid-name\n",
    "            return norm.pdf(x)\n",
    "\n",
    "        # create linear rotations for conditional defaults\n",
    "        slopes = []\n",
    "        offsets = []\n",
    "        for rho, p_zero, alphas in zip(rhos, p_zeros, alphas_list):\n",
    "            psi = F_inv(p_zero) / np.sqrt(1 - rho) \n",
    "            # compute slope / offset\n",
    "            slope_list = []\n",
    "            case=[]\n",
    "            for i in range(len(sectors)):\n",
    "                slope = -np.sqrt(rho)*alphas[i] / np.sqrt(1 - rho) #-alphas[i] / np.sqrt(1 - rho) #\n",
    "                slope *= f(psi) / np.sqrt(1 - F(psi)) / np.sqrt(F(psi))\n",
    "                slope_list.append(slope)\n",
    "            \n",
    "            offset = 2 * np.arcsin(np.sqrt(F(psi)))\n",
    "            #print(offset)\n",
    "\n",
    "            # adjust for integer to normal range mapping\n",
    "            for i in range(len(sectors)):\n",
    "                offset += slope_list[i] * (-normal_max_value)\n",
    "                slope_list[i] *= 2 * normal_max_value / (2 ** n_normal - 1)\n",
    "\n",
    "            offsets += [offset]\n",
    "            slopes += [slope_list]\n",
    "            \n",
    "        # create normal distributions        \n",
    "        normal_distributions = []\n",
    "        for i in range(len(sectors)):\n",
    "            dist = NormalDistribution(\n",
    "                        n_normal,\n",
    "                        0,\n",
    "                        1, \n",
    "                        bounds=(-normal_max_value, normal_max_value)\n",
    "                    )\n",
    "            normal_distributions.append(dist)\n",
    "\n",
    "        # build circuit\n",
    "        inner = QuantumCircuit(num_qubits, name=\"P(X)\")\n",
    "        #inner.append(normal_distribution.to_gate(), list(range(n_normal*2)))\n",
    "        for i, el in enumerate(normal_distributions):\n",
    "            inner.append(el.to_gate(), list(range(i*n_normal,(i+1)*n_normal)))\n",
    "        #inner.draw()\n",
    "\n",
    "        for k, (slope, offset) in enumerate(zip(slopes, offsets)):\n",
    "            #lry = LinearPauliRotations(n_normal, slope, offset)\n",
    "            for i in range(len(sectors)):\n",
    "                if i == 0:\n",
    "                    lry = LinearPauliRotations(n_normal, slope[i], offset)\n",
    "                else:\n",
    "                    lry = LinearPauliRotations(n_normal, slope[i], 0) \n",
    "                qubits = list(range(i*n_normal,(i+1)*n_normal)) + [n_normal*len(sectors) + k]\n",
    "            \n",
    "                inner.append(lry.to_gate(), qubits)\n",
    "\n",
    "        super().__init__(num_qubits, name=\"P(X)\")\n",
    "        self.append(inner.to_gate(), inner.qubits)"
   ]
  },
  {
   "cell_type": "code",
   "execution_count": 6,
   "metadata": {
    "tags": []
   },
   "outputs": [],
   "source": [
    "# This code is part of Qiskit.\n",
    "#\n",
    "# (C) Copyright IBM 2019, 2021.\n",
    "#\n",
    "# This code is licensed under the Apache License, Version 2.0. You may\n",
    "# obtain a copy of this license in the LICENSE.txt file in the root directory\n",
    "# of this source tree or at http://www.apache.org/licenses/LICENSE-2.0.\n",
    "#\n",
    "# Any modifications or derivative works of this code must retain this\n",
    "# copyright notice, and modified files need to carry a notice indicating\n",
    "# that they have been altered from the originals.\n",
    "\n",
    "\"\"\"The Gaussian Conditional Independence Model for Credit Risk.\"\"\"\n",
    "\n",
    "from typing import List, Union\n",
    "import numpy as np\n",
    "from scipy.stats.distributions import norm\n",
    "\n",
    "from qiskit.circuit import QuantumCircuit\n",
    "from qiskit.circuit.library import LinearPauliRotations\n",
    "from qiskit_finance.circuit.library import NormalDistribution\n",
    "from qiskit.circuit.library import WeightedAdder\n",
    "\n",
    "\n",
    "class MultivariateGCI_woerner(QuantumCircuit):\n",
    "    \"\"\"The Gaussian Conditional Independence Model for Credit Risk.\n",
    "    Reference: https://arxiv.org/abs/1412.1183\n",
    "    Dependency between individual risk variables and latent variable is approximated linearly.\n",
    "    \"\"\"\n",
    "\n",
    "    def __init__(\n",
    "        self,\n",
    "        n_normal: int,\n",
    "        normal_max_value: float,\n",
    "        p_zeros: Union[List[float], np.ndarray],\n",
    "        rhos: Union[List[float], np.ndarray],\n",
    "        alphas: List[float],\n",
    "    ) -> None:\n",
    "        \"\"\"\n",
    "        Args:\n",
    "            n_normal: Number of qubits to represent the latent normal random variable Z\n",
    "            normal_max_value: Min/max value to truncate the latent normal random variable Z\n",
    "            p_zeros: Standard default probabilities for each asset\n",
    "            rhos: Sensitivities of default probability of assets with respect to latent variable Z\n",
    "        \"\"\"\n",
    "        self.n_normal = n_normal\n",
    "        self.normal_max_value = normal_max_value\n",
    "        self.p_zeros = p_zeros\n",
    "        self.rhos = rhos\n",
    "        num_qubits = n_normal*len(alphas) + len(p_zeros)\n",
    "\n",
    "        # get normal (inverse) CDF and pdf (these names are from the paper, therefore ignore\n",
    "        # pylint)\n",
    "        def F(x):  # pylint: disable=invalid-name\n",
    "            return norm.cdf(x)\n",
    "\n",
    "        def F_inv(x):  # pylint: disable=invalid-name\n",
    "            return norm.ppf(x)\n",
    "\n",
    "        def f(x):  # pylint: disable=invalid-name\n",
    "            return norm.pdf(x)\n",
    "\n",
    "        # create linear rotations for conditional defaults\n",
    "        slopes = []\n",
    "        offsets = []\n",
    "        for rho, p_zero in zip(rhos, p_zeros):\n",
    "            psi = F_inv(p_zero) / np.sqrt(1 - rho)\n",
    "\n",
    "            # compute slope / offset\n",
    "            slope = -np.sqrt(rho) / np.sqrt(1 - rho) #-1 / np.sqrt(1 - rho) \n",
    "            offset = 2 * np.arcsin(np.sqrt(F(psi)))\n",
    "            slope *= f(psi) / np.sqrt(1 - F(psi)) / np.sqrt(F(psi))\n",
    "            \n",
    "\n",
    "            # adjust for integer to normal range mapping\n",
    "            offset += slope * (-normal_max_value) * len(alphas)\n",
    "            slope *= 2 * normal_max_value / (2 ** n_normal - 1)\n",
    "\n",
    "            offsets += [offset]\n",
    "            slopes += [slope]\n",
    "\n",
    "        # create multivariate normal distribution\n",
    "        normal_distribution = NormalDistribution(\n",
    "            list(np.zeros(len(alphas), dtype=int)+n_z),\n",
    "            list(np.zeros(len(alphas), dtype=int)),\n",
    "            np.diag(np.array(alphas)**2), \n",
    "            bounds=[(-normal_max_value, normal_max_value) for i in range(len(alphas))],\n",
    "        )\n",
    "\n",
    "        # create WeightedAdder\n",
    "        weights = []\n",
    "        for n in [n_normal]*len(alphas):\n",
    "            for i in range(n):\n",
    "                weights += [2**i]\n",
    "        Y_risk = WeightedAdder(n_normal*len(alphas), weights) \n",
    "        #print(Y_risk.num_sum_qubits)\n",
    "\n",
    "        # build circuit\n",
    "        non_state_qubits = Y_risk.num_sum_qubits+Y_risk.num_carry_qubits+Y_risk.num_control_qubits\n",
    "        inner = QuantumCircuit(num_qubits+non_state_qubits, name=\"P(X)\")\n",
    "        inner.append(normal_distribution.to_gate(), list(range(n_normal*len(alphas))))\n",
    "        inner.append(Y_risk.to_gate(), list(range(n_normal*len(alphas)+non_state_qubits)))\n",
    "\n",
    "        for k, (slope, offset) in enumerate(zip(slopes, offsets)):\n",
    "            lry = LinearPauliRotations(Y_risk.num_sum_qubits, slope, offset)\n",
    "            qubits = list(range(Y_risk.num_state_qubits, Y_risk.num_state_qubits+Y_risk.num_sum_qubits)) + [Y_risk.num_qubits + k]\n",
    "            inner.append(lry.to_gate(), qubits)\n",
    "\n",
    "        super().__init__(num_qubits+non_state_qubits, name=\"P(X)\")\n",
    "        self.append(inner.to_gate(), inner.qubits)"
   ]
  },
  {
   "cell_type": "code",
   "execution_count": 7,
   "metadata": {},
   "outputs": [
    {
     "name": "stdout",
     "output_type": "stream",
     "text": [
      "\\documentclass[border=2px]{standalone}\n",
      "\n",
      "\\usepackage[braket, qm]{qcircuit}\n",
      "\\usepackage{graphicx}\n",
      "\n",
      "\\begin{document}\n",
      "\\scalebox{1.0}{\n",
      "\\Qcircuit @C=1.0em @R=1.0em @!R { \\\\\n",
      "\t \t\\nghost{{q}_{0} :  } & \\lstick{{q}_{0} :  } & \\multigate{1}{\\mathrm{P(X)}}_<<<{0} & \\multigate{4}{\\mathrm{LinRot}}_<<<{0} & \\qw & \\multigate{5}{\\mathrm{LinRot}}_<<<{0} & \\qw & \\qw & \\qw\\\\\n",
      "\t \t\\nghost{{q}_{1} :  } & \\lstick{{q}_{1} :  } & \\ghost{\\mathrm{P(X)}}_<<<{1} & \\ghost{\\mathrm{LinRot}}_<<<{1} & \\qw & \\ghost{\\mathrm{LinRot}}_<<<{1} & \\qw & \\qw & \\qw\\\\\n",
      "\t \t\\nghost{{q}_{2} :  } & \\lstick{{q}_{2} :  } & \\multigate{1}{\\mathrm{P(X)}}_<<<{0} & \\ghost{\\mathrm{LinRot}} & \\multigate{2}{\\mathrm{LinRot}}_<<<{0} & \\ghost{\\mathrm{LinRot}} & \\multigate{3}{\\mathrm{LinRot}}_<<<{0} & \\qw & \\qw\\\\\n",
      "\t \t\\nghost{{q}_{3} :  } & \\lstick{{q}_{3} :  } & \\ghost{\\mathrm{P(X)}}_<<<{1} & \\ghost{\\mathrm{LinRot}} & \\ghost{\\mathrm{LinRot}}_<<<{1} & \\ghost{\\mathrm{LinRot}} & \\ghost{\\mathrm{LinRot}}_<<<{1} & \\qw & \\qw\\\\\n",
      "\t \t\\nghost{{q}_{4} :  } & \\lstick{{q}_{4} :  } & \\qw & \\ghost{\\mathrm{LinRot}}_<<<{2} & \\ghost{\\mathrm{LinRot}}_<<<{2} & \\ghost{\\mathrm{LinRot}} & \\ghost{\\mathrm{LinRot}} & \\qw & \\qw\\\\\n",
      "\t \t\\nghost{{q}_{5} :  } & \\lstick{{q}_{5} :  } & \\qw & \\qw & \\qw & \\ghost{\\mathrm{LinRot}}_<<<{2} & \\ghost{\\mathrm{LinRot}}_<<<{2} & \\qw & \\qw\\\\\n",
      "\\\\ }}\n",
      "\\end{document}\n"
     ]
    },
    {
     "data": {
      "image/png": "[encoded data removed]",
      "text/plain": [
       "<Figure size 628.397x385.28 with 1 Axes>"
      ]
     },
     "execution_count": 7,
     "metadata": {},
     "output_type": "execute_result"
    }
   ],
   "source": [
    "from qiskit_finance.circuit.library import GaussianConditionalIndependenceModel as GCI\n",
    "\n",
    "if len(sectors) == 1:\n",
    "    u = GCI(n_z, z_max, p_zeros, rhos)\n",
    "else:\n",
    "    # u = MultivariateGCI_woerner(n_z, z_max, p_zeros, rhos, alphas_list[1])\n",
    "    u = MultivariateGCI(n_z, z_max, p_zeros, rhos, alphas_list)\n",
    "# u.decompose().decompose().decompose().decompose().decompose().draw(filename='u_circuit.svg', fold=22)\n",
    "print(u.decompose().draw(output='latex_source'))\n",
    "u.decompose().draw(filename='u_circuit.svg', fold=22)"
   ]
  },
  {
   "cell_type": "code",
   "execution_count": 8,
   "metadata": {},
   "outputs": [
    {
     "name": "stdout",
     "output_type": "stream",
     "text": [
      "Expected Loss E[L]:                628.2038\n",
      "Value at Risk VaR[L]:              2000.5000\n"
     ]
    }
   ],
   "source": [
    "# run the circuit and analyze the results\n",
    "job = execute(u, backend=Aer.get_backend('statevector_simulator'), n_shots=n_shots)\n",
    "\n",
    "# analyze uncertainty circuit and determine exact solutions\n",
    "p_z = np.zeros(2**n_z)\n",
    "p_default = np.zeros(K)\n",
    "values = []\n",
    "probabilities = []\n",
    "num_qubits = u.num_qubits\n",
    "for i, a in enumerate(np.array(job.result().get_statevector())):\n",
    "    \n",
    "    # get binary representation\n",
    "    b = ('{0:0%sb}' % num_qubits).format(i)\n",
    "    prob = np.abs(a)**2\n",
    "    \n",
    "    # extract value of Z and corresponding probability    \n",
    "    i_normal = int(b[-n_z:], 2)\n",
    "    p_z[i_normal] += prob\n",
    "\n",
    "    # determine overall default probability for k \n",
    "    loss = 0\n",
    "    for k in range(K):\n",
    "        if b[K - k - 1] == '1':\n",
    "            p_default[k] += prob\n",
    "            loss += lgd[k]\n",
    "    values += [loss]\n",
    "    probabilities += [prob]   \n",
    "\n",
    "values = np.array(values)\n",
    "probabilities = np.array(probabilities)\n",
    "    \n",
    "expected_loss = np.dot(values, probabilities)\n",
    "\n",
    "losses = np.sort(np.unique(values))\n",
    "pdf = np.zeros(len(losses))\n",
    "for i, v in enumerate(losses):\n",
    "    pdf[i] += sum(probabilities[values == v])\n",
    "cdf = np.cumsum(pdf)\n",
    "\n",
    "i_var = np.argmax(cdf >= 1-alpha_var)\n",
    "exact_var = losses[i_var]\n",
    "\n",
    "print('Expected Loss E[L]:                %.4f' % expected_loss)\n",
    "print('Value at Risk VaR[L]:              %.4f' % exact_var)"
   ]
  },
  {
   "cell_type": "code",
   "execution_count": 9,
   "metadata": {},
   "outputs": [],
   "source": [
    "def mapping(decimal_number):\n",
    "    b = ('{0:0%sb}' % K).format(decimal_number)\n",
    "    #print(b)\n",
    "    losses = [loss for i, loss in enumerate(lgd[::-1]) if b[i]=='1']\n",
    "    #print(losses)\n",
    "    total_loss = sum(losses)\n",
    "    return total_loss\n",
    "\n",
    "def find_breakpoint(x_eval):\n",
    "    for el in range(0,2**K):\n",
    "        if mapping(el) <= x_eval:\n",
    "            if mapping(el+1) >= x_eval:\n",
    "                return el\n",
    "    return 0"
   ]
  },
  {
   "cell_type": "code",
   "execution_count": 11,
   "metadata": {
    "tags": []
   },
   "outputs": [],
   "source": [
    "depth = 'full'\n",
    "\n",
    "if depth == 'e_loss':\n",
    "    # define linear objective function for expected loss\n",
    "    breakpoints = list(range(0,2**K))\n",
    "    slopes = [0]*len(breakpoints)\n",
    "    offsets = [mapping(el) for el in breakpoints]\n",
    "    f_min = 0\n",
    "    f_max = sum(lgd)\n",
    "    c_approx = 0.01\n",
    "\n",
    "    objective_e_loss = LinearAmplitudeFunction(\n",
    "        K,\n",
    "        slope=slopes, \n",
    "        offset=offsets, \n",
    "        # max value that can be reached by the qubit register (will not always be reached)\n",
    "        domain=(0, 2**K-1),  \n",
    "        image=(f_min, f_max),\n",
    "        rescaling_factor=c_approx,\n",
    "        breakpoints=breakpoints\n",
    "    )"
   ]
  },
  {
   "cell_type": "code",
   "execution_count": 17,
   "metadata": {},
   "outputs": [
    {
     "name": "stdout",
     "output_type": "stream",
     "text": [
      "Operator CDF(3001) = 1.0000\n"
     ]
    },
    {
     "data": {
      "image/png": "[encoded data removed]",
      "text/plain": [
       "<Figure size 275.791x565.88 with 1 Axes>"
      ]
     },
     "execution_count": 17,
     "metadata": {},
     "output_type": "execute_result"
    }
   ],
   "source": [
    "from qiskit.circuit.library import LinearAmplitudeFunction\n",
    "\n",
    "\n",
    "def get_cdf_circuit(x_eval):\n",
    "    \n",
    "    # define linear objective function for cdf\n",
    "    breakpoints = list(range(0,2**K))\n",
    "    slopes = [0]*len(breakpoints)\n",
    "    # print(values)\n",
    "    offsets = [1 if mapping(el)<=x_eval else 0 for el in breakpoints]\n",
    "    f_min = 0\n",
    "    f_max = 1\n",
    "    c_approx = 0.01\n",
    "    \n",
    "    objective = LinearAmplitudeFunction(\n",
    "        K,\n",
    "        slope=slopes, \n",
    "        offset=offsets, \n",
    "        # max value that can be reached by the qubit register (will not always be reached)\n",
    "        domain=(0, 2**K-1),  \n",
    "        image=(f_min, f_max),\n",
    "        rescaling_factor=c_approx,\n",
    "        breakpoints=breakpoints\n",
    "    )\n",
    "\n",
    "    # define the registers for convenience and readability\n",
    "    qr_state = QuantumRegister(u.num_qubits, 'state')\n",
    "    qr_obj = QuantumRegister(1, 'objective')\n",
    "    ar = QuantumRegister(objective.num_ancillas, \"work\")  # additional qubits\n",
    "\n",
    "    # define the circuit\n",
    "    state_preparation = QuantumCircuit(qr_state, qr_obj, ar, name='A')\n",
    "\n",
    "    # load the random variable\n",
    "    state_preparation.append(u.to_gate(), qr_state)\n",
    "\n",
    "    # linear objective function (does aggregation and comparison)\n",
    "    if depth == 'e_loss':\n",
    "        state_preparation.append(objective_e_loss.to_gate(), qr_state[-K:] + qr_obj[:] + ar[:])\n",
    "        return state_preparation, objective_e_loss\n",
    "    else:\n",
    "        state_preparation.append(objective.to_gate(), qr_state[-K:] + qr_obj[:] + ar[:])\n",
    "        return state_preparation, objective\n",
    "    \n",
    "example = 3001\n",
    "state_preparation, objective = get_cdf_circuit(example)\n",
    "job = execute(state_preparation, backend=Aer.get_backend('statevector_simulator'), shots=2048)\n",
    "\n",
    "# evaluate resulting statevector\n",
    "var_prob = 0\n",
    "for i, a in enumerate(np.array(job.result().get_statevector())):\n",
    "    b = ('{0:0%sb}' % (u.num_qubits + 1)).format(i)[-(u.num_qubits + 1):]\n",
    "    prob = np.abs(a)**2\n",
    "    if b[0] == '1':\n",
    "        var_prob += prob\n",
    "if depth == 'e_loss':\n",
    "    print('Operator Expected Loss' + ' = %.4f' % objective.post_processing(var_prob))\n",
    "else:\n",
    "    print('Operator CDF(%s)' % example + ' = %.4f' % objective.post_processing(var_prob))\n",
    "state_preparation.draw()"
   ]
  },
  {
   "cell_type": "code",
   "execution_count": 20,
   "metadata": {},
   "outputs": [
    {
     "data": {
      "image/png": "[encoded data removed]",
      "text/plain": [
       "<Figure size 1149.38x325.08 with 1 Axes>"
      ]
     },
     "execution_count": 20,
     "metadata": {},
     "output_type": "execute_result"
    }
   ],
   "source": [
    "objective.decompose().decompose().draw() #scales as 2^K-1"
   ]
  },
  {
   "cell_type": "code",
   "execution_count": 75,
   "metadata": {
    "tags": []
   },
   "outputs": [],
   "source": [
    "import time\n",
    "# set target precision and confidence level\n",
    "epsilon = 0.002 #0.01\n",
    "alpha = 0.01 #0.05\n",
    "\n",
    "device = QasmSimulator.from_backend(fake_backend)\n",
    "coupling_map = device.configuration().coupling_map\n",
    "noise_model = NoiseModel.from_backend(device)\n",
    "basis_gates = noise_model.basis_gates\n",
    "\n",
    "qi_ideal = QuantumInstance(Aer.get_backend('aer_simulator'), shots=n_shots, \n",
    "                           optimization_level=optimization_level, seed_transpiler=42)\n",
    "\n",
    "# qi_noise = QuantumInstance(provider.get_backend('ibm_perth'), shots=n_shots, \n",
    "#                             optimization_level=optimization_level, seed_transpiler=42)\n",
    "\n",
    "qi_noise = QuantumInstance(QasmSimulator.from_backend(fake_backend), shots=n_shots, \n",
    "                           optimization_level=optimization_level, seed_transpiler=42)"
   ]
  },
  {
   "cell_type": "code",
   "execution_count": 76,
   "metadata": {
    "tags": []
   },
   "outputs": [
    {
     "name": "stdout",
     "output_type": "stream",
     "text": [
      "result with no noise: 645.33802437919\n"
     ]
    }
   ],
   "source": [
    "depth = 'e_loss'\n",
    "if depth == 'e_loss':\n",
    "    start_time = time.time()\n",
    "    problem = EstimationProblem(state_preparation=state_preparation,\n",
    "                                objective_qubits=[u.num_qubits],\n",
    "                                post_processing=objective.post_processing)\n",
    "    # construct amplitude estimation \n",
    "    ae = IterativeAmplitudeEstimation(epsilon, alpha=alpha, quantum_instance=qi_ideal)\n",
    "    result = ae.estimate(problem)\n",
    "    q_samples_ideal = 2**len(result.powers)-1\n",
    "    # save results\n",
    "    conf_int_ideal = np.array(result.confidence_interval_processed)\n",
    "    result_ideal = result.estimation_processed\n",
    "    runtime_ideal = time.time() - start_time\n",
    "    ideal_result = result\n",
    "\n",
    "    print(\"result with no noise:\", result_ideal)\n",
    "\n",
    "#     start_time = time.time()\n",
    "#     problem = EstimationProblem(state_preparation=state_preparation,\n",
    "#                                 objective_qubits=[u.num_qubits],\n",
    "#                                 post_processing=objective.post_processing)\n",
    "#     # construct amplitude estimation\n",
    "#     ae = IterativeAmplitudeEstimation(epsilon, alpha=alpha, quantum_instance=qi_noise)\n",
    "#     result = ae.estimate(problem)\n",
    "#     q_samples_noisy = 2**len(result.powers)-1\n",
    "\n",
    "#     # print results\n",
    "#     conf_int_noisy = np.array(result.confidence_interval_processed)\n",
    "#     result_noisy = result.estimation_processed\n",
    "#     runtime_noisy = time.time() - start_time\n",
    "#     noisy_result = result\n",
    "    \n",
    "#     print(\"\\nresult with noise:\", result_noisy)"
   ]
  },
  {
   "cell_type": "code",
   "execution_count": 77,
   "metadata": {
    "tags": []
   },
   "outputs": [
    {
     "name": "stdout",
     "output_type": "stream",
     "text": [
      "293116\n",
      "362333\n"
     ]
    },
    {
     "data": {
      "image/png": "[encoded data removed]",
      "text/plain": [
       "<Figure size 340.523x927.08 with 1 Axes>"
      ]
     },
     "execution_count": 77,
     "metadata": {},
     "output_type": "execute_result"
    }
   ],
   "source": [
    "from qiskit import transpile\n",
    "from qiskit.visualization import plot_circuit_layout\n",
    "\n",
    "ae_circuit = ae.construct_circuit(problem, k=2)\n",
    "tr_ae_circuit = transpile(ae_circuit, optimization_level=optimization_level, backend=fake_backend, seed_transpiler=42)\n",
    "print(tr_ae_circuit.depth()) # Return circuit depth (i.e., length of critical path).\n",
    "print(tr_ae_circuit.size()) # Returns total number of instructions in circuit.\n",
    "\n",
    "# noise_model = NoiseModel.from_backend(QasmSimulator.from_backend(fake_backend))\n",
    "# basis_gates = noise_model.basis_gates\n",
    "# tr_ae_circuit = transpile(ae_circuit, basis_gates=basis_gates, optimization_level=optimization_level)\n",
    "\n",
    "ae_circuit.decompose().draw(\"mpl\", style=\"iqx\")\n",
    "#plot_circuit_layout(tr_ae_circuit, fake_backend)\n",
    "# ae_circuit.decompose().decompose().decompose().decompose().decompose().decompose().decompose().decompose().decompose().size()"
   ]
  },
  {
   "cell_type": "code",
   "execution_count": 17,
   "metadata": {},
   "outputs": [],
   "source": [
    "def run_ae_for_cdf(x_eval, epsilon=epsilon, alpha=alpha, simulator='aer_simulator', noise=False):\n",
    "\n",
    "    # construct amplitude estimation \n",
    "    state_preparation, objective = get_cdf_circuit(x_eval)\n",
    "    \n",
    "    if noise == False:\n",
    "        qi = QuantumInstance(Aer.get_backend('aer_simulator'), shots=n_shots, )\n",
    "                               #optimization_level=optimization_level, seed_transpiler=42)\n",
    "    else:\n",
    "        qi = QuantumInstance(QasmSimulator.from_backend(fake_backend), shots=n_shots, )\n",
    "                               #optimization_level=optimization_level, seed_transpiler=42)\n",
    "        \n",
    "    problem = EstimationProblem(state_preparation=state_preparation,\n",
    "                                objective_qubits=[u.num_qubits])\n",
    "    \n",
    "    ae_var = IterativeAmplitudeEstimation(epsilon, alpha=alpha, quantum_instance=qi)\n",
    "    #ae_circuit = ae_var.construct_circuit(problem, k=50000, measurement=False)\n",
    "    result_var = ae_var.estimate(problem)\n",
    "    print(result_var.num_oracle_queries)\n",
    "    \n",
    "    return objective.post_processing(result_var.estimation)#, ae_circuit, result_var"
   ]
  },
  {
   "cell_type": "code",
   "execution_count": 26,
   "metadata": {},
   "outputs": [
    {
     "name": "stdout",
     "output_type": "stream",
     "text": [
      "204800\n",
      "20480\n",
      "276480\n",
      "18432\n",
      "[0.6475004255444701, 0.7226032851979937, 0.9669731682100695, 1.011259526079844]\n"
     ]
    }
   ],
   "source": [
    "cdf = [run_ae_for_cdf(el, epsilon=epsilon, alpha=alpha) for el in [0]+lgd+[np.sum(lgd)]] # not general!\n",
    "print(cdf)"
   ]
  },
  {
   "cell_type": "code",
   "execution_count": 19,
   "metadata": {},
   "outputs": [
    {
     "data": {
      "image/png": "[encoded data removed]",
      "text/plain": [
       "<Figure size 432x288 with 1 Axes>"
      ]
     },
     "metadata": {
      "needs_background": "light"
     },
     "output_type": "display_data"
    }
   ],
   "source": [
    "# plot loss CDF\n",
    "plt.rcParams['text.usetex'] = True\n",
    "plt.plot(np.sort(np.unique(losses)), cdf, 'o-g')\n",
    "plt.axhline(1-alpha_var, color=\"orange\", linestyle=\"--\")\n",
    "   \n",
    "plt.xlabel(\"Loss L (\\$)\", size=17)\n",
    "plt.ylabel(r'$P[\\mathcal{L} \\leq X]$', size=17) \n",
    "plt.title (\"CDF of Total Loss\", size=17)\n",
    "plt.xticks(np.sort(np.unique(losses)), np.sort(np.unique(losses)), size=17)\n",
    "plt.yticks(size=17)\n",
    "plt.savefig('cdf.svg', dpi=400, bbox_inches = \"tight\")\n",
    "plt.show()"
   ]
  },
  {
   "cell_type": "code",
   "execution_count": 20,
   "metadata": {},
   "outputs": [
    {
     "data": {
      "image/png": "[encoded data removed]",
      "text/plain": [
       "<Figure size 432x288 with 1 Axes>"
      ]
     },
     "metadata": {
      "needs_background": "light"
     },
     "output_type": "display_data"
    }
   ],
   "source": [
    "# plot loss PDF, expected loss, var, and evar\n",
    "pdf = [el-np.sum(cdf[i-1:i]) for i, el in enumerate(cdf)]\n",
    "plt.bar(np.sort(np.unique(losses)), pdf, align = \"center\", width = 350)\n",
    "plt.axvline(expected_loss, color=\"green\", linestyle=\"--\", label=\"E[L]\") \n",
    "plt.axvline(exact_var, color=\"orange\", linestyle=\"--\", label=\"VaR(L)\")\n",
    " \n",
    "plt.legend(fontsize=17)\n",
    "plt.xlabel(\"Loss L (`\\$)\", size=17)\n",
    "plt.ylabel(\"probability\", size=17)\n",
    "plt.title (\"PDF of Total Loss\", size=17)\n",
    "plt.xticks(np.sort(np.unique(losses)), np.sort(np.unique(losses)), size=17)\n",
    "plt.yticks(size=17)\n",
    "plt.savefig('pdf.svg', dpi=300, bbox_inches = \"tight\")\n",
    "plt.show()"
   ]
  },
  {
   "cell_type": "code",
   "execution_count": 21,
   "metadata": {},
   "outputs": [],
   "source": [
    "def bisection_search(objective, target_value, low_level, high_level, low_value=None, high_value=None):\n",
    "    \"\"\"\n",
    "    Determines the smallest level such that the objective value is still larger than the target\n",
    "    :param objective: objective function\n",
    "    :param target: target value\n",
    "    :param low_level: lowest level to be considered\n",
    "    :param high_level: highest level to be considered\n",
    "    :param low_value: value of lowest level (will be evaluated if set to None)\n",
    "    :param high_value: value of highest level (will be evaluated if set to None)\n",
    "    :return: dictionary with level, value, num_eval\n",
    "    \"\"\"\n",
    "\n",
    "    # check whether low and high values are given and evaluated them otherwise\n",
    "    print('--------------------------------------------------------------------')\n",
    "    print('start bisection search for target value %.3f' % target_value)\n",
    "    print('--------------------------------------------------------------------')\n",
    "    num_eval = 0\n",
    "    if low_value is None:\n",
    "        low_value = objective(low_level)\n",
    "        num_eval += 1\n",
    "    if high_value is None:\n",
    "        high_value = objective(high_level)\n",
    "        num_eval += 1    \n",
    "        \n",
    "    # check if low_value already satisfies the condition\n",
    "    if low_value > target_value:\n",
    "        return {'level': low_level, 'value': low_value, 'num_eval': num_eval, 'comment': 'returned low value'}\n",
    "    elif low_value == target_value:\n",
    "        return {'level': low_level, 'value': low_value, 'num_eval': num_eval, 'comment': 'success'}\n",
    "\n",
    "    # check if high_value is above target\n",
    "    if high_value < target_value:\n",
    "        return {'level': high_level, 'value': high_value, 'num_eval': num_eval, 'comment': 'returned low value'}\n",
    "    elif high_value == target_value:\n",
    "        return {'level': high_level, 'value': high_value, 'num_eval': num_eval, 'comment': 'success'}\n",
    "\n",
    "    # perform bisection search until\n",
    "    print('low_level    low_value    level    value     high_level    high_value')\n",
    "    print('--------------------------------------------------------------------')\n",
    "    while high_level - low_level > 0.1:\n",
    "\n",
    "        level = (high_level + low_level) / 2.0\n",
    "        num_eval += 1\n",
    "        value = objective(level)\n",
    "\n",
    "        print('%.2f     %.3f      %.2f   %.3f      %.2f       %.3f' \\\n",
    "              % (low_level, low_value, level, value, high_level, high_value))\n",
    "\n",
    "        if value >= target_value:\n",
    "            high_level = level\n",
    "            high_value = value\n",
    "        else:\n",
    "            low_level = level\n",
    "            low_value = value\n",
    "\n",
    "    # return high value after bisection search\n",
    "    print('--------------------------------------------------------------------')\n",
    "    print('finished bisection search')\n",
    "    print('--------------------------------------------------------------------')\n",
    "    return {'level': high_level, 'value': high_value, 'num_eval': num_eval, 'comment': 'success'}"
   ]
  },
  {
   "cell_type": "code",
   "execution_count": null,
   "metadata": {},
   "outputs": [],
   "source": [
    "# run bisection search to determine VaR\n",
    "\n",
    "objective_ideal = lambda x: run_ae_for_cdf(x)\n",
    "objective_noisy = lambda x: run_ae_for_cdf(x, noise=True)\n",
    "\n",
    "bisection_result_ideal = bisection_search(objective_ideal, 1-alpha_var, min(losses)-0.001, max(losses), low_value=0, high_value=1)\n",
    "# bisection_result_noisy = bisection_search(objective_noisy, 1-alpha, min(losses)-0.1, max(losses), low_value=0, high_value=1)\n",
    "\n",
    "var = bisection_result_ideal['level']\n",
    "# var_noisy = bisection_result_noisy['level']\n",
    "\n",
    "print('Estimated Value at Risk: %.3f' % var)\n",
    "# print('Estimated (w noise) Value at Risk: %.3f' % var_noisy)\n",
    "print('Exact Value at Risk:     %.3f' % exact_var)\n",
    "print('Estimated Probability:    %.3f' % bisection_result_ideal['value'])"
   ]
  }
 ],
 "metadata": {
  "interpreter": {
   "hash": "78db515f20ea3ea4a5e6010e5f5c6acdfd5c894326950d3f89ba334738678483"
  },
  "kernelspec": {
   "display_name": "Qiskit v0.35.0 (ipykernel)",
   "language": "python",
   "name": "python3"
  },
  "language_info": {
   "codemirror_mode": {
    "name": "ipython",
    "version": 3
   },
   "file_extension": ".py",
   "mimetype": "text/x-python",
   "name": "python",
   "nbconvert_exporter": "python",
   "pygments_lexer": "ipython3",
   "version": "3.8.13"
  },
  "widgets": {
   "application/vnd.jupyter.widget-state+json": {
    "state": {},
    "version_major": 2,
    "version_minor": 0
   }
  }
 },
 "nbformat": 4,
 "nbformat_minor": 4
}
