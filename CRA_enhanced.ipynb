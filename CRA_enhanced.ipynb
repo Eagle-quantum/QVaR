{
 "cells": [
  {
   "cell_type": "code",
   "execution_count": 1,
   "metadata": {},
   "outputs": [],
   "source": [
    "import numpy as np\n",
    "import matplotlib.pyplot as plt\n",
    "from multivariateGCI_mr import MultivariateGCI_mr\n",
    "from multivariateGCI_sr import MultivariateGCI_sr\n",
    "\n",
    "from qiskit import QuantumRegister, QuantumCircuit, Aer, execute\n",
    "from qiskit.utils import QuantumInstance\n",
    "from qiskit.algorithms import IterativeAmplitudeEstimation, EstimationProblem\n",
    "from qiskit.providers.aer.noise import NoiseModel\n",
    "from qiskit.test.mock import FakeGuadalupe\n",
    "from qiskit.providers.aer import QasmSimulator \n",
    "from qiskit.circuit.library import LinearAmplitudeFunction\n",
    "from qiskit import transpile\n",
    "from qiskit.converters import circuit_to_dag"
   ]
  },
  {
   "cell_type": "markdown",
   "metadata": {},
   "source": [
    "### ideas: \n",
    "- reset the qubits representing the distribution(s)\n",
    "- use piecewise rotations to read distribution and directly rotate using offset (single rotation)"
   ]
  },
  {
   "cell_type": "code",
   "execution_count": 2,
   "metadata": {},
   "outputs": [],
   "source": [
    "import pandas as pd\n",
    "from itertools import combinations\n",
    "\n",
    "df = pd.read_csv(\"Data/sampled_counterparts.csv\")\n",
    "# df = df[((df['pd']>=0.1) & ((1000 < df['lgd dwt']*df['ead']) & (df['lgd dwt']*df['ead'] < 5000000)))]\n",
    "df = df.iloc[[38-2, 260-2]]#, 7816-2]] \n",
    "\n",
    "F_matrix = pd.read_csv(\"Data/F_for_sampled_counterparts.csv\")\n",
    "sectors = [1, 2]\n",
    "F_values = [[F_matrix.iloc[df.index.values[j]][i-1] for i in sectors] for j in range(len(df))]\n",
    "# F_values = [[0.55], [0.65], [0.50]] # make F/rhos"
   ]
  },
  {
   "cell_type": "code",
   "execution_count": 3,
   "metadata": {},
   "outputs": [
    {
     "name": "stdout",
     "output_type": "stream",
     "text": [
      "F: [[0.1580707722, 0.057751624756012], [0.2555327991, 0.157171844120119]]\n",
      "Rhos: [0.3 0.3]\n",
      "Lgds: [18406.56224845756, 54807.94141703075]\n",
      "p_zeros: [0.2565108504, 0.0715568886]\n"
     ]
    },
    {
     "data": {
      "text/html": [
       "<div>\n",
       "<style scoped>\n",
       "    .dataframe tbody tr th:only-of-type {\n",
       "        vertical-align: middle;\n",
       "    }\n",
       "\n",
       "    .dataframe tbody tr th {\n",
       "        vertical-align: top;\n",
       "    }\n",
       "\n",
       "    .dataframe thead th {\n",
       "        text-align: right;\n",
       "    }\n",
       "</style>\n",
       "<table border=\"1\" class=\"dataframe\">\n",
       "  <thead>\n",
       "    <tr style=\"text-align: right;\">\n",
       "      <th></th>\n",
       "      <th>cluster</th>\n",
       "      <th>pd</th>\n",
       "      <th>lgd dwt</th>\n",
       "      <th>ead</th>\n",
       "      <th>num ctp</th>\n",
       "      <th>sett</th>\n",
       "      <th>is</th>\n",
       "      <th>acca</th>\n",
       "      <th>cod type</th>\n",
       "      <th>cod stato</th>\n",
       "      <th>lgd pag</th>\n",
       "    </tr>\n",
       "  </thead>\n",
       "  <tbody>\n",
       "    <tr>\n",
       "      <th>36</th>\n",
       "      <td>005118_618</td>\n",
       "      <td>0.256511</td>\n",
       "      <td>0.223071</td>\n",
       "      <td>82514.537908</td>\n",
       "      <td>83292</td>\n",
       "      <td>5</td>\n",
       "      <td>0.3</td>\n",
       "      <td>0.000083</td>\n",
       "      <td>0</td>\n",
       "      <td>0</td>\n",
       "      <td>0.187699</td>\n",
       "    </tr>\n",
       "    <tr>\n",
       "      <th>258</th>\n",
       "      <td>002116_18</td>\n",
       "      <td>0.071557</td>\n",
       "      <td>0.194311</td>\n",
       "      <td>282063.242107</td>\n",
       "      <td>888</td>\n",
       "      <td>2</td>\n",
       "      <td>0.3</td>\n",
       "      <td>0.019318</td>\n",
       "      <td>0</td>\n",
       "      <td>0</td>\n",
       "      <td>0.157672</td>\n",
       "    </tr>\n",
       "  </tbody>\n",
       "</table>\n",
       "</div>"
      ],
      "text/plain": [
       "        cluster        pd   lgd dwt            ead  num ctp  sett   is  \\\n",
       "36   005118_618  0.256511  0.223071   82514.537908    83292     5  0.3   \n",
       "258   002116_18  0.071557  0.194311  282063.242107      888     2  0.3   \n",
       "\n",
       "         acca  cod type  cod stato   lgd pag  \n",
       "36   0.000083         0          0  0.187699  \n",
       "258  0.019318         0          0  0.157672  "
      ]
     },
     "execution_count": 3,
     "metadata": {},
     "output_type": "execute_result"
    }
   ],
   "source": [
    "# Build noise model from backend properties\n",
    "fake_backend = FakeGuadalupe()\n",
    "\n",
    "# set problem parameters\n",
    "n_z = 2\n",
    "z_max = 2\n",
    "\n",
    "p_zeros = [el['pd'] for _, el in df.iterrows()]\n",
    "rhos = [el['is']**2 for _, el in df.iterrows()]\n",
    "lgd = [el['lgd dwt']*el['ead'] for _, el in df.iterrows()]\n",
    "\n",
    "K = len(p_zeros)\n",
    "\n",
    "n_shots = 2048\n",
    "optimization_level = 1\n",
    "\n",
    "print(f'F: {F_values}\\nRhos: {np.sqrt(rhos)}\\nLgds: {lgd}\\np_zeros: {p_zeros}')\n",
    "df"
   ]
  },
  {
   "cell_type": "code",
   "execution_count": 4,
   "metadata": {},
   "outputs": [
    {
     "data": {
      "image/png": "[encoded data removed]",
      "text/plain": [
       "<Figure size 146.797x385.28 with 1 Axes>"
      ]
     },
     "execution_count": 4,
     "metadata": {},
     "output_type": "execute_result"
    }
   ],
   "source": [
    "u = MultivariateGCI_mr(n_z, z_max, p_zeros, rhos, F_values)\n",
    "\n",
    "u.decompose().draw(\"mpl\", filename='Images/u_circuit.svg')"
   ]
  },
  {
   "cell_type": "code",
   "execution_count": 5,
   "metadata": {},
   "outputs": [],
   "source": [
    "from scipy.stats import norm\n",
    "n_factors = n_z*len(sectors)\n",
    "\n",
    "def rotation_mapping(decimal_number, k):\n",
    "    b = ('{0:0%sb}' % n_factors).format(decimal_number)\n",
    "    realizations = []\n",
    "    for i in range(len(sectors)):\n",
    "        bin = b[n_z*i:n_z*(i+1)]\n",
    "        realizations.append(int(bin, 2) * 2 * z_max / (2 ** n_z - 1) - z_max)\n",
    "        # print(realizations[i])\n",
    "    \n",
    "    p = norm.cdf(\n",
    "        (\n",
    "        norm.ppf(p_zeros[k]) - np.sum([F*realization for F, realization in zip(F_values[k], realizations)])\n",
    "        ) / np.sqrt(1-rhos[k])\n",
    "    ) \n",
    "    \n",
    "\n",
    "    return p"
   ]
  },
  {
   "cell_type": "code",
   "execution_count": 6,
   "metadata": {},
   "outputs": [],
   "source": [
    "\n",
    "# define linear objective function for expected loss\n",
    "breakpoints = list(range(0,2**(n_z*len(sectors)))) \n",
    "slopes = [0]*len(breakpoints)\n",
    "offsets_list = []\n",
    "f_min = 0\n",
    "f_max = 1\n",
    "c_approx = 0.01\n",
    "objective_rotation_list = []\n",
    "for i in range(K):\n",
    "    offsets_list.append([rotation_mapping(el, i) for el in breakpoints])\n",
    "    objective_rotation_list.append(LinearAmplitudeFunction(\n",
    "        n_factors,\n",
    "        slope=slopes, \n",
    "        offset=offsets_list[i], \n",
    "        # max value that can be reached by the qubit register (will not always be reached)\n",
    "        domain=(0, 2**(n_factors)-1),  \n",
    "        image=(f_min, f_max),\n",
    "        rescaling_factor=c_approx,\n",
    "        breakpoints=breakpoints\n",
    "    ))"
   ]
  },
  {
   "cell_type": "code",
   "execution_count": 7,
   "metadata": {},
   "outputs": [],
   "source": [
    "def mapping(decimal_number):\n",
    "    b = ('{0:0%sb}' % K).format(decimal_number)\n",
    "    # print(b)\n",
    "    losses = [loss for i, loss in enumerate(lgd[::-1]) if b[i]=='1']\n",
    "    # print(losses)\n",
    "    total_loss = sum(losses)\n",
    "    return total_loss\n",
    "\n",
    "def find_breakpoint(x_eval):\n",
    "    for el in range(0,2**K):\n",
    "        if mapping(el) <= x_eval:\n",
    "            if mapping(el+1) >= x_eval:\n",
    "                return el\n",
    "    return 0"
   ]
  },
  {
   "cell_type": "code",
   "execution_count": 8,
   "metadata": {
    "tags": []
   },
   "outputs": [],
   "source": [
    "# define linear objective function for expected loss\n",
    "breakpoints = list(range(0,2**K))\n",
    "slopes = [0]*len(breakpoints)\n",
    "offsets = [mapping(el) for el in breakpoints]\n",
    "f_min = 0\n",
    "f_max = sum(lgd)\n",
    "c_approx = 0.01\n",
    "\n",
    "objective_e_loss = LinearAmplitudeFunction(\n",
    "    K,\n",
    "    slope=slopes, \n",
    "    offset=offsets, \n",
    "    # max value that can be reached by the qubit register (will not always be reached)\n",
    "    domain=(0, 2**K-1),  \n",
    "    image=(f_min, f_max),\n",
    "    rescaling_factor=c_approx,\n",
    "    breakpoints=breakpoints\n",
    ")"
   ]
  },
  {
   "cell_type": "code",
   "execution_count": 9,
   "metadata": {},
   "outputs": [
    {
     "name": "stdout",
     "output_type": "stream",
     "text": [
      "Operator Expected Loss = 36165.7173\n"
     ]
    },
    {
     "data": {
      "text/html": [
       "<pre style=\"word-wrap: normal;white-space: pre;background: #fff0;line-height: 1.1;font-family: &quot;Courier New&quot;,Courier,monospace\">                 ┌───────┐┌────┐┌────┐      \n",
       "        state_0: ┤0      ├┤0   ├┤0   ├──────\n",
       "                 │       ││    ││    │      \n",
       "        state_1: ┤1      ├┤1   ├┤1   ├──────\n",
       "                 │       ││    ││    │      \n",
       "        state_2: ┤2      ├┤2   ├┤2   ├──────\n",
       "                 │  P(X) ││    ││    │      \n",
       "        state_3: ┤3      ├┤3   ├┤3   ├──────\n",
       "                 │       ││    ││    │┌────┐\n",
       "        state_4: ┤4      ├┤4   ├┤    ├┤0   ├\n",
       "                 │       ││    ││    ││    │\n",
       "        state_5: ┤5      ├┤    ├┤4   ├┤1   ├\n",
       "                 └───────┘│    ││    ││    │\n",
       "      objective: ─────────┤  F ├┤  F ├┤2 F ├\n",
       "                          │    ││    ││    │\n",
       "         work_0: ─────────┤    ├┤    ├┤3   ├\n",
       "                          │    ││    ││    │\n",
       "         work_1: ─────────┤    ├┤    ├┤4   ├\n",
       "                          │    ││    │└────┘\n",
       "work_rotation_0: ─────────┤5   ├┤5   ├──────\n",
       "                          │    ││    │      \n",
       "work_rotation_1: ─────────┤6   ├┤6   ├──────\n",
       "                          │    ││    │      \n",
       "work_rotation_2: ─────────┤7   ├┤7   ├──────\n",
       "                          │    ││    │      \n",
       "work_rotation_3: ─────────┤8   ├┤8   ├──────\n",
       "                          └────┘└────┘      </pre>"
      ],
      "text/plain": [
       "                 ┌───────┐┌────┐┌────┐      \n",
       "        state_0: ┤0      ├┤0   ├┤0   ├──────\n",
       "                 │       ││    ││    │      \n",
       "        state_1: ┤1      ├┤1   ├┤1   ├──────\n",
       "                 │       ││    ││    │      \n",
       "        state_2: ┤2      ├┤2   ├┤2   ├──────\n",
       "                 │  P(X) ││    ││    │      \n",
       "        state_3: ┤3      ├┤3   ├┤3   ├──────\n",
       "                 │       ││    ││    │┌────┐\n",
       "        state_4: ┤4      ├┤4   ├┤    ├┤0   ├\n",
       "                 │       ││    ││    ││    │\n",
       "        state_5: ┤5      ├┤    ├┤4   ├┤1   ├\n",
       "                 └───────┘│    ││    ││    │\n",
       "      objective: ─────────┤  F ├┤  F ├┤2 F ├\n",
       "                          │    ││    ││    │\n",
       "         work_0: ─────────┤    ├┤    ├┤3   ├\n",
       "                          │    ││    ││    │\n",
       "         work_1: ─────────┤    ├┤    ├┤4   ├\n",
       "                          │    ││    │└────┘\n",
       "work_rotation_0: ─────────┤5   ├┤5   ├──────\n",
       "                          │    ││    │      \n",
       "work_rotation_1: ─────────┤6   ├┤6   ├──────\n",
       "                          │    ││    │      \n",
       "work_rotation_2: ─────────┤7   ├┤7   ├──────\n",
       "                          │    ││    │      \n",
       "work_rotation_3: ─────────┤8   ├┤8   ├──────\n",
       "                          └────┘└────┘      "
      ]
     },
     "execution_count": 9,
     "metadata": {},
     "output_type": "execute_result"
    }
   ],
   "source": [
    "from qiskit.circuit.library import LinearAmplitudeFunction\n",
    "\n",
    "\n",
    "def get_cdf_circuit(x_eval):\n",
    "    \n",
    "    # define linear objective function for cdf\n",
    "    breakpoints = list(range(0,2**K))\n",
    "    slopes = [0]*len(breakpoints)\n",
    "    # print(values)\n",
    "    offsets = [1 if mapping(el)<=x_eval else 0 for el in breakpoints]\n",
    "    f_min = 0\n",
    "    f_max = 1\n",
    "    c_approx = 0.01\n",
    "    \n",
    "    objective = LinearAmplitudeFunction(\n",
    "        K,\n",
    "        slope=slopes, \n",
    "        offset=offsets, \n",
    "        # max value that can be reached by the qubit register (will not always be reached)\n",
    "        domain=(0, 2**K-1),  \n",
    "        image=(f_min, f_max),\n",
    "        rescaling_factor=c_approx,\n",
    "        breakpoints=breakpoints\n",
    "    )\n",
    "\n",
    "    # define the registers for convenience and readability\n",
    "    qr_state = QuantumRegister(u.num_qubits, 'state')\n",
    "    qr_obj = QuantumRegister(1, 'objective')\n",
    "    ar = QuantumRegister(objective.num_ancillas, \"work\")  # additional qubits\n",
    "    ar_rotation = QuantumRegister(objective_rotation_list[0].num_ancillas, \"work_rotation\")  # additional qubits\n",
    "\n",
    "    # define the circuit\n",
    "    state_preparation = QuantumCircuit(qr_state, qr_obj, ar, ar_rotation, name='A')\n",
    "\n",
    "    # load the random variable\n",
    "    state_preparation.append(u.to_gate(), qr_state)\n",
    "\n",
    "    for i in range(K):\n",
    "        state_preparation.append(objective_rotation_list[i].to_gate(), qr_state[:n_factors] + qr_state[n_factors+i:n_factors+i+1] + ar_rotation[:])\n",
    "\n",
    "    # linear objective function (does aggregation and comparison)\n",
    "    state_preparation.append(objective_e_loss.to_gate(), qr_state[-K:] + qr_obj[:] + ar[:])\n",
    "    return state_preparation, objective_e_loss\n",
    "    \n",
    "example = 0\n",
    "state_preparation, objective = get_cdf_circuit(example)\n",
    "job = execute(state_preparation, backend=Aer.get_backend('statevector_simulator'))\n",
    "\n",
    "# evaluate resulting statevector\n",
    "var_prob = 0\n",
    "for i, a in enumerate(np.array(job.result().get_statevector())):\n",
    "    b = ('{0:0%sb}' % (u.num_qubits + 1)).format(i)[-(u.num_qubits + 1):]\n",
    "    prob = np.abs(a)**2\n",
    "    if b[0] == '1':\n",
    "        var_prob += prob\n",
    "\n",
    "print('Operator Expected Loss' + ' = %.4f' % objective.post_processing(var_prob))\n",
    "\n",
    "state_preparation.draw()\n",
    "# objective.decompose().decompose().draw()"
   ]
  },
  {
   "cell_type": "code",
   "execution_count": 10,
   "metadata": {
    "tags": []
   },
   "outputs": [],
   "source": [
    "import time\n",
    "# set target precision and confidence level\n",
    "epsilon = 0.03\n",
    "alpha = 0.1\n",
    "\n",
    "device = QasmSimulator.from_backend(fake_backend)\n",
    "coupling_map = device.configuration().coupling_map\n",
    "noise_model = NoiseModel.from_backend(device)\n",
    "basis_gates = noise_model.basis_gates\n",
    "\n",
    "qi_ideal = QuantumInstance(Aer.get_backend('aer_simulator'), shots=n_shots, \n",
    "                           optimization_level=optimization_level, seed_transpiler=42)\n",
    "\n",
    "# qi_noise = QuantumInstance(provider.get_backend('ibm_perth'), shots=n_shots, \n",
    "#                             optimization_level=optimization_level, seed_transpiler=42)\n",
    "\n",
    "qi_noise = QuantumInstance(QasmSimulator.from_backend(fake_backend), shots=n_shots, \n",
    "                           optimization_level=optimization_level, seed_transpiler=42)"
   ]
  },
  {
   "cell_type": "code",
   "execution_count": 11,
   "metadata": {
    "tags": []
   },
   "outputs": [
    {
     "name": "stdout",
     "output_type": "stream",
     "text": [
      "result with no noise: 4807.135818755142\n"
     ]
    }
   ],
   "source": [
    "start_time = time.time()\n",
    "problem = EstimationProblem(state_preparation=state_preparation,\n",
    "                            objective_qubits=[u.num_qubits],\n",
    "                            post_processing=objective.post_processing)\n",
    "# construct amplitude estimation \n",
    "ae = IterativeAmplitudeEstimation(epsilon, alpha=alpha, quantum_instance=qi_ideal)\n",
    "result = ae.estimate(problem)\n",
    "q_samples_ideal = 2**len(result.powers)-1\n",
    "# save results\n",
    "conf_int_ideal = np.array(result.confidence_interval_processed)\n",
    "result_ideal = result.estimation_processed\n",
    "runtime_ideal = time.time() - start_time\n",
    "ideal_result = result\n",
    "\n",
    "print(\"result with no noise:\", result_ideal)"
   ]
  },
  {
   "cell_type": "code",
   "execution_count": 12,
   "metadata": {
    "tags": []
   },
   "outputs": [
    {
     "name": "stdout",
     "output_type": "stream",
     "text": [
      "1821357\n",
      "2552744\n",
      "longest_path:  {'cx': 1383213, 'rz': 414187, 'sx': 19753, 'x': 4204}\n"
     ]
    }
   ],
   "source": [
    "\n",
    "ae_circuit = ae.construct_circuit(problem, k=31)\n",
    "tr_ae_circuit = transpile(ae_circuit, optimization_level=optimization_level, backend=fake_backend, seed_transpiler=42)\n",
    "print(tr_ae_circuit.depth()) # Return circuit depth (i.e., length of critical path).\n",
    "print(tr_ae_circuit.size()) # Returns total number of instructions in circuit.\n",
    "\n",
    "ae_circuit.decompose().draw(\"mpl\", style=\"iqx\")\n",
    "#plot_circuit_layout(tr_ae_circuit, fake_backend)\n",
    "# ae_circuit.decompose().decompose().decompose().decompose().decompose().decompose().decompose().decompose().decompose().size()\n",
    "\n",
    "\n",
    "dag_circuit = circuit_to_dag(tr_ae_circuit)\n",
    "print(\"longest_path: \",dag_circuit.count_ops_longest_path())"
   ]
  }
 ],
 "metadata": {
  "interpreter": {
   "hash": "66fcc063aebacbfea25ada87ac2776b8de707e2cff9d5d456937ae541a74bb75"
  },
  "kernelspec": {
   "display_name": "Python 3.9.12 ('base')",
   "language": "python",
   "name": "python3"
  },
  "language_info": {
   "codemirror_mode": {
    "name": "ipython",
    "version": 3
   },
   "file_extension": ".py",
   "mimetype": "text/x-python",
   "name": "python",
   "nbconvert_exporter": "python",
   "pygments_lexer": "ipython3",
   "version": "3.9.12"
  },
  "widgets": {
   "application/vnd.jupyter.widget-state+json": {
    "state": {},
    "version_major": 2,
    "version_minor": 0
   }
  }
 },
 "nbformat": 4,
 "nbformat_minor": 4
}
