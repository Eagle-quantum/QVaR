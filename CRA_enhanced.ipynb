{
 "cells": [
  {
   "cell_type": "code",
   "execution_count": 1,
   "metadata": {},
   "outputs": [],
   "source": [
    "import numpy as np\n",
    "import matplotlib.pyplot as plt\n",
    "from multivariateGCI_mr import MultivariateGCI_mr\n",
    "from multivariateGCI_sr import MultivariateGCI_sr\n",
    "\n",
    "from qiskit import QuantumRegister, QuantumCircuit, Aer, execute, IBMQ\n",
    "from qiskit.utils import QuantumInstance\n",
    "from qiskit.algorithms import IterativeAmplitudeEstimation, EstimationProblem\n",
    "from qiskit.providers.aer.noise import NoiseModel\n",
    "from qiskit.test.mock import FakeMontreal, FakeMumbai, FakeGuadalupe, FakeToronto, FakeCasablanca\n",
    "from qiskit.providers.aer import QasmSimulator \n",
    "from qiskit.circuit.library import LinearAmplitudeFunction\n",
    "from qiskit import transpile\n",
    "\n",
    "#account = IBMQ.load_account()\n",
    "#provider = IBMQ.get_provider(hub='ibm-q-research-2', group='politecnico-tor-1', project='main')"
   ]
  },
  {
   "cell_type": "markdown",
   "metadata": {},
   "source": [
    "### ideas: \n",
    "- reset the qubits representing the distribution(s)\n",
    "- use piecewise rotations to read distribution and directly rotate using offset (single rotation)"
   ]
  },
  {
   "cell_type": "code",
   "execution_count": 2,
   "metadata": {},
   "outputs": [],
   "source": [
    "import pandas as pd\n",
    "from itertools import combinations\n",
    "\n",
    "df = pd.read_csv(\"Data/sampled_counterparts.csv\")\n",
    "# df = df[((df['pd']>=0.1) & ((1000 < df['lgd dwt']*df['ead']) & (df['lgd dwt']*df['ead'] < 5000000)))]\n",
    "df = df.iloc[[38-2, 260-2, 7816-2]] \n",
    "\n",
    "F_matrix = pd.read_csv(\"Data/F_for_sampled_counterparts.csv\")\n",
    "sectors = [1, 2]\n",
    "F_values = [[F_matrix.iloc[df.index.values[j]][i-1] for i in sectors] for j in range(len(df))]\n",
    "# F_values = [[0.55], [0.65], [0.50]] # make F/rhos"
   ]
  },
  {
   "cell_type": "code",
   "execution_count": 3,
   "metadata": {},
   "outputs": [
    {
     "name": "stdout",
     "output_type": "stream",
     "text": [
      "F: [[0.1580707722, 0.057751624756012], [0.2555327991, 0.157171844120119], [0.558427409615099, 0.04397951004988]]\n",
      "Rhos: [0.3        0.3        0.65771356]\n",
      "Lgds: [18406.56224845756, 54807.94141703075, 49691.709801894605]\n",
      "p_zeros: [0.2565108504, 0.0715568886, 0.1021936371]\n"
     ]
    },
    {
     "data": {
      "text/html": [
       "<div>\n",
       "<style scoped>\n",
       "    .dataframe tbody tr th:only-of-type {\n",
       "        vertical-align: middle;\n",
       "    }\n",
       "\n",
       "    .dataframe tbody tr th {\n",
       "        vertical-align: top;\n",
       "    }\n",
       "\n",
       "    .dataframe thead th {\n",
       "        text-align: right;\n",
       "    }\n",
       "</style>\n",
       "<table border=\"1\" class=\"dataframe\">\n",
       "  <thead>\n",
       "    <tr style=\"text-align: right;\">\n",
       "      <th></th>\n",
       "      <th>cluster</th>\n",
       "      <th>pd</th>\n",
       "      <th>lgd dwt</th>\n",
       "      <th>ead</th>\n",
       "      <th>num ctp</th>\n",
       "      <th>sett</th>\n",
       "      <th>is</th>\n",
       "      <th>acca</th>\n",
       "      <th>cod type</th>\n",
       "      <th>cod stato</th>\n",
       "      <th>lgd pag</th>\n",
       "    </tr>\n",
       "  </thead>\n",
       "  <tbody>\n",
       "    <tr>\n",
       "      <th>36</th>\n",
       "      <td>005118_618</td>\n",
       "      <td>0.256511</td>\n",
       "      <td>0.223071</td>\n",
       "      <td>82514.537908</td>\n",
       "      <td>83292</td>\n",
       "      <td>5</td>\n",
       "      <td>0.300000</td>\n",
       "      <td>0.000083</td>\n",
       "      <td>0</td>\n",
       "      <td>0</td>\n",
       "      <td>0.187699</td>\n",
       "    </tr>\n",
       "    <tr>\n",
       "      <th>258</th>\n",
       "      <td>002116_18</td>\n",
       "      <td>0.071557</td>\n",
       "      <td>0.194311</td>\n",
       "      <td>282063.242107</td>\n",
       "      <td>888</td>\n",
       "      <td>2</td>\n",
       "      <td>0.300000</td>\n",
       "      <td>0.019318</td>\n",
       "      <td>0</td>\n",
       "      <td>0</td>\n",
       "      <td>0.157672</td>\n",
       "    </tr>\n",
       "    <tr>\n",
       "      <th>7814</th>\n",
       "      <td>010817_14</td>\n",
       "      <td>0.102194</td>\n",
       "      <td>0.350912</td>\n",
       "      <td>141607.211932</td>\n",
       "      <td>4</td>\n",
       "      <td>10</td>\n",
       "      <td>0.657714</td>\n",
       "      <td>0.010912</td>\n",
       "      <td>0</td>\n",
       "      <td>0</td>\n",
       "      <td>0.334555</td>\n",
       "    </tr>\n",
       "  </tbody>\n",
       "</table>\n",
       "</div>"
      ],
      "text/plain": [
       "         cluster        pd   lgd dwt            ead  num ctp  sett        is  \\\n",
       "36    005118_618  0.256511  0.223071   82514.537908    83292     5  0.300000   \n",
       "258    002116_18  0.071557  0.194311  282063.242107      888     2  0.300000   \n",
       "7814   010817_14  0.102194  0.350912  141607.211932        4    10  0.657714   \n",
       "\n",
       "          acca  cod type  cod stato   lgd pag  \n",
       "36    0.000083         0          0  0.187699  \n",
       "258   0.019318         0          0  0.157672  \n",
       "7814  0.010912         0          0  0.334555  "
      ]
     },
     "execution_count": 3,
     "metadata": {},
     "output_type": "execute_result"
    }
   ],
   "source": [
    "# Build noise model from backend properties\n",
    "fake_backend = FakeGuadalupe()\n",
    "\n",
    "# set problem parameters\n",
    "n_z = 2\n",
    "z_max = 2\n",
    "\n",
    "p_zeros = [el['pd'] for _, el in df.iterrows()]\n",
    "rhos = [el['is']**2 for _, el in df.iterrows()]\n",
    "lgd = [el['lgd dwt']*el['ead'] for _, el in df.iterrows()]\n",
    "\n",
    "K = len(p_zeros)\n",
    "\n",
    "n_shots = 2048\n",
    "optimization_level = 1\n",
    "alpha_var = 0.05\n",
    "\n",
    "print(f'F: {F_values}\\nRhos: {np.sqrt(rhos)}\\nLgds: {lgd}\\np_zeros: {p_zeros}')\n",
    "df"
   ]
  },
  {
   "cell_type": "code",
   "execution_count": 4,
   "metadata": {},
   "outputs": [
    {
     "data": {
      "image/png": "[encoded data removed]",
      "text/plain": [
       "<Figure size 507.997x445.48 with 1 Axes>"
      ]
     },
     "execution_count": 4,
     "metadata": {},
     "output_type": "execute_result"
    }
   ],
   "source": [
    "from qiskit_finance.circuit.library import GaussianConditionalIndependenceModel as GCI\n",
    "\n",
    "if len(sectors) == 1:\n",
    "    u = GCI(n_z, z_max, p_zeros, rhos)\n",
    "else:\n",
    "    # u = MultivariateGCI_sr(n_z, z_max, p_zeros, rhos, F_values[1])\n",
    "    u = MultivariateGCI_mr(n_z, z_max, p_zeros, rhos, F_values)\n",
    "\n",
    "# u.decompose().decompose().decompose().decompose().decompose().draw(filename='u_circuit.svg', fold=22)\n",
    "# print(u.decompose().draw(output='latex_source'))\n",
    "u.decompose().draw(\"mpl\", filename='Images/u_circuit.svg')"
   ]
  },
  {
   "cell_type": "code",
   "execution_count": 5,
   "metadata": {},
   "outputs": [
    {
     "name": "stdout",
     "output_type": "stream",
     "text": [
      "Expected Loss E[L]:                12470.5899\n",
      "Value at Risk VaR[L]:              54807.9414\n"
     ]
    },
    {
     "data": {
      "image/png": "[encoded data removed]",
      "text/plain": [
       "<Figure size 576x576 with 1 Axes>"
      ]
     },
     "metadata": {
      "needs_background": "light"
     },
     "output_type": "display_data"
    },
    {
     "data": {
      "text/plain": [
       "array([0.64877995, 0.85675375, 0.90952804, 0.95311049, 0.97518175,\n",
       "       0.99160915, 0.99734776, 1.        ])"
      ]
     },
     "execution_count": 5,
     "metadata": {},
     "output_type": "execute_result"
    }
   ],
   "source": [
    "# run the circuit and analyze the results\n",
    "job = execute(u, backend=Aer.get_backend('statevector_simulator'),) # n_shots=n_shots)\n",
    "\n",
    "# analyze uncertainty circuit and determine exact solutions\n",
    "p_z = np.zeros(2**n_z)\n",
    "p_default = np.zeros(K)\n",
    "values = []\n",
    "probabilities = []\n",
    "num_qubits = u.num_qubits\n",
    "for i, a in enumerate(np.array(job.result().get_statevector())):\n",
    "    \n",
    "    # get binary representation\n",
    "    b = ('{0:0%sb}' % num_qubits).format(i)\n",
    "    prob = np.abs(a)**2\n",
    "    \n",
    "    # extract value of Z and corresponding probability    \n",
    "    i_normal = int(b[-n_z:], 2)\n",
    "    p_z[i_normal] += prob\n",
    "\n",
    "    # determine overall default probability for k \n",
    "    loss = 0\n",
    "    for k in range(K):\n",
    "        if b[K - k - 1] == '1':\n",
    "            p_default[k] += prob\n",
    "            loss += lgd[k]\n",
    "    values += [loss]\n",
    "    probabilities += [prob]   \n",
    "\n",
    "values = np.array(values)\n",
    "probabilities = np.array(probabilities)\n",
    "    \n",
    "expected_loss = np.dot(values, probabilities)\n",
    "\n",
    "losses = np.sort(np.unique(values))\n",
    "pdf = np.zeros(len(losses))\n",
    "for i, v in enumerate(losses):\n",
    "    pdf[i] += sum(probabilities[values == v])\n",
    "cdf = np.cumsum(pdf)\n",
    "\n",
    "i_var = np.argmax(cdf >= 1-alpha_var)\n",
    "exact_var = losses[i_var]\n",
    "\n",
    "print('Expected Loss E[L]:                %.4f' % expected_loss)\n",
    "print('Value at Risk VaR[L]:              %.4f' % exact_var)\n",
    "\n",
    "# plot loss CDF\n",
    "plt.rcParams['text.usetex'] = True\n",
    "plt.rcParams[\"figure.figsize\"] = (8, 8)\n",
    "plt.plot(np.sort(np.unique(losses)), cdf, 'o-g')\n",
    "plt.axhline(1-alpha_var, color=\"orange\", linestyle=\"--\")\n",
    "   \n",
    "plt.xlabel(\"Loss L (\\$)\", size=17)\n",
    "plt.ylabel(r'$P[\\mathcal{L} \\leq X]$', size=17) \n",
    "plt.title (\"CDF of Total Loss\", size=17)\n",
    "plt.xticks(size=17) # plt.xticks(np.sort(np.unique(losses)), np.sort(np.unique(losses)), size=17)\n",
    "plt.yticks(size=17)\n",
    "plt.savefig('Images/cdf.svg', dpi=400, bbox_inches = \"tight\")\n",
    "plt.show()\n",
    "cdf"
   ]
  },
  {
   "cell_type": "code",
   "execution_count": 6,
   "metadata": {},
   "outputs": [],
   "source": [
    "def mapping(decimal_number):\n",
    "    b = ('{0:0%sb}' % K).format(decimal_number)\n",
    "    #print(b)\n",
    "    losses = [loss for i, loss in enumerate(lgd[::-1]) if b[i]=='1']\n",
    "    #print(losses)\n",
    "    total_loss = sum(losses)\n",
    "    return total_loss\n",
    "\n",
    "def find_breakpoint(x_eval):\n",
    "    for el in range(0,2**K):\n",
    "        if mapping(el) <= x_eval:\n",
    "            if mapping(el+1) >= x_eval:\n",
    "                return el\n",
    "    return 0\n",
    "\n",
    "depth = 'full'"
   ]
  },
  {
   "cell_type": "code",
   "execution_count": 7,
   "metadata": {
    "tags": []
   },
   "outputs": [],
   "source": [
    "if depth == 'e_loss':\n",
    "    # define linear objective function for expected loss\n",
    "    breakpoints = list(range(0,2**K))\n",
    "    slopes = [0]*len(breakpoints)\n",
    "    offsets = [mapping(el) for el in breakpoints]\n",
    "    f_min = 0\n",
    "    f_max = sum(lgd)\n",
    "    c_approx = 0.01\n",
    "\n",
    "    objective_e_loss = LinearAmplitudeFunction(\n",
    "        K,\n",
    "        slope=slopes, \n",
    "        offset=offsets, \n",
    "        # max value that can be reached by the qubit register (will not always be reached)\n",
    "        domain=(0, 2**K-1),  \n",
    "        image=(f_min, f_max),\n",
    "        rescaling_factor=c_approx,\n",
    "        breakpoints=breakpoints\n",
    "    )"
   ]
  },
  {
   "cell_type": "code",
   "execution_count": 8,
   "metadata": {},
   "outputs": [
    {
     "name": "stdout",
     "output_type": "stream",
     "text": [
      "Operator CDF(0) = 0.6488\n"
     ]
    },
    {
     "data": {
      "text/html": [
       "<pre style=\"word-wrap: normal;white-space: pre;background: #fff0;line-height: 1.1;font-family: &quot;Courier New&quot;,Courier,monospace\">           ┌───────┐      \n",
       "  state_0: ┤0      ├──────\n",
       "           │       │      \n",
       "  state_1: ┤1      ├──────\n",
       "           │       │      \n",
       "  state_2: ┤2      ├──────\n",
       "           │       │      \n",
       "  state_3: ┤3 P(X) ├──────\n",
       "           │       │┌────┐\n",
       "  state_4: ┤4      ├┤0   ├\n",
       "           │       ││    │\n",
       "  state_5: ┤5      ├┤1   ├\n",
       "           │       ││    │\n",
       "  state_6: ┤6      ├┤2   ├\n",
       "           └───────┘│    │\n",
       "objective: ─────────┤3 F ├\n",
       "                    │    │\n",
       "   work_0: ─────────┤4   ├\n",
       "                    │    │\n",
       "   work_1: ─────────┤5   ├\n",
       "                    │    │\n",
       "   work_2: ─────────┤6   ├\n",
       "                    └────┘</pre>"
      ],
      "text/plain": [
       "           ┌───────┐      \n",
       "  state_0: ┤0      ├──────\n",
       "           │       │      \n",
       "  state_1: ┤1      ├──────\n",
       "           │       │      \n",
       "  state_2: ┤2      ├──────\n",
       "           │       │      \n",
       "  state_3: ┤3 P(X) ├──────\n",
       "           │       │┌────┐\n",
       "  state_4: ┤4      ├┤0   ├\n",
       "           │       ││    │\n",
       "  state_5: ┤5      ├┤1   ├\n",
       "           │       ││    │\n",
       "  state_6: ┤6      ├┤2   ├\n",
       "           └───────┘│    │\n",
       "objective: ─────────┤3 F ├\n",
       "                    │    │\n",
       "   work_0: ─────────┤4   ├\n",
       "                    │    │\n",
       "   work_1: ─────────┤5   ├\n",
       "                    │    │\n",
       "   work_2: ─────────┤6   ├\n",
       "                    └────┘"
      ]
     },
     "execution_count": 8,
     "metadata": {},
     "output_type": "execute_result"
    }
   ],
   "source": [
    "from qiskit.circuit.library import LinearAmplitudeFunction\n",
    "\n",
    "\n",
    "def get_cdf_circuit(x_eval):\n",
    "    \n",
    "    # define linear objective function for cdf\n",
    "    breakpoints = list(range(0,2**K))\n",
    "    slopes = [0]*len(breakpoints)\n",
    "    # print(values)\n",
    "    offsets = [1 if mapping(el)<=x_eval else 0 for el in breakpoints]\n",
    "    f_min = 0\n",
    "    f_max = 1\n",
    "    c_approx = 0.01\n",
    "    \n",
    "    objective = LinearAmplitudeFunction(\n",
    "        K,\n",
    "        slope=slopes, \n",
    "        offset=offsets, \n",
    "        # max value that can be reached by the qubit register (will not always be reached)\n",
    "        domain=(0, 2**K-1),  \n",
    "        image=(f_min, f_max),\n",
    "        rescaling_factor=c_approx,\n",
    "        breakpoints=breakpoints\n",
    "    )\n",
    "\n",
    "    # define the registers for convenience and readability\n",
    "    qr_state = QuantumRegister(u.num_qubits, 'state')\n",
    "    qr_obj = QuantumRegister(1, 'objective')\n",
    "    ar = QuantumRegister(objective.num_ancillas, \"work\")  # additional qubits\n",
    "\n",
    "    # define the circuit\n",
    "    state_preparation = QuantumCircuit(qr_state, qr_obj, ar, name='A')\n",
    "\n",
    "    # load the random variable\n",
    "    state_preparation.append(u.to_gate(), qr_state)\n",
    "\n",
    "    # linear objective function (does aggregation and comparison)\n",
    "    if depth == 'e_loss':\n",
    "        state_preparation.append(objective_e_loss.to_gate(), qr_state[-K:] + qr_obj[:] + ar[:])\n",
    "        return state_preparation, objective_e_loss\n",
    "    else:\n",
    "        state_preparation.append(objective.to_gate(), qr_state[-K:] + qr_obj[:] + ar[:])\n",
    "        return state_preparation, objective\n",
    "    \n",
    "example = 0\n",
    "state_preparation, objective = get_cdf_circuit(example)\n",
    "job = execute(state_preparation, backend=Aer.get_backend('statevector_simulator'), shots=2048)\n",
    "\n",
    "# evaluate resulting statevector\n",
    "var_prob = 0\n",
    "for i, a in enumerate(np.array(job.result().get_statevector())):\n",
    "    b = ('{0:0%sb}' % (u.num_qubits + 1)).format(i)[-(u.num_qubits + 1):]\n",
    "    prob = np.abs(a)**2\n",
    "    if b[0] == '1':\n",
    "        var_prob += prob\n",
    "if depth == 'e_loss':\n",
    "    print('Operator Expected Loss' + ' = %.4f' % objective.post_processing(var_prob))\n",
    "else:\n",
    "    print('Operator CDF(%s)' % example + ' = %.4f' % objective.post_processing(var_prob))\n",
    "state_preparation.draw()\n",
    "# objective.decompose().decompose().draw()"
   ]
  },
  {
   "cell_type": "code",
   "execution_count": 9,
   "metadata": {
    "tags": []
   },
   "outputs": [],
   "source": [
    "import time\n",
    "# set target precision and confidence level\n",
    "epsilon = 0.01/10\n",
    "alpha = 0.05/10\n",
    "\n",
    "device = QasmSimulator.from_backend(fake_backend)\n",
    "coupling_map = device.configuration().coupling_map\n",
    "noise_model = NoiseModel.from_backend(device)\n",
    "basis_gates = noise_model.basis_gates\n",
    "\n",
    "qi_ideal = QuantumInstance(Aer.get_backend('aer_simulator'), shots=n_shots*2, \n",
    "                           optimization_level=optimization_level, seed_transpiler=42)\n",
    "\n",
    "# qi_noise = QuantumInstance(provider.get_backend('ibm_perth'), shots=n_shots, \n",
    "#                             optimization_level=optimization_level, seed_transpiler=42)\n",
    "\n",
    "qi_noise = QuantumInstance(QasmSimulator.from_backend(fake_backend), shots=n_shots, \n",
    "                           optimization_level=optimization_level, seed_transpiler=42)"
   ]
  },
  {
   "cell_type": "code",
   "execution_count": 10,
   "metadata": {
    "tags": []
   },
   "outputs": [],
   "source": [
    "if depth == 'e_loss':\n",
    "    start_time = time.time()\n",
    "    problem = EstimationProblem(state_preparation=state_preparation,\n",
    "                                objective_qubits=[u.num_qubits],\n",
    "                                post_processing=objective.post_processing)\n",
    "    # construct amplitude estimation \n",
    "    ae = IterativeAmplitudeEstimation(epsilon, alpha=alpha, quantum_instance=qi_ideal)\n",
    "    result = ae.estimate(problem)\n",
    "    q_samples_ideal = 2**len(result.powers)-1\n",
    "    # save results\n",
    "    conf_int_ideal = np.array(result.confidence_interval_processed)\n",
    "    result_ideal = result.estimation_processed\n",
    "    runtime_ideal = time.time() - start_time\n",
    "    ideal_result = result\n",
    "\n",
    "    print(\"result with no noise:\", result_ideal)\n",
    "\n",
    "    start_time = time.time()\n",
    "    problem = EstimationProblem(state_preparation=state_preparation,\n",
    "                                objective_qubits=[u.num_qubits],\n",
    "                                post_processing=objective.post_processing)\n",
    "    # construct amplitude estimation\n",
    "    ae = IterativeAmplitudeEstimation(epsilon, alpha=alpha, quantum_instance=qi_noise)\n",
    "    result = ae.estimate(problem)\n",
    "    q_samples_noisy = 2**len(result.powers)-1\n",
    "\n",
    "    # print results\n",
    "    conf_int_noisy = np.array(result.confidence_interval_processed)\n",
    "    result_noisy = result.estimation_processed\n",
    "    runtime_noisy = time.time() - start_time\n",
    "    noisy_result = result\n",
    "    \n",
    "    print(\"\\nresult with noise:\", result_noisy)"
   ]
  },
  {
   "cell_type": "code",
   "execution_count": 11,
   "metadata": {
    "tags": []
   },
   "outputs": [],
   "source": [
    "if depth == 'e_loss':\n",
    "    ae_circuit = ae.construct_circuit(problem, k=2)\n",
    "    tr_ae_circuit = transpile(ae_circuit, optimization_level=optimization_level, backend=fake_backend, seed_transpiler=42)\n",
    "    print(tr_ae_circuit.depth()) # Return circuit depth (i.e., length of critical path).\n",
    "    print(tr_ae_circuit.size()) # Returns total number of instructions in circuit.\n",
    "\n",
    "    # noise_model = NoiseModel.from_backend(QasmSimulator.from_backend(fake_backend))\n",
    "    # basis_gates = noise_model.basis_gates\n",
    "    # tr_ae_circuit = transpile(ae_circuit, basis_gates=basis_gates, optimization_level=optimization_level)\n",
    "\n",
    "    ae_circuit.decompose().draw(\"mpl\", style=\"iqx\")\n",
    "    #plot_circuit_layout(tr_ae_circuit, fake_backend)\n",
    "    # ae_circuit.decompose().decompose().decompose().decompose().decompose().decompose().decompose().decompose().decompose().size()"
   ]
  },
  {
   "cell_type": "code",
   "execution_count": 12,
   "metadata": {},
   "outputs": [],
   "source": [
    "def run_ae_for_cdf(x_eval, epsilon=epsilon, alpha=alpha, noise=False):\n",
    "\n",
    "    # construct amplitude estimation \n",
    "    state_preparation, objective = get_cdf_circuit(x_eval)\n",
    "    \n",
    "    if noise == False:\n",
    "        qi = QuantumInstance(Aer.get_backend('statevector_simulator'),) # shots=n_shots, )\n",
    "                               #optimization_level=optimization_level, seed_transpiler=42)\n",
    "    else:\n",
    "        qi = QuantumInstance(QasmSimulator.from_backend(fake_backend), shots=n_shots, )\n",
    "                               #optimization_level=optimization_level, seed_transpiler=42)\n",
    "        \n",
    "    problem = EstimationProblem(state_preparation=state_preparation,\n",
    "                                objective_qubits=[u.num_qubits])\n",
    "    \n",
    "    ae_var = IterativeAmplitudeEstimation(epsilon, alpha=alpha, quantum_instance=qi)\n",
    "    #ae_circuit = ae_var.construct_circuit(problem, k=50000, measurement=False)\n",
    "    result_var = ae_var.estimate(problem)\n",
    "    # print(result_var.num_oracle_queries)\n",
    "    # print(objective.post_processing(result_var.estimation))\n",
    "    return objective.post_processing(result_var.estimation)#, ae_circuit, result_var"
   ]
  },
  {
   "cell_type": "code",
   "execution_count": 13,
   "metadata": {},
   "outputs": [],
   "source": [
    "cdf = [run_ae_for_cdf(el, epsilon=epsilon, alpha=alpha) for el in np.sort(np.unique(losses))] \n",
    "# print(cdf)"
   ]
  },
  {
   "cell_type": "code",
   "execution_count": 14,
   "metadata": {},
   "outputs": [
    {
     "data": {
      "image/png": "[encoded data removed]",
      "text/plain": [
       "<Figure size 576x576 with 1 Axes>"
      ]
     },
     "metadata": {
      "needs_background": "light"
     },
     "output_type": "display_data"
    }
   ],
   "source": [
    "# plot loss CDF\n",
    "plt.rcParams['text.usetex'] = True\n",
    "plt.rcParams[\"figure.figsize\"] = (8, 8)\n",
    "plt.plot(np.sort(np.unique(losses)), cdf, 'o-g')\n",
    "plt.axhline(1-alpha_var, color=\"orange\", linestyle=\"--\")\n",
    "   \n",
    "plt.xlabel(\"Loss L (\\$)\", size=17)\n",
    "plt.ylabel(r'$P[\\mathcal{L} \\leq X]$', size=17) \n",
    "plt.title (\"CDF of Total Loss\", size=17)\n",
    "plt.xticks(size=17) # plt.xticks(np.sort(np.unique(losses)), np.sort(np.unique(losses)), size=17)\n",
    "plt.yticks(size=17)\n",
    "plt.savefig('Images/cdf.svg', dpi=400, bbox_inches = \"tight\")\n",
    "plt.show()"
   ]
  },
  {
   "cell_type": "code",
   "execution_count": 15,
   "metadata": {},
   "outputs": [
    {
     "data": {
      "image/png": "[encoded data removed]",
      "text/plain": [
       "<Figure size 576x576 with 1 Axes>"
      ]
     },
     "metadata": {
      "needs_background": "light"
     },
     "output_type": "display_data"
    }
   ],
   "source": [
    "# plot loss PDF, expected loss, var, and evar\n",
    "pdf = [el-np.sum(cdf[i-1:i]) for i, el in enumerate(cdf)]\n",
    "plt.bar(np.sort(np.unique(losses)), pdf, align = \"center\", width = 2500)\n",
    "plt.axvline(expected_loss, color=\"green\", linestyle=\"--\", label=\"E[L]\") \n",
    "plt.axvline(exact_var, color=\"orange\", linestyle=\"--\", label=\"VaR(L)\")\n",
    " \n",
    "plt.legend(fontsize=17)\n",
    "plt.xlabel(\"Loss L (`\\$)\", size=17)\n",
    "plt.ylabel(\"probability\", size=17)\n",
    "plt.title (\"PDF of Total Loss\", size=17)\n",
    "plt.xticks(size=17)\n",
    "plt.yticks(size=17)\n",
    "plt.savefig('Images/pdf.svg', dpi=300, bbox_inches = \"tight\")\n",
    "plt.show()"
   ]
  },
  {
   "cell_type": "code",
   "execution_count": 18,
   "metadata": {},
   "outputs": [],
   "source": [
    "def bisection_search(objective, target_value, low_level, high_level, low_value=None, high_value=None):\n",
    "    \"\"\"\n",
    "    Determines the smallest level such that the objective value is still larger than the target\n",
    "    :param objective: objective function\n",
    "    :param target: target value\n",
    "    :param low_level: lowest level to be considered\n",
    "    :param high_level: highest level to be considered\n",
    "    :param low_value: value of lowest level (will be evaluated if set to None)\n",
    "    :param high_value: value of highest level (will be evaluated if set to None)\n",
    "    :return: dictionary with level, value, num_eval\n",
    "    \"\"\"\n",
    "\n",
    "    # check whether low and high values are given and evaluated them otherwise\n",
    "    print('--------------------------------------------------------------------')\n",
    "    print('start bisection search for target value %.3f' % target_value)\n",
    "    print('--------------------------------------------------------------------')\n",
    "    num_eval = 0\n",
    "    if low_value is None:\n",
    "        low_value = objective(low_level)\n",
    "        num_eval += 1\n",
    "    if high_value is None:\n",
    "        high_value = objective(high_level)\n",
    "        num_eval += 1    \n",
    "        \n",
    "    # check if low_value already satisfies the condition\n",
    "    if low_value > target_value:\n",
    "        return {'level': low_level, 'value': low_value, 'num_eval': num_eval, 'comment': 'returned low value'}\n",
    "    elif low_value == target_value:\n",
    "        return {'level': low_level, 'value': low_value, 'num_eval': num_eval, 'comment': 'success'}\n",
    "\n",
    "    # check if high_value is above target\n",
    "    if high_value < target_value:\n",
    "        return {'level': high_level, 'value': high_value, 'num_eval': num_eval, 'comment': 'returned low value'}\n",
    "    elif high_value == target_value:\n",
    "        return {'level': high_level, 'value': high_value, 'num_eval': num_eval, 'comment': 'success'}\n",
    "\n",
    "    # perform bisection search until\n",
    "    print('low_level    low_value    level    value     high_level    high_value')\n",
    "    print('--------------------------------------------------------------------')\n",
    "    while high_level - low_level > 1: #risoluzione\n",
    "\n",
    "        level = (high_level + low_level) / 2.0\n",
    "        num_eval += 1\n",
    "        value = objective(level)\n",
    "\n",
    "        print('%.2f     %.3f      %.2f   %.3f      %.2f       %.3f' \\\n",
    "              % (low_level, low_value, level, value, high_level, high_value))\n",
    "\n",
    "        if value >= target_value:\n",
    "            high_level = level\n",
    "            high_value = value\n",
    "        else:\n",
    "            low_level = level\n",
    "            low_value = value\n",
    "\n",
    "    # return high value after bisection search\n",
    "    print('--------------------------------------------------------------------')\n",
    "    print('finished bisection search')\n",
    "    print('--------------------------------------------------------------------')\n",
    "    return {'level': high_level, 'value': high_value, 'num_eval': num_eval, 'comment': 'success'}"
   ]
  },
  {
   "cell_type": "code",
   "execution_count": 19,
   "metadata": {},
   "outputs": [
    {
     "name": "stdout",
     "output_type": "stream",
     "text": [
      "--------------------------------------------------------------------\n",
      "start bisection search for target value 0.950\n",
      "--------------------------------------------------------------------\n",
      "low_level    low_value    level    value     high_level    high_value\n",
      "--------------------------------------------------------------------\n",
      "-0.00     0.000      61453.11   0.953      122906.21       1.000\n",
      "-0.00     0.000      30726.55   0.857      61453.11       0.953\n",
      "30726.55     0.857      46089.83   0.857      61453.11       0.953\n",
      "46089.83     0.857      53771.47   0.910      61453.11       0.953\n",
      "53771.47     0.910      57612.29   0.953      61453.11       0.953\n",
      "53771.47     0.910      55691.88   0.953      57612.29       0.953\n",
      "53771.47     0.910      54731.67   0.910      55691.88       0.953\n",
      "54731.67     0.910      55211.78   0.953      55691.88       0.953\n",
      "54731.67     0.910      54971.72   0.953      55211.78       0.953\n",
      "54731.67     0.910      54851.70   0.953      54971.72       0.953\n",
      "54731.67     0.910      54791.69   0.910      54851.70       0.953\n",
      "54791.69     0.910      54821.69   0.953      54851.70       0.953\n",
      "54791.69     0.910      54806.69   0.910      54821.69       0.953\n",
      "54806.69     0.910      54814.19   0.953      54821.69       0.953\n",
      "54806.69     0.910      54810.44   0.953      54814.19       0.953\n",
      "54806.69     0.910      54808.56   0.953      54810.44       0.953\n",
      "54806.69     0.910      54807.63   0.910      54808.56       0.953\n",
      "--------------------------------------------------------------------\n",
      "finished bisection search\n",
      "--------------------------------------------------------------------\n",
      "Estimated Value at Risk: 54808.564\n",
      "Exact Value at Risk:     54807.941\n",
      "Estimated Probability:    0.953\n"
     ]
    }
   ],
   "source": [
    "# run bisection search to determine VaR\n",
    "\n",
    "objective_ideal = lambda x: run_ae_for_cdf(x)\n",
    "objective_noisy = lambda x: run_ae_for_cdf(x, noise=True)\n",
    "\n",
    "bisection_result_ideal = bisection_search(objective_ideal, 1-alpha_var, min(losses)-0.001, max(losses), low_value=0, high_value=1)\n",
    "# bisection_result_noisy = bisection_search(objective_noisy, 1-alpha_var, min(losses)-0.1, max(losses), low_value=0, high_value=1)\n",
    "\n",
    "var = bisection_result_ideal['level']\n",
    "# var_noisy = bisection_result_noisy['level']\n",
    "\n",
    "print('Estimated Value at Risk: %.3f' % var)\n",
    "# print('Estimated (w noise) Value at Risk: %.3f' % var_noisy)\n",
    "print('Exact Value at Risk:     %.3f' % exact_var)\n",
    "print('Estimated Probability:    %.3f' % bisection_result_ideal['value'])"
   ]
  },
  {
   "cell_type": "code",
   "execution_count": 48,
   "metadata": {},
   "outputs": [],
   "source": [
    "# from qiskit.circuit.library import PiecewiseLinearPauliRotations\n",
    "\n",
    "# rot = PiecewiseLinearPauliRotations(2, [0, 1, 2, 3], [0,0,0,0], [1,2,3,4])\n",
    "# rot2 = PiecewiseLinearPauliRotations(2, [0, 1, 2, 3], [0,0,0,0], [5,2,3,4])\n",
    "\n",
    "\n",
    "# inner = QuantumCircuit(8, name=\"P(X)\")\n",
    "# inner.append(rot.to_gate(), [0,1,2,4,5])\n",
    "# inner.append(rot2.to_gate(), [0,1,3,4,5])\n",
    "# print(inner.draw())\n",
    "\n",
    "# job = execute(inner, backend=Aer.get_backend('statevector_simulator'), shots=2048)\n",
    "\n",
    "# var_prob = 0\n",
    "# job.result().get_counts()\n"
   ]
  }
 ],
 "metadata": {
  "interpreter": {
   "hash": "78db515f20ea3ea4a5e6010e5f5c6acdfd5c894326950d3f89ba334738678483"
  },
  "kernelspec": {
   "display_name": "Qiskit v0.35.0 (ipykernel)",
   "language": "python",
   "name": "python3"
  },
  "language_info": {
   "codemirror_mode": {
    "name": "ipython",
    "version": 3
   },
   "file_extension": ".py",
   "mimetype": "text/x-python",
   "name": "python",
   "nbconvert_exporter": "python",
   "pygments_lexer": "ipython3",
   "version": "3.8.8"
  },
  "widgets": {
   "application/vnd.jupyter.widget-state+json": {
    "state": {},
    "version_major": 2,
    "version_minor": 0
   }
  }
 },
 "nbformat": 4,
 "nbformat_minor": 4
}
