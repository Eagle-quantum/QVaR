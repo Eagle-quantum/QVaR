{
 "cells": [
  {
   "cell_type": "markdown",
   "metadata": {},
   "source": [
    "## Libraries and data Loading"
   ]
  },
  {
   "cell_type": "code",
   "execution_count": 98,
   "metadata": {},
   "outputs": [],
   "source": [
    "import numpy as np\n",
    "import pandas as pd\n",
    "import matplotlib.pyplot as plt\n",
    "from datetime import datetime\n",
    "import pytz\n",
    "\n",
    "from multivariateGCI_mr import MultivariateGCI_mr\n",
    "from multivariateGCI_sr import MultivariateGCI_sr\n",
    "\n",
    "from qiskit import QuantumRegister, QuantumCircuit, Aer, execute, IBMQ, transpile, ClassicalRegister\n",
    "from qiskit.utils import QuantumInstance\n",
    "from qiskit.algorithms import IterativeAmplitudeEstimation, EstimationProblem, AmplitudeEstimation\n",
    "from qiskit.providers.aer.noise import NoiseModel\n",
    "from qiskit.circuit.library import LinearAmplitudeFunction, PhaseEstimation, QFT, GroverOperator"
   ]
  },
  {
   "cell_type": "code",
   "execution_count": null,
   "metadata": {},
   "outputs": [],
   "source": [
    "df = pd.read_csv(\"Data/sampled_counterparts.csv\")\n",
    "# df = df[((df['pd']>=0.1) & ((1000 < df['lgd dwt']*df['ead']) & (df['lgd dwt']*df['ead'] < 5000000)))]\n",
    "df =  df.iloc[[38-2, 260-2]] #df.iloc[[38-2, 260-2, 7816-2]] \n",
    "\n",
    "F_matrix = pd.read_csv(\"Data/F_for_sampled_counterparts.csv\")\n",
    "sectors = [1] #[1, 2]\n",
    "F_values = [[F_matrix.iloc[df.index.values[j]][i-1] for i in sectors] for j in range(len(df))]\n",
    "# F_values = [[0.55], [0.65], [0.50]] # make F/rhos"
   ]
  },
  {
   "cell_type": "markdown",
   "metadata": {},
   "source": [
    "## Parameters setting"
   ]
  },
  {
   "cell_type": "code",
   "execution_count": null,
   "metadata": {},
   "outputs": [],
   "source": [
    "# set problem parameters\n",
    "n_z = 2\n",
    "z_max = 2\n",
    "\n",
    "p_zeros = [el['pd'] for _, el in df.iterrows()]\n",
    "rhos = [el['is']**2 for _, el in df.iterrows()]\n",
    "lgd = [el['lgd dwt']*el['ead'] for _, el in df.iterrows()]\n",
    "\n",
    "K = len(p_zeros)\n",
    "\n",
    "alpha_var = 0.05\n",
    "\n",
    "print(f'F: {F_values}\\nRhos: {np.sqrt(rhos)}\\nLgds: {lgd}\\np_zeros: {p_zeros}')\n",
    "df"
   ]
  },
  {
   "cell_type": "markdown",
   "metadata": {},
   "source": [
    "### Encoding of the uncertainty model"
   ]
  },
  {
   "cell_type": "code",
   "execution_count": null,
   "metadata": {},
   "outputs": [],
   "source": [
    "u = MultivariateGCI_sr(n_z, z_max, p_zeros, rhos, F_values[1])\n",
    "u = MultivariateGCI_mr(n_z, z_max, p_zeros, rhos, F_values)\n",
    "\n",
    "# from qiskit_finance.circuit.library import GaussianConditionalIndependenceModel as GCI\n",
    "\n",
    "# u = GCI(n_z, z_max, p_zeros, rhos)\n",
    "\n",
    "# print(u.decompose().draw(output='latex_source'))\n",
    "u.decompose().draw(\"mpl\", filename='Images/u_circuit.svg')"
   ]
  },
  {
   "cell_type": "markdown",
   "metadata": {},
   "source": [
    "## Uncertainty model testing"
   ]
  },
  {
   "cell_type": "code",
   "execution_count": null,
   "metadata": {},
   "outputs": [],
   "source": [
    "# run the circuit and analyze the results\n",
    "job = execute(u, backend=Aer.get_backend('statevector_simulator'),) # n_shots=n_shots)\n",
    "\n",
    "# analyze uncertainty circuit and determine exact solutions\n",
    "p_z = np.zeros(2**n_z)\n",
    "p_default = np.zeros(K)\n",
    "values = []\n",
    "probabilities = []\n",
    "num_qubits = u.num_qubits\n",
    "for i, a in enumerate(np.array(job.result().get_statevector())):\n",
    "    \n",
    "    # get binary representation\n",
    "    b = ('{0:0%sb}' % num_qubits).format(i)\n",
    "    prob = np.abs(a)**2\n",
    "    \n",
    "    # extract value of Z and corresponding probability    \n",
    "    i_normal = int(b[-n_z:], 2)\n",
    "    p_z[i_normal] += prob\n",
    "\n",
    "    # determine overall default probability for k \n",
    "    loss = 0\n",
    "    for k in range(K):\n",
    "        if b[K - k - 1] == '1':\n",
    "            p_default[k] += prob\n",
    "            loss += lgd[k]\n",
    "    values += [loss]\n",
    "    probabilities += [prob]   \n",
    "\n",
    "values = np.array(values)\n",
    "probabilities = np.array(probabilities)\n",
    "    \n",
    "expected_loss = np.dot(values, probabilities)\n",
    "\n",
    "losses = np.sort(np.unique(values))\n",
    "pdf = np.zeros(len(losses))\n",
    "for i, v in enumerate(losses):\n",
    "    pdf[i] += sum(probabilities[values == v])\n",
    "cdf = np.cumsum(pdf)\n",
    "\n",
    "i_var = np.argmax(cdf >= 1-alpha_var)\n",
    "exact_var = losses[i_var]\n",
    "\n",
    "print('Expected Loss E[L]:                %.4f' % expected_loss)\n",
    "print('Value at Risk VaR[L]:              %.4f' % exact_var)\n",
    "\n",
    "# plot loss CDF\n",
    "plt.rcParams['text.usetex'] = True\n",
    "plt.rcParams[\"figure.figsize\"] = (8, 8)\n",
    "plt.plot(np.sort(np.unique(losses)), cdf, 'o-g')\n",
    "plt.axhline(1-alpha_var, color=\"orange\", linestyle=\"--\")\n",
    "   \n",
    "plt.xlabel(\"Loss L (\\$)\", size=17)\n",
    "plt.ylabel(r'$P[\\mathcal{L} \\leq X]$', size=17) \n",
    "plt.title (\"CDF of Total Loss\", size=17)\n",
    "plt.xticks(size=17) # plt.xticks(np.sort(np.unique(losses)), np.sort(np.unique(losses)), size=17)\n",
    "plt.yticks(size=17)\n",
    "plt.savefig('Images/cdf.svg', dpi=400, bbox_inches = \"tight\")\n",
    "plt.show()\n",
    "cdf"
   ]
  },
  {
   "cell_type": "code",
   "execution_count": null,
   "metadata": {},
   "outputs": [],
   "source": [
    "def mapping(decimal_number):\n",
    "    b = ('{0:0%sb}' % K).format(decimal_number)\n",
    "    #print(b)\n",
    "    losses = [loss for i, loss in enumerate(lgd[::-1]) if b[i]=='1']\n",
    "    #print(losses)\n",
    "    total_loss = sum(losses)\n",
    "    return total_loss\n",
    "\n",
    "def find_breakpoint(x_eval):\n",
    "    for el in range(0,2**K):\n",
    "        if mapping(el) <= x_eval:\n",
    "            if mapping(el+1) >= x_eval:\n",
    "                return el\n",
    "    return 0\n",
    "\n",
    "depth = 'e_loss'"
   ]
  },
  {
   "cell_type": "code",
   "execution_count": null,
   "metadata": {
    "tags": []
   },
   "outputs": [],
   "source": [
    "if depth == 'e_loss':\n",
    "    # define linear objective function for expected loss\n",
    "    breakpoints = list(range(0,2**K))\n",
    "    slopes = [0]*len(breakpoints)\n",
    "    offsets = [mapping(el) for el in breakpoints]\n",
    "    f_min = 0\n",
    "    f_max = sum(lgd)\n",
    "    c_approx = 0.01\n",
    "\n",
    "    objective_e_loss = LinearAmplitudeFunction(\n",
    "        K,\n",
    "        slope=slopes, \n",
    "        offset=offsets, \n",
    "        # max value that can be reached by the qubit register (will not always be reached)\n",
    "        domain=(0, 2**K-1),  \n",
    "        image=(f_min, f_max),\n",
    "        rescaling_factor=c_approx,\n",
    "        breakpoints=breakpoints\n",
    "    )"
   ]
  },
  {
   "cell_type": "code",
   "execution_count": null,
   "metadata": {},
   "outputs": [],
   "source": [
    "# from qiskit.circuit.library import WeightedAdder\n",
    "\n",
    "# agg = WeightedAdder(n_z + K, [0] * n_z + lgd)\n",
    "\n",
    "# # define linear objective function\n",
    "# breakpoints = [0]\n",
    "# slopes = [1]\n",
    "# offsets = [0]\n",
    "# f_min = 0\n",
    "# f_max = sum(lgd)\n",
    "# c_approx = 0.25\n",
    "\n",
    "# objective_loss = LinearAmplitudeFunction(\n",
    "#     agg.num_sum_qubits,\n",
    "#     slope=slopes,\n",
    "#     offset=offsets,\n",
    "#     # max value that can be reached by the qubit register (will not always be reached)\n",
    "#     domain=(0, 2 ** agg.num_sum_qubits - 1),\n",
    "#     image=(f_min, f_max),\n",
    "#     rescaling_factor=c_approx,\n",
    "#     breakpoints=breakpoints,\n",
    "# )"
   ]
  },
  {
   "cell_type": "markdown",
   "metadata": {},
   "source": [
    "## Testing without QAE"
   ]
  },
  {
   "cell_type": "code",
   "execution_count": null,
   "metadata": {},
   "outputs": [],
   "source": [
    "from qiskit.circuit.library import LinearAmplitudeFunction\n",
    "\n",
    "\n",
    "def get_cdf_circuit(x_eval):\n",
    "    \n",
    "    # define linear objective function for cdf\n",
    "    breakpoints = list(range(0,2**K))\n",
    "    slopes = [0]*len(breakpoints)\n",
    "    # print(values)\n",
    "    offsets = [1 if mapping(el)<=x_eval else 0 for el in breakpoints]\n",
    "    f_min = 0\n",
    "    f_max = 1\n",
    "    c_approx = 0.01\n",
    "    \n",
    "    objective = LinearAmplitudeFunction(\n",
    "        K,\n",
    "        slope=slopes, \n",
    "        offset=offsets, \n",
    "        # max value that can be reached by the qubit register (will not always be reached)\n",
    "        domain=(0, 2**K-1),  \n",
    "        image=(f_min, f_max),\n",
    "        rescaling_factor=c_approx,\n",
    "        breakpoints=breakpoints\n",
    "    )\n",
    "\n",
    "    # define the registers for convenience and readability\n",
    "    qr_state = QuantumRegister(u.num_qubits, 'state')\n",
    "    qr_obj = QuantumRegister(1, 'objective')\n",
    "    ar = QuantumRegister(objective.num_ancillas, \"work\")  # additional qubits\n",
    "\n",
    "    # define the circuit\n",
    "    state_preparation = QuantumCircuit(qr_state, qr_obj, ar, name='A')\n",
    "\n",
    "    # load the random variable\n",
    "    state_preparation.append(u.to_gate(), qr_state)\n",
    "\n",
    "    # linear objective function (does aggregation and comparison)\n",
    "    if depth == 'e_loss':\n",
    "        state_preparation.append(objective_e_loss.to_gate(), qr_state[-K:] + qr_obj[:] + ar[:])\n",
    "        return state_preparation, objective_e_loss\n",
    "    else:\n",
    "        state_preparation.append(objective.to_gate(), qr_state[-K:] + qr_obj[:] + ar[:])\n",
    "        return state_preparation, objective\n",
    "    \n",
    "example = 0\n",
    "state_preparation, objective = get_cdf_circuit(example)\n",
    "job = execute(state_preparation, backend=Aer.get_backend('statevector_simulator'))\n",
    "\n",
    "# evaluate resulting statevector\n",
    "var_prob = 0\n",
    "for i, a in enumerate(np.array(job.result().get_statevector())):\n",
    "    b = ('{0:0%sb}' % (u.num_qubits + 1)).format(i)[-(u.num_qubits + 1):]\n",
    "    prob = np.abs(a)**2\n",
    "    if b[0] == '1':\n",
    "        var_prob += prob\n",
    "if depth == 'e_loss':\n",
    "    print('Operator Expected Loss' + ' = %.4f' % objective.post_processing(var_prob), var_prob)\n",
    "else:\n",
    "    print('Operator CDF(%s)' % example + ' = %.4f' % objective.post_processing(var_prob))\n",
    "state_preparation.draw()\n",
    "# objective.decompose().decompose().draw()"
   ]
  },
  {
   "cell_type": "markdown",
   "metadata": {},
   "source": [
    "## Experiments\n",
    "### Setup"
   ]
  },
  {
   "cell_type": "code",
   "execution_count": null,
   "metadata": {
    "tags": []
   },
   "outputs": [],
   "source": [
    "import time\n",
    "# set target precision and confidence level\n",
    "epsilon = 0.01/6\n",
    "alpha = 0.05/6\n",
    "\n",
    "simulated = True\n",
    "optimization_level = 1\n",
    "n_shots = 2048\n",
    "\n",
    "# get backend\n",
    "backend_name = 'ibm_perth'\n",
    "try:\n",
    "    provider = IBMQ.get_provider(hub='ibm-q-research-2', group='politecnico-tor-1', project='main')\n",
    "except:\n",
    "    IBMQ.load_account()\n",
    "    provider = IBMQ.get_provider(hub='ibm-q-research-2', group='politecnico-tor-1', project='main')\n",
    "    \n",
    "backend = provider.get_backend(backend_name)\n",
    "\n",
    "qi_ideal = QuantumInstance(Aer.get_backend('qasm_simulator'), shots=n_shots, \n",
    "                           optimization_level=optimization_level, seed_transpiler=42)\n",
    "\n",
    "if simulated == False:\n",
    "    qi_noise = QuantumInstance(backend, shots=n_shots, \n",
    "                            optimization_level=optimization_level, seed_transpiler=42)\n",
    "                            \n",
    "else:\n",
    "    noise_model = NoiseModel.from_backend(backend)\n",
    "    # Get coupling map from backend\n",
    "    coupling_map = backend.configuration().coupling_map\n",
    "    # Get basis gates from noise model\n",
    "    basis_gates = noise_model.basis_gates\n",
    "\n",
    "    qi_noise = QuantumInstance(provider.get_backend('ibmq_qasm_simulator'), shots=n_shots, \n",
    "                           optimization_level=optimization_level, seed_transpiler=42,\n",
    "                           noise_model=noise_model, coupling_map=coupling_map, basis_gates=basis_gates)"
   ]
  },
  {
   "cell_type": "markdown",
   "metadata": {},
   "source": [
    "### Running and saving"
   ]
  },
  {
   "cell_type": "code",
   "execution_count": 59,
   "metadata": {},
   "outputs": [
    {
     "name": "stdout",
     "output_type": "stream",
     "text": [
      "result with no noise: 7796.697825432917 0.4938187776817583 dept: 3\n"
     ]
    },
    {
     "data": {
      "image/png": "[encoded data removed]",
      "text/plain": [
       "<Figure size 1080.51x806.68 with 1 Axes>"
      ]
     },
     "execution_count": 59,
     "metadata": {},
     "output_type": "execute_result"
    }
   ],
   "source": [
    "qi_ideal = QuantumInstance(Aer.get_backend('qasm_simulator'), shots=10000, \n",
    "                           optimization_level=optimization_level, seed_transpiler=42)\n",
    "problem = EstimationProblem(state_preparation=state_preparation,\n",
    "                            objective_qubits=[u.num_qubits],\n",
    "                            post_processing=objective.post_processing)\n",
    "\n",
    "ae_parallel = AmplitudeEstimation(6, quantum_instance=qi_ideal)\n",
    "circuit = ae_parallel.construct_circuit(problem)\n",
    "\n",
    "ideal_result = ae_parallel.estimate(problem)\n",
    "print(\"result with no noise:\", ideal_result.mle_processed, ideal_result.mle, \"dept:\")\n",
    "circuit.decompose().draw(\"mpl\")"
   ]
  },
  {
   "cell_type": "code",
   "execution_count": 112,
   "metadata": {
    "tags": []
   },
   "outputs": [
    {
     "name": "stdout",
     "output_type": "stream",
     "text": [
      "883039\n",
      "1186068\n"
     ]
    }
   ],
   "source": [
    "from qiskit.test.mock import FakeMontreal\n",
    "if depth == 'e_loss':\n",
    "    #from qiskit.visualization import plot_circuit_layout\n",
    "\n",
    "    tr_ae_circuit = transpile(circuit, optimization_level=optimization_level, backend=FakeMontreal(), seed_transpiler=42)\n",
    "    \n",
    "    # Return circuit depth (i.e., length of critical path).\n",
    "    print(tr_ae_circuit.depth())\n",
    "    # Returns total number of instructions in circuit.\n",
    "    print(tr_ae_circuit.size()) \n",
    "\n",
    "    #plot_circuit_layout(tr_ae_circuit, backend)"
   ]
  },
  {
   "cell_type": "code",
   "execution_count": 107,
   "metadata": {},
   "outputs": [
    {
     "data": {
      "text/html": [
       "<pre style=\"word-wrap: normal;white-space: pre;background: #fff0;line-height: 1.1;font-family: &quot;Courier New&quot;,Courier,monospace\">global phase: π\n",
       "                                 ┌──────────┐┌───┐     ┌───┐┌───────┐      \n",
       "state_0: ────────────────────────┤0         ├┤ X ├──■──┤ X ├┤0      ├──────\n",
       "                                 │          │├───┤  │  ├───┤│       │      \n",
       "state_1: ────────────────────────┤1         ├┤ X ├──■──┤ X ├┤1      ├──────\n",
       "                        ┌───────┐│  P(X)_dg │├───┤  │  ├───┤│  P(X) │┌────┐\n",
       "state_2: ───────────────┤0      ├┤2         ├┤ X ├──■──┤ X ├┤2      ├┤0   ├\n",
       "                        │       ││          │├───┤  │  ├───┤│       ││    │\n",
       "state_3: ───────────────┤1      ├┤3         ├┤ X ├──■──┤ X ├┤3      ├┤1   ├\n",
       "         ┌───┐┌───┐┌───┐│       │└──┬───┬───┘└───┘  │  ├───┤└───────┘│    │\n",
       "state_4: ┤ H ├┤ X ├┤ H ├┤2 F_dg ├───┤ X ├───────────■──┤ X ├─────────┤2 F ├\n",
       "         └───┘└───┘└───┘│       │   ├───┤           │  ├───┤         │    │\n",
       "state_5: ───────────────┤3      ├───┤ X ├───────────■──┤ X ├─────────┤3   ├\n",
       "                        │       │   ├───┤    ┌───┐┌─┴─┐├───┤  ┌───┐  │    │\n",
       "state_6: ───────────────┤4      ├───┤ X ├────┤ H ├┤ X ├┤ H ├──┤ X ├──┤4   ├\n",
       "                        └───────┘   └───┘    └───┘└───┘└───┘  └───┘  └────┘</pre>"
      ],
      "text/plain": [
       "global phase: π\n",
       "                                 ┌──────────┐┌───┐     ┌───┐┌───────┐      \n",
       "state_0: ────────────────────────┤0         ├┤ X ├──■──┤ X ├┤0      ├──────\n",
       "                                 │          │├───┤  │  ├───┤│       │      \n",
       "state_1: ────────────────────────┤1         ├┤ X ├──■──┤ X ├┤1      ├──────\n",
       "                        ┌───────┐│  P(X)_dg │├───┤  │  ├───┤│  P(X) │┌────┐\n",
       "state_2: ───────────────┤0      ├┤2         ├┤ X ├──■──┤ X ├┤2      ├┤0   ├\n",
       "                        │       ││          │├───┤  │  ├───┤│       ││    │\n",
       "state_3: ───────────────┤1      ├┤3         ├┤ X ├──■──┤ X ├┤3      ├┤1   ├\n",
       "         ┌───┐┌───┐┌───┐│       │└──┬───┬───┘└───┘  │  ├───┤└───────┘│    │\n",
       "state_4: ┤ H ├┤ X ├┤ H ├┤2 F_dg ├───┤ X ├───────────■──┤ X ├─────────┤2 F ├\n",
       "         └───┘└───┘└───┘│       │   ├───┤           │  ├───┤         │    │\n",
       "state_5: ───────────────┤3      ├───┤ X ├───────────■──┤ X ├─────────┤3   ├\n",
       "                        │       │   ├───┤    ┌───┐┌─┴─┐├───┤  ┌───┐  │    │\n",
       "state_6: ───────────────┤4      ├───┤ X ├────┤ H ├┤ X ├┤ H ├──┤ X ├──┤4   ├\n",
       "                        └───────┘   └───┘    └───┘└───┘└───┘  └───┘  └────┘"
      ]
     },
     "execution_count": 107,
     "metadata": {},
     "output_type": "execute_result"
    }
   ],
   "source": [
    "grover_op2 = problem.grover_operator #GroverOperator(oracle2, state_preparation)\n",
    "grover_op2.decompose().draw()"
   ]
  },
  {
   "cell_type": "code",
   "execution_count": 99,
   "metadata": {},
   "outputs": [
    {
     "data": {
      "image/png": "[encoded data removed]",
      "text/plain": [
       "<Figure size 1503.59x1348.48 with 1 Axes>"
      ]
     },
     "execution_count": 99,
     "metadata": {},
     "output_type": "execute_result"
    }
   ],
   "source": [
    "resolution = 6\n",
    "iqft = QFT(resolution, inverse=True, do_swaps=False).reverse_bits()\n",
    "def get_parallelized_circuit():\n",
    "    \n",
    "    # define the registers for convenience and readability\n",
    "    qr_state = QuantumRegister(u.num_qubits, 'state')\n",
    "    qr_obj = QuantumRegister(1, 'objective')\n",
    "    ar = QuantumRegister(objective.num_ancillas, \"work\")  # additional qubits\n",
    "\n",
    "    qr_state2 = QuantumRegister(u.num_qubits, 'state_2')\n",
    "    qr_obj2 = QuantumRegister(1, 'objective_2')\n",
    "    ar2 = QuantumRegister(objective.num_ancillas, \"work_2\")  # additional qubits\n",
    "\n",
    "    qr_result = QuantumRegister(resolution, 'result')\n",
    "    qr_eval = QuantumRegister(1, 'eval')\n",
    "\n",
    "    # define the circuit\n",
    "    state_preparation = QuantumCircuit(qr_state, qr_obj, ar, qr_eval, qr_state2, qr_obj2, ar2, qr_result, name='A')\n",
    "\n",
    "    for i in range(resolution):\n",
    "        state_preparation.h(qr_result[i]) # hadamards on evaluation qubits\n",
    "    # state_preparation.h(qr_result[1])\n",
    "\n",
    "    # load the random variable\n",
    "    state_preparation.append(u.to_gate(), qr_state)\n",
    "    state_preparation.append(u.to_gate(), qr_state2)\n",
    "\n",
    "    # state_preparation.cx(qr_result[0], qr_eval[0])\n",
    "\n",
    "\n",
    "\n",
    "    # linear objective function (does aggregation and comparison)\n",
    "    state_preparation.append(objective_e_loss.to_gate(), qr_state[-K:] + qr_obj[:] + ar[:])\n",
    "    state_preparation.append(objective_e_loss.to_gate(), qr_state2[-K:] + qr_obj2[:] + ar2[:])\n",
    "    state_preparation.cx(qr_result[resolution-1], qr_eval[0])\n",
    "    # state_preparation.append(problem.grover_operator.to_gate(), qr_state[:] + qr_obj[:] + ar[:])\n",
    "    \n",
    "    state_preparation.compose(grover_op2.power(2**(resolution-1)).control(), qubits=qr_eval[:]+qr_state[:] + qr_obj[:] + ar[:], inplace=True)\n",
    "    \n",
    "    state_preparation.compose(grover_op2.power(2**0).control(), qubits=qr_result[:1]+qr_state2[:] + qr_obj2[:] + ar2[:], inplace=True)\n",
    "\n",
    "    state_preparation.compose(grover_op2.power(2**1).control(), qubits=qr_result[1:2]+qr_state2[:] + qr_obj2[:] + ar2[:], inplace=True)\n",
    "\n",
    "    state_preparation.compose(grover_op2.power(2**2).control(), qubits=qr_result[2:3]+qr_state2[:] + qr_obj2[:] + ar2[:], inplace=True)\n",
    "\n",
    "    state_preparation.compose(grover_op2.power(2**3).control(), qubits=qr_result[3:4]+qr_state2[:] + qr_obj2[:] + ar2[:], inplace=True)\n",
    "\n",
    "    state_preparation.compose(grover_op2.power(2**4).control(), qubits=qr_result[4:5]+qr_state2[:] + qr_obj2[:] + ar2[:], inplace=True)\n",
    "\n",
    "    state_preparation.cx(qr_result[resolution-1], qr_eval[0])\n",
    "    state_preparation.compose(iqft, qubits=qr_result[:], inplace=True)\n",
    "    \n",
    "    # state_preparation.append(qpe.to_gate(), qr_eval[:] + qr_state2[:] + qr_obj2[:] + ar2[:])\n",
    "    # state_preparation.cx(qr_result[0], qr_result[0])\n",
    "    cr = ClassicalRegister(resolution)\n",
    "    state_preparation.add_register(cr)\n",
    "    state_preparation.measure(qr_result[:], list(range(resolution)))\n",
    "\n",
    "    return state_preparation, objective_e_loss\n",
    "\n",
    "    \n",
    "state_preparation2, objective = get_parallelized_circuit()\n",
    "state_preparation2.draw(\"mpl\")\n"
   ]
  },
  {
   "cell_type": "code",
   "execution_count": 108,
   "metadata": {},
   "outputs": [
    {
     "data": {
      "text/plain": [
       "9382.182523000372"
      ]
     },
     "execution_count": 108,
     "metadata": {},
     "output_type": "execute_result"
    }
   ],
   "source": [
    "from collections import OrderedDict\n",
    "from qiskit.algorithms.amplitude_estimators.ae_utils import pdf_a, bisect_max\n",
    "\n",
    "def evaluate_count_results(counts):\n",
    "    # construct probabilities\n",
    "    measurements = OrderedDict()\n",
    "    samples = OrderedDict()\n",
    "    shots = 10000\n",
    "\n",
    "    for state, count in counts.items():\n",
    "        y = int(state.replace(\" \", \"\")[:resolution][::-1], 2)\n",
    "        probability = count / shots\n",
    "        measurements[y] = probability\n",
    "        a = np.round(np.power(np.sin(y * np.pi / 2**resolution), 2), decimals=7)\n",
    "        samples[a] = samples.get(a, 0.0) + probability\n",
    "\n",
    "    return samples, measurements\n",
    "\n",
    "\n",
    "counts = qi_ideal.execute(state_preparation2).get_counts()#job.result().get_counts()\n",
    "\n",
    "samples, measurements = evaluate_count_results(counts)\n",
    "samples_processed = {\n",
    "            problem.post_processing(a): p for a, p in samples.items()\n",
    "        }\n",
    "# determine the most likely estimate\n",
    "max_probability = 0\n",
    "for amplitude, (mapped, prob) in zip(samples.keys(), samples_processed.items()):\n",
    "    if prob > max_probability:\n",
    "        max_probability = prob\n",
    "        estimation = amplitude\n",
    "        estimation_processed = mapped\n",
    "\n",
    "\n",
    "def compute_mle(\n",
    "        estimation, apply_post_processing: bool = False\n",
    "    ) -> float:\n",
    "\n",
    "        m = resolution\n",
    "        M = 2**m  # pylint: disable=invalid-name\n",
    "        qae = estimation\n",
    "\n",
    "        # likelihood function\n",
    "        a_i = np.asarray(list(samples.keys()))\n",
    "        p_i = np.asarray(list(samples.values()))\n",
    "\n",
    "        def loglikelihood(a):\n",
    "            return np.sum(10000 * p_i * np.log(pdf_a(a_i, a, m)))\n",
    "\n",
    "        # y is pretty much an integer, but to map 1.9999 to 2 we must first\n",
    "        # use round and then int conversion\n",
    "        y = int(np.round(M * np.arcsin(np.sqrt(qae)) / np.pi))\n",
    "\n",
    "        # Compute the two intervals in which are candidates for containing\n",
    "        # the maximum of the log-likelihood function: the two bubbles next to\n",
    "        # the QAE estimate\n",
    "        if y == 0:\n",
    "            right_of_qae = np.sin(np.pi * (y + 1) / M) ** 2\n",
    "            bubbles = [qae, right_of_qae]\n",
    "\n",
    "        elif y == int(M / 2):  # remember, M = 2^m is a power of 2\n",
    "            left_of_qae = np.sin(np.pi * (y - 1) / M) ** 2\n",
    "            bubbles = [left_of_qae, qae]\n",
    "\n",
    "        else:\n",
    "            left_of_qae = np.sin(np.pi * (y - 1) / M) ** 2\n",
    "            right_of_qae = np.sin(np.pi * (y + 1) / M) ** 2\n",
    "            bubbles = [left_of_qae, qae, right_of_qae]\n",
    "\n",
    "        # Find global maximum amongst the two local maxima\n",
    "        a_opt = qae\n",
    "        loglik_opt = loglikelihood(a_opt)\n",
    "        for a, b in zip(bubbles[:-1], bubbles[1:]):\n",
    "            locmax, val = bisect_max(loglikelihood, a, b, retval=True)\n",
    "            if val > loglik_opt:\n",
    "                a_opt = locmax\n",
    "                loglik_opt = val\n",
    "\n",
    "        if apply_post_processing:\n",
    "            return problem.post_processing(a_opt)\n",
    "\n",
    "        return a_opt\n",
    "\n",
    "compute_mle(estimation, apply_post_processing=True)"
   ]
  },
  {
   "cell_type": "code",
   "execution_count": 111,
   "metadata": {},
   "outputs": [
    {
     "name": "stdout",
     "output_type": "stream",
     "text": [
      "455118\n",
      "1183273\n"
     ]
    }
   ],
   "source": [
    "if depth == 'e_loss':\n",
    "    #from qiskit.visualization import plot_circuit_layout\n",
    "\n",
    "    tr_ae_circuit = transpile(state_preparation2, optimization_level=optimization_level, backend=FakeMontreal(), seed_transpiler=42)\n",
    "    \n",
    "    # Return circuit depth (i.e., length of critical path).\n",
    "    print(tr_ae_circuit.depth())\n",
    "    # Returns total number of instructions in circuit.\n",
    "    print(tr_ae_circuit.size()) \n",
    "\n",
    "    #plot_circuit_layout(tr_ae_circuit, backend)"
   ]
  }
 ],
 "metadata": {
  "interpreter": {
   "hash": "66fcc063aebacbfea25ada87ac2776b8de707e2cff9d5d456937ae541a74bb75"
  },
  "kernelspec": {
   "display_name": "Python 3.9.12 ('base')",
   "language": "python",
   "name": "python3"
  },
  "language_info": {
   "codemirror_mode": {
    "name": "ipython",
    "version": 3
   },
   "file_extension": ".py",
   "mimetype": "text/x-python",
   "name": "python",
   "nbconvert_exporter": "python",
   "pygments_lexer": "ipython3",
   "version": "3.9.12"
  },
  "widgets": {
   "application/vnd.jupyter.widget-state+json": {
    "state": {},
    "version_major": 2,
    "version_minor": 0
   }
  }
 },
 "nbformat": 4,
 "nbformat_minor": 4
}
