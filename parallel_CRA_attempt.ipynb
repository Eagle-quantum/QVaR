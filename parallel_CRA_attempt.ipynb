{
 "cells": [
  {
   "cell_type": "markdown",
   "metadata": {},
   "source": [
    "## Libraries and data Loading"
   ]
  },
  {
   "cell_type": "code",
   "execution_count": 1,
   "metadata": {},
   "outputs": [],
   "source": [
    "import numpy as np\n",
    "import pandas as pd\n",
    "import matplotlib.pyplot as plt\n",
    "\n",
    "from multivariateGCI_mr import MultivariateGCI_mr\n",
    "from multivariateGCI_sr import MultivariateGCI_sr\n",
    "\n",
    "from qiskit import QuantumRegister, QuantumCircuit, Aer, execute, IBMQ, transpile, ClassicalRegister\n",
    "from qiskit.utils import QuantumInstance\n",
    "from qiskit.algorithms import IterativeAmplitudeEstimation, EstimationProblem, AmplitudeEstimation\n",
    "from qiskit.providers.aer.noise import NoiseModel\n",
    "from qiskit.circuit.library import LinearAmplitudeFunction, QFT"
   ]
  },
  {
   "cell_type": "code",
   "execution_count": 2,
   "metadata": {},
   "outputs": [],
   "source": [
    "df = pd.read_csv(\"Data/sampled_counterparts.csv\")\n",
    "# df = df[((df['pd']>=0.1) & ((1000 < df['lgd dwt']*df['ead']) & (df['lgd dwt']*df['ead'] < 5000000)))]\n",
    "df =  df.iloc[[38-2, 260-2]] #df.iloc[[38-2, 260-2, 7816-2]] \n",
    "\n",
    "F_matrix = pd.read_csv(\"Data/F_for_sampled_counterparts.csv\")\n",
    "sectors = [1] #[1, 2]\n",
    "F_values = [[F_matrix.iloc[df.index.values[j]][i-1] for i in sectors] for j in range(len(df))]\n",
    "# F_values = [[0.55], [0.65], [0.50]] # make F/rhos"
   ]
  },
  {
   "cell_type": "markdown",
   "metadata": {},
   "source": [
    "## Parameters setting"
   ]
  },
  {
   "cell_type": "code",
   "execution_count": 3,
   "metadata": {},
   "outputs": [
    {
     "name": "stdout",
     "output_type": "stream",
     "text": [
      "F: [[0.1580707722], [0.2555327991]]\n",
      "Rhos: [0.3 0.3]\n",
      "Lgds: [18406.56224845756, 54807.94141703075]\n",
      "p_zeros: [0.2565108504, 0.0715568886]\n"
     ]
    },
    {
     "data": {
      "text/html": [
       "<div>\n",
       "<style scoped>\n",
       "    .dataframe tbody tr th:only-of-type {\n",
       "        vertical-align: middle;\n",
       "    }\n",
       "\n",
       "    .dataframe tbody tr th {\n",
       "        vertical-align: top;\n",
       "    }\n",
       "\n",
       "    .dataframe thead th {\n",
       "        text-align: right;\n",
       "    }\n",
       "</style>\n",
       "<table border=\"1\" class=\"dataframe\">\n",
       "  <thead>\n",
       "    <tr style=\"text-align: right;\">\n",
       "      <th></th>\n",
       "      <th>cluster</th>\n",
       "      <th>pd</th>\n",
       "      <th>lgd dwt</th>\n",
       "      <th>ead</th>\n",
       "      <th>num ctp</th>\n",
       "      <th>sett</th>\n",
       "      <th>is</th>\n",
       "      <th>acca</th>\n",
       "      <th>cod type</th>\n",
       "      <th>cod stato</th>\n",
       "      <th>lgd pag</th>\n",
       "    </tr>\n",
       "  </thead>\n",
       "  <tbody>\n",
       "    <tr>\n",
       "      <th>36</th>\n",
       "      <td>005118_618</td>\n",
       "      <td>0.256511</td>\n",
       "      <td>0.223071</td>\n",
       "      <td>82514.537908</td>\n",
       "      <td>83292</td>\n",
       "      <td>5</td>\n",
       "      <td>0.3</td>\n",
       "      <td>0.000083</td>\n",
       "      <td>0</td>\n",
       "      <td>0</td>\n",
       "      <td>0.187699</td>\n",
       "    </tr>\n",
       "    <tr>\n",
       "      <th>258</th>\n",
       "      <td>002116_18</td>\n",
       "      <td>0.071557</td>\n",
       "      <td>0.194311</td>\n",
       "      <td>282063.242107</td>\n",
       "      <td>888</td>\n",
       "      <td>2</td>\n",
       "      <td>0.3</td>\n",
       "      <td>0.019318</td>\n",
       "      <td>0</td>\n",
       "      <td>0</td>\n",
       "      <td>0.157672</td>\n",
       "    </tr>\n",
       "  </tbody>\n",
       "</table>\n",
       "</div>"
      ],
      "text/plain": [
       "        cluster        pd   lgd dwt            ead  num ctp  sett   is  \\\n",
       "36   005118_618  0.256511  0.223071   82514.537908    83292     5  0.3   \n",
       "258   002116_18  0.071557  0.194311  282063.242107      888     2  0.3   \n",
       "\n",
       "         acca  cod type  cod stato   lgd pag  \n",
       "36   0.000083         0          0  0.187699  \n",
       "258  0.019318         0          0  0.157672  "
      ]
     },
     "execution_count": 3,
     "metadata": {},
     "output_type": "execute_result"
    }
   ],
   "source": [
    "# set problem parameters\n",
    "n_z = 2\n",
    "z_max = 2\n",
    "\n",
    "p_zeros = [el['pd'] for _, el in df.iterrows()]\n",
    "rhos = [el['is']**2 for _, el in df.iterrows()]\n",
    "lgd = [el['lgd dwt']*el['ead'] for _, el in df.iterrows()]\n",
    "\n",
    "K = len(p_zeros)\n",
    "\n",
    "alpha_var = 0.05\n",
    "\n",
    "compute_depth = False\n",
    "serialization = False\n",
    "\n",
    "print(f'F: {F_values}\\nRhos: {np.sqrt(rhos)}\\nLgds: {lgd}\\np_zeros: {p_zeros}')\n",
    "df"
   ]
  },
  {
   "cell_type": "markdown",
   "metadata": {},
   "source": [
    "### Encoding of the uncertainty model"
   ]
  },
  {
   "cell_type": "code",
   "execution_count": 4,
   "metadata": {},
   "outputs": [
    {
     "data": {
      "image/png": "[encoded data removed]",
      "text/plain": [
       "<Figure size 267.197x264.88 with 1 Axes>"
      ]
     },
     "execution_count": 4,
     "metadata": {},
     "output_type": "execute_result"
    }
   ],
   "source": [
    "u = MultivariateGCI_sr(n_z, z_max, p_zeros, rhos, F_values[1])\n",
    "u = MultivariateGCI_mr(n_z, z_max, p_zeros, rhos, F_values)\n",
    "\n",
    "# from qiskit_finance.circuit.library import GaussianConditionalIndependenceModel as GCI\n",
    "\n",
    "# u = GCI(n_z, z_max, p_zeros, rhos)\n",
    "\n",
    "# print(u.decompose().draw(output='latex_source'))\n",
    "u.decompose().draw(\"mpl\")"
   ]
  },
  {
   "cell_type": "markdown",
   "metadata": {},
   "source": [
    "## Uncertainty model testing"
   ]
  },
  {
   "cell_type": "code",
   "execution_count": 5,
   "metadata": {},
   "outputs": [
    {
     "name": "stdout",
     "output_type": "stream",
     "text": [
      "Expected Loss E[L]:                8243.3829\n",
      "Value at Risk VaR[L]:              54807.9414\n"
     ]
    }
   ],
   "source": [
    "# run the circuit and analyze the results\n",
    "job = execute(u, backend=Aer.get_backend('statevector_simulator'),) # n_shots=n_shots)\n",
    "\n",
    "# analyze uncertainty circuit and determine exact solutions\n",
    "p_z = np.zeros(2**n_z)\n",
    "p_default = np.zeros(K)\n",
    "values = []\n",
    "probabilities = []\n",
    "num_qubits = u.num_qubits\n",
    "for i, a in enumerate(np.array(job.result().get_statevector())):\n",
    "    \n",
    "    # get binary representation\n",
    "    b = ('{0:0%sb}' % num_qubits).format(i)\n",
    "    prob = np.abs(a)**2\n",
    "    \n",
    "    # extract value of Z and corresponding probability    \n",
    "    i_normal = int(b[-n_z:], 2)\n",
    "    p_z[i_normal] += prob\n",
    "\n",
    "    # determine overall default probability for k \n",
    "    loss = 0\n",
    "    for k in range(K):\n",
    "        if b[K - k - 1] == '1':\n",
    "            p_default[k] += prob\n",
    "            loss += lgd[k]\n",
    "    values += [loss]\n",
    "    probabilities += [prob]   \n",
    "\n",
    "values = np.array(values)\n",
    "probabilities = np.array(probabilities)\n",
    "    \n",
    "expected_loss = np.dot(values, probabilities)\n",
    "\n",
    "losses = np.sort(np.unique(values))\n",
    "pdf = np.zeros(len(losses))\n",
    "for i, v in enumerate(losses):\n",
    "    pdf[i] += sum(probabilities[values == v])\n",
    "cdf = np.cumsum(pdf)\n",
    "\n",
    "i_var = np.argmax(cdf >= 1-alpha_var)\n",
    "exact_var = losses[i_var]\n",
    "\n",
    "print('Expected Loss E[L]:                %.4f' % expected_loss)\n",
    "print('Value at Risk VaR[L]:              %.4f' % exact_var)\n",
    "\n",
    "# # plot loss CDF\n",
    "# plt.rcParams['text.usetex'] = True\n",
    "# plt.rcParams[\"figure.figsize\"] = (8, 8)\n",
    "# plt.plot(np.sort(np.unique(losses)), cdf, 'o-g')\n",
    "# plt.axhline(1-alpha_var, color=\"orange\", linestyle=\"--\")\n",
    "   \n",
    "# plt.xlabel(\"Loss L ($)\", size=17)\n",
    "# plt.ylabel(r'$P[\\mathcal{L} \\leq X]$', size=17) \n",
    "# plt.title (\"CDF of Total Loss\", size=17)\n",
    "# plt.xticks(size=17) # plt.xticks(np.sort(np.unique(losses)), np.sort(np.unique(losses)), size=17)\n",
    "# plt.yticks(size=17)\n",
    "# plt.show()\n",
    "# cdf"
   ]
  },
  {
   "cell_type": "code",
   "execution_count": 6,
   "metadata": {},
   "outputs": [],
   "source": [
    "def mapping(decimal_number):\n",
    "    b = ('{0:0%sb}' % K).format(decimal_number)\n",
    "    #print(b)\n",
    "    losses = [loss for i, loss in enumerate(lgd[::-1]) if b[i]=='1']\n",
    "    #print(losses)\n",
    "    total_loss = sum(losses)\n",
    "    return total_loss\n",
    "\n",
    "def find_breakpoint(x_eval):\n",
    "    for el in range(0,2**K):\n",
    "        if mapping(el) <= x_eval:\n",
    "            if mapping(el+1) >= x_eval:\n",
    "                return el\n",
    "    return 0\n",
    "\n",
    "depth = 'e_loss'"
   ]
  },
  {
   "cell_type": "code",
   "execution_count": 7,
   "metadata": {
    "tags": []
   },
   "outputs": [],
   "source": [
    "if depth == 'e_loss':\n",
    "    # define linear objective function for expected loss\n",
    "    breakpoints = list(range(0,2**K))\n",
    "    slopes = [0]*len(breakpoints)\n",
    "    offsets = [mapping(el) for el in breakpoints]\n",
    "    f_min = 0\n",
    "    f_max = sum(lgd)\n",
    "    c_approx = 0.01\n",
    "\n",
    "    objective_e_loss = LinearAmplitudeFunction(\n",
    "        K,\n",
    "        slope=slopes, \n",
    "        offset=offsets, \n",
    "        # max value that can be reached by the qubit register (will not always be reached)\n",
    "        domain=(0, 2**K-1),  \n",
    "        image=(f_min, f_max),\n",
    "        rescaling_factor=c_approx,\n",
    "        breakpoints=breakpoints\n",
    "    )"
   ]
  },
  {
   "cell_type": "markdown",
   "metadata": {},
   "source": [
    "### Testing without QAE"
   ]
  },
  {
   "cell_type": "code",
   "execution_count": 8,
   "metadata": {},
   "outputs": [
    {
     "name": "stdout",
     "output_type": "stream",
     "text": [
      "Operator Expected Loss = 8244.4468 0.49391484094411564\n"
     ]
    },
    {
     "data": {
      "text/html": [
       "<pre style=\"word-wrap: normal;white-space: pre;background: #fff0;line-height: 1.1;font-family: &quot;Courier New&quot;,Courier,monospace\">           ┌───────┐      \n",
       "  state_0: ┤0      ├──────\n",
       "           │       │      \n",
       "  state_1: ┤1      ├──────\n",
       "           │  P(X) │┌────┐\n",
       "  state_2: ┤2      ├┤0   ├\n",
       "           │       ││    │\n",
       "  state_3: ┤3      ├┤1   ├\n",
       "           └───────┘│    │\n",
       "objective: ─────────┤2 F ├\n",
       "                    │    │\n",
       "   work_0: ─────────┤3   ├\n",
       "                    │    │\n",
       "   work_1: ─────────┤4   ├\n",
       "                    └────┘</pre>"
      ],
      "text/plain": [
       "           ┌───────┐      \n",
       "  state_0: ┤0      ├──────\n",
       "           │       │      \n",
       "  state_1: ┤1      ├──────\n",
       "           │  P(X) │┌────┐\n",
       "  state_2: ┤2      ├┤0   ├\n",
       "           │       ││    │\n",
       "  state_3: ┤3      ├┤1   ├\n",
       "           └───────┘│    │\n",
       "objective: ─────────┤2 F ├\n",
       "                    │    │\n",
       "   work_0: ─────────┤3   ├\n",
       "                    │    │\n",
       "   work_1: ─────────┤4   ├\n",
       "                    └────┘"
      ]
     },
     "execution_count": 8,
     "metadata": {},
     "output_type": "execute_result"
    }
   ],
   "source": [
    "from qiskit.circuit.library import LinearAmplitudeFunction\n",
    "\n",
    "\n",
    "def get_cdf_circuit(x_eval):\n",
    "    \n",
    "    # define linear objective function for cdf\n",
    "    breakpoints = list(range(0,2**K))\n",
    "    slopes = [0]*len(breakpoints)\n",
    "    # print(values)\n",
    "    offsets = [1 if mapping(el)<=x_eval else 0 for el in breakpoints]\n",
    "    f_min = 0\n",
    "    f_max = 1\n",
    "    c_approx = 0.01\n",
    "    \n",
    "    objective = LinearAmplitudeFunction(\n",
    "        K,\n",
    "        slope=slopes, \n",
    "        offset=offsets, \n",
    "        # max value that can be reached by the qubit register (will not always be reached)\n",
    "        domain=(0, 2**K-1),  \n",
    "        image=(f_min, f_max),\n",
    "        rescaling_factor=c_approx,\n",
    "        breakpoints=breakpoints\n",
    "    )\n",
    "\n",
    "    # define the registers for convenience and readability\n",
    "    qr_state = QuantumRegister(u.num_qubits, 'state')\n",
    "    qr_obj = QuantumRegister(1, 'objective')\n",
    "    ar = QuantumRegister(objective.num_ancillas, \"work\")  # additional qubits\n",
    "\n",
    "    # define the circuit\n",
    "    state_preparation = QuantumCircuit(qr_state, qr_obj, ar, name='A')\n",
    "\n",
    "    # load the random variable\n",
    "    state_preparation.append(u.to_gate(), qr_state)\n",
    "\n",
    "    # linear objective function (does aggregation and comparison)\n",
    "    if depth == 'e_loss':\n",
    "        state_preparation.append(objective_e_loss.to_gate(), qr_state[-K:] + qr_obj[:] + ar[:])\n",
    "        return state_preparation, objective_e_loss\n",
    "    else:\n",
    "        state_preparation.append(objective.to_gate(), qr_state[-K:] + qr_obj[:] + ar[:])\n",
    "        return state_preparation, objective\n",
    "    \n",
    "example = 0\n",
    "state_preparation, objective = get_cdf_circuit(example)\n",
    "job = execute(state_preparation, backend=Aer.get_backend('statevector_simulator'))\n",
    "\n",
    "# evaluate resulting statevector\n",
    "var_prob = 0\n",
    "for i, a in enumerate(np.array(job.result().get_statevector())):\n",
    "    b = ('{0:0%sb}' % (u.num_qubits + 1)).format(i)[-(u.num_qubits + 1):]\n",
    "    prob = np.abs(a)**2\n",
    "    if b[0] == '1':\n",
    "        var_prob += prob\n",
    "if depth == 'e_loss':\n",
    "    print('Operator Expected Loss' + ' = %.4f' % objective.post_processing(var_prob), var_prob)\n",
    "else:\n",
    "    print('Operator CDF(%s)' % example + ' = %.4f' % objective.post_processing(var_prob))\n",
    "state_preparation.draw()\n",
    "# objective.decompose().decompose().draw()"
   ]
  },
  {
   "cell_type": "markdown",
   "metadata": {},
   "source": [
    "## Experiments\n",
    "### Setup"
   ]
  },
  {
   "cell_type": "code",
   "execution_count": 9,
   "metadata": {},
   "outputs": [
    {
     "name": "stderr",
     "output_type": "stream",
     "text": [
      "Device reported a gate error parameter greater than maximum allowed value (1.000000 > 0.800000). Truncating to maximum value.\n",
      "Device model returned a depolarizing error parameter greater than maximum allowed value (1.071173 > 1.066667). Truncating to maximum value.\n",
      "Device reported a gate error parameter greater than maximum allowed value (1.000000 > 0.800000). Truncating to maximum value.\n",
      "Device model returned a depolarizing error parameter greater than maximum allowed value (1.071247 > 1.066667). Truncating to maximum value.\n"
     ]
    }
   ],
   "source": [
    "from qiskit_ibm_runtime import QiskitRuntimeService\n",
    "\n",
    "service = QiskitRuntimeService()\n",
    "backend = service.backend(\"ibm_algiers\")\n",
    "backend_name = backend.name\n",
    "\n",
    "from qiskit.providers.models import BackendProperties\n",
    "import warnings\n",
    "\n",
    "def get_noise_model_from_backend_v2(\n",
    "    backend,\n",
    "    gate_error=True,\n",
    "    readout_error=True,\n",
    "    thermal_relaxation=True,\n",
    "    temperature=0,\n",
    "    gate_lengths=None,\n",
    "    gate_length_units=\"ns\",\n",
    "    standard_gates=None,\n",
    "):\n",
    "    \"\"\"Build noise model from BackendV2.\n",
    "    This is a temporary fix until qiskit-aer supports building noise model\n",
    "    from a BackendV2 object.\n",
    "    \"\"\"\n",
    "\n",
    "    from qiskit.circuit import Delay\n",
    "    from qiskit.providers.exceptions import BackendPropertyError\n",
    "    from qiskit.providers.aer.noise import NoiseModel\n",
    "    from qiskit.providers.aer.noise.device.models import (\n",
    "        _excited_population,\n",
    "        basic_device_gate_errors,\n",
    "        basic_device_readout_errors,\n",
    "    )\n",
    "    from qiskit.providers.aer.noise.passes import RelaxationNoisePass\n",
    "\n",
    "    if backend.properties() is None:\n",
    "        backend._set_props_dict_from_json()\n",
    "\n",
    "    # properties = BackendProperties.from_dict(backend._props_dict)\n",
    "    properties = backend.properties()\n",
    "    basis_gates = backend.operation_names\n",
    "    num_qubits = backend.num_qubits\n",
    "    dt = backend.dt\n",
    "\n",
    "    noise_model = NoiseModel(basis_gates=basis_gates)\n",
    "\n",
    "    # Add single-qubit readout errors\n",
    "    if readout_error:\n",
    "        for qubits, error in basic_device_readout_errors(properties):\n",
    "            noise_model.add_readout_error(error, qubits)\n",
    "\n",
    "    # Add gate errors\n",
    "    with warnings.catch_warnings():\n",
    "        warnings.filterwarnings(\n",
    "            \"ignore\",\n",
    "            module=\"qiskit.providers.aer.noise.device.models\",\n",
    "        )\n",
    "        gate_errors = basic_device_gate_errors(\n",
    "            properties,\n",
    "            gate_error=gate_error,\n",
    "            thermal_relaxation=thermal_relaxation,\n",
    "            gate_lengths=gate_lengths,\n",
    "            gate_length_units=gate_length_units,\n",
    "            temperature=temperature,\n",
    "            standard_gates=standard_gates,\n",
    "        )\n",
    "    for name, qubits, error in gate_errors:\n",
    "        noise_model.add_quantum_error(error, name, qubits)\n",
    "\n",
    "    if thermal_relaxation:\n",
    "        # Add delay errors via RelaxationNiose pass\n",
    "        try:\n",
    "            excited_state_populations = [\n",
    "                _excited_population(freq=properties.frequency(q), temperature=temperature)\n",
    "                for q in range(num_qubits)\n",
    "            ]\n",
    "        except BackendPropertyError:\n",
    "            excited_state_populations = None\n",
    "        \n",
    "        delay_pass = RelaxationNoisePass(\n",
    "            t1s=[properties.t1(q) for q in range(num_qubits)],\n",
    "            t2s=[properties.t2(q) for q in range(num_qubits)],\n",
    "            dt=dt,\n",
    "            op_types=Delay,\n",
    "            excited_state_populations=excited_state_populations,\n",
    "        )\n",
    "        noise_model._custom_noise_passes.append(delay_pass)\n",
    "\n",
    "\n",
    "    return noise_model\n",
    "\n",
    "noise_model = get_noise_model_from_backend_v2(backend)\n"
   ]
  },
  {
   "cell_type": "code",
   "execution_count": 10,
   "metadata": {
    "tags": []
   },
   "outputs": [],
   "source": [
    "# set target precision and confidence level\n",
    "epsilon = 0.01/6\n",
    "alpha = 0.05/6\n",
    "\n",
    "simulated = True\n",
    "optimization_level = 1\n",
    "n_shots = 2048\n",
    "\n",
    "qi_ideal = QuantumInstance(Aer.get_backend('qasm_simulator'), shots=n_shots, \n",
    "                           optimization_level=optimization_level, seed_transpiler=42)\n",
    "\n",
    "\n",
    "coupling_map = backend.configuration().coupling_map\n",
    "basis_gates = noise_model.basis_gates\n",
    "\n",
    "qi_noise = QuantumInstance(Aer.get_backend('qasm_simulator'), shots=n_shots, \n",
    "                        optimization_level=optimization_level, seed_transpiler=42,\n",
    "                        noise_model=noise_model, basis_gates=basis_gates, coupling_map=coupling_map)\n",
    "\n",
    "problem = EstimationProblem(state_preparation=state_preparation,\n",
    "                            objective_qubits=[u.num_qubits],\n",
    "                            post_processing=objective.post_processing)"
   ]
  },
  {
   "cell_type": "markdown",
   "metadata": {},
   "source": [
    "### Running"
   ]
  },
  {
   "cell_type": "code",
   "execution_count": 11,
   "metadata": {},
   "outputs": [
    {
     "data": {
      "image/png": "[encoded data removed]",
      "text/plain": [
       "<Figure size 1080.51x806.68 with 1 Axes>"
      ]
     },
     "execution_count": 11,
     "metadata": {},
     "output_type": "execute_result"
    }
   ],
   "source": [
    "# Sequential Standard QAE\n",
    "\n",
    "ae_sequential = AmplitudeEstimation(6, quantum_instance=qi_ideal)\n",
    "circuit = ae_sequential.construct_circuit(problem)\n",
    "\n",
    "# ideal_result = ae_sequential.estimate(problem)\n",
    "# print(\"result with no noise:\", ideal_result.mle_processed, ideal_result.mle)\n",
    "circuit.decompose().draw(\"mpl\", filename='Images/canonical_ae_k_63.svg')"
   ]
  },
  {
   "cell_type": "code",
   "execution_count": 12,
   "metadata": {
    "tags": []
   },
   "outputs": [],
   "source": [
    "if compute_depth == True:\n",
    "    #from qiskit.visualization import plot_circuit_layout\n",
    "\n",
    "    tr_ae_circuit = transpile(circuit, optimization_level=optimization_level, backend=backend, seed_transpiler=42)\n",
    "    \n",
    "    # Return circuit depth (i.e., length of critical path).\n",
    "    print(tr_ae_circuit.depth()) #883039 montreal - 901717 algiers (832217 with opt_level=2) - 880994 canberra (843007 with opt_level=2)\n",
    "    # Returns total number of instructions in circuit.\n",
    "    print(tr_ae_circuit.size()) #1186068 montreal - 1198662 algiers (1086111 with opt_level=2) - 1182081 canberra (1106202 with opt_level=2)\n",
    "\n",
    "    #plot_circuit_layout(tr_ae_circuit, backend)"
   ]
  },
  {
   "cell_type": "code",
   "execution_count": 13,
   "metadata": {},
   "outputs": [
    {
     "data": {
      "image/png": "[encoded data removed]",
      "text/plain": [
       "<Figure size 1503.59x1348.48 with 1 Axes>"
      ]
     },
     "execution_count": 13,
     "metadata": {},
     "output_type": "execute_result"
    }
   ],
   "source": [
    "# Parallel Standard QAE\n",
    "\n",
    "grover_op = problem.grover_operator\n",
    "resolution = 6\n",
    "iqft = QFT(resolution, inverse=True, do_swaps=False).reverse_bits()\n",
    "\n",
    "def get_parallelized_circuit():\n",
    "    \n",
    "    # define the registers for convenience and readability\n",
    "    qr_state = QuantumRegister(u.num_qubits, 'state')\n",
    "    qr_obj = QuantumRegister(1, 'objective')\n",
    "    ar = QuantumRegister(objective.num_ancillas, \"work\")  # additional qubits\n",
    "\n",
    "    qr_state2 = QuantumRegister(u.num_qubits, 'state_2')\n",
    "    qr_obj2 = QuantumRegister(1, 'objective_2')\n",
    "    ar2 = QuantumRegister(objective.num_ancillas, \"work_2\")  # additional qubits\n",
    "\n",
    "    qr_result = QuantumRegister(resolution, 'result')\n",
    "    qr_eval = QuantumRegister(1, 'eval')\n",
    "\n",
    "    # define the circuit\n",
    "    state_preparation = QuantumCircuit(qr_state, qr_obj, ar, qr_eval, qr_state2, qr_obj2, ar2, qr_result, name='A')\n",
    "\n",
    "    for i in range(resolution):\n",
    "        state_preparation.h(qr_result[i]) # hadamards on evaluation qubits\n",
    "\n",
    "    # load the random variable\n",
    "    state_preparation.append(u.to_gate(), qr_state)\n",
    "    state_preparation.append(u.to_gate(), qr_state2)\n",
    "\n",
    "    # linear objective function (does aggregation and comparison)\n",
    "    state_preparation.append(objective_e_loss.to_gate(), qr_state[-K:] + qr_obj[:] + ar[:])\n",
    "    state_preparation.append(objective_e_loss.to_gate(), qr_state2[-K:] + qr_obj2[:] + ar2[:])\n",
    "    state_preparation.cx(qr_result[resolution-1], qr_eval[0])\n",
    "    \n",
    "    state_preparation.compose(grover_op.power(2**(resolution-1)).control(), qubits=qr_eval[:]+qr_state[:] + qr_obj[:] + ar[:], inplace=True)\n",
    "    for i in range(resolution-1):\n",
    "        state_preparation.compose(grover_op.power(2**i).control(), qubits=qr_result[i:i+1]+qr_state2[:] + qr_obj2[:] + ar2[:], inplace=True)\n",
    "\n",
    "    state_preparation.cx(qr_result[resolution-1], qr_eval[0])\n",
    "    state_preparation.compose(iqft, qubits=qr_result[:], inplace=True)\n",
    "    \n",
    "    cr = ClassicalRegister(resolution)\n",
    "    state_preparation.add_register(cr)\n",
    "    state_preparation.measure(qr_result[:], list(range(resolution)))\n",
    "\n",
    "    return state_preparation, objective_e_loss\n",
    "\n",
    "    \n",
    "state_preparation2, objective = get_parallelized_circuit()\n",
    "state_preparation2.draw(\"mpl\", filename='Images/parallel_qae_k_63.svg')\n"
   ]
  },
  {
   "cell_type": "code",
   "execution_count": 14,
   "metadata": {},
   "outputs": [],
   "source": [
    "from collections import OrderedDict\n",
    "from qiskit.algorithms.amplitude_estimators.ae_utils import pdf_a, bisect_max\n",
    "\n",
    "def evaluate_count_results(counts):\n",
    "    # construct probabilities\n",
    "    measurements = OrderedDict()\n",
    "    samples = OrderedDict()\n",
    "    shots = n_shots\n",
    "\n",
    "    for state, count in counts.items():\n",
    "        y = int(state.replace(\" \", \"\")[:resolution][::-1], 2)\n",
    "        probability = count / shots\n",
    "        measurements[y] = probability\n",
    "        a = np.round(np.power(np.sin(y * np.pi / 2**resolution), 2), decimals=7)\n",
    "        samples[a] = samples.get(a, 0.0) + probability\n",
    "\n",
    "    return samples, measurements\n",
    "\n",
    "\n",
    "def compute_mle(\n",
    "        estimation, samples, apply_post_processing: bool = False\n",
    "    ) -> float:\n",
    "\n",
    "        m = resolution\n",
    "        M = 2**m  # pylint: disable=invalid-name\n",
    "        qae = estimation\n",
    "\n",
    "        # likelihood function\n",
    "        a_i = np.asarray(list(samples.keys()))\n",
    "        p_i = np.asarray(list(samples.values()))\n",
    "\n",
    "        def loglikelihood(a):\n",
    "            return np.sum(10000 * p_i * np.log(pdf_a(a_i, a, m)))\n",
    "\n",
    "        # y is pretty much an integer, but to map 1.9999 to 2 we must first\n",
    "        # use round and then int conversion\n",
    "        y = int(np.round(M * np.arcsin(np.sqrt(qae)) / np.pi))\n",
    "\n",
    "        # Compute the two intervals in which are candidates for containing\n",
    "        # the maximum of the log-likelihood function: the two bubbles next to\n",
    "        # the QAE estimate\n",
    "        if y == 0:\n",
    "            right_of_qae = np.sin(np.pi * (y + 1) / M) ** 2\n",
    "            bubbles = [qae, right_of_qae]\n",
    "\n",
    "        elif y == int(M / 2):  # remember, M = 2^m is a power of 2\n",
    "            left_of_qae = np.sin(np.pi * (y - 1) / M) ** 2\n",
    "            bubbles = [left_of_qae, qae]\n",
    "\n",
    "        else:\n",
    "            left_of_qae = np.sin(np.pi * (y - 1) / M) ** 2\n",
    "            right_of_qae = np.sin(np.pi * (y + 1) / M) ** 2\n",
    "            bubbles = [left_of_qae, qae, right_of_qae]\n",
    "\n",
    "        # Find global maximum amongst the two local maxima\n",
    "        a_opt = qae\n",
    "        loglik_opt = loglikelihood(a_opt)\n",
    "        for a, b in zip(bubbles[:-1], bubbles[1:]):\n",
    "            locmax, val = bisect_max(loglikelihood, a, b, retval=True)\n",
    "            if val > loglik_opt:\n",
    "                a_opt = locmax\n",
    "                loglik_opt = val\n",
    "\n",
    "        if apply_post_processing:\n",
    "            return problem.post_processing(a_opt)\n",
    "\n",
    "        return a_opt\n",
    "\n",
    "def run_parallel_noiseless(noise=False):\n",
    "    if noise == False:\n",
    "        counts = qi_ideal.execute(state_preparation2).get_counts()\n",
    "    else:\n",
    "        counts = qi_noise.execute(state_preparation2).get_counts()\n",
    "\n",
    "    samples, measurements = evaluate_count_results(counts)\n",
    "    samples_processed = {\n",
    "                problem.post_processing(a): p for a, p in samples.items()\n",
    "            }\n",
    "    # determine the most likely estimate\n",
    "    max_probability = 0\n",
    "    for amplitude, (mapped, prob) in zip(samples.keys(), samples_processed.items()):\n",
    "        if prob > max_probability:\n",
    "            max_probability = prob\n",
    "            estimation = amplitude\n",
    "            estimation_processed = mapped\n",
    "\n",
    "    return compute_mle(estimation, samples, apply_post_processing=True)"
   ]
  },
  {
   "cell_type": "code",
   "execution_count": 15,
   "metadata": {},
   "outputs": [],
   "source": [
    "if compute_depth == True:\n",
    "    #from qiskit.visualization import plot_circuit_layout\n",
    "\n",
    "    tr_ae_circuit = transpile(state_preparation2, optimization_level=optimization_level, backend=backend, seed_transpiler=42)\n",
    "    \n",
    "    # Return circuit depth (i.e., length of critical path).\n",
    "    print(tr_ae_circuit.depth()) #455118\n",
    "    # Returns total number of instructions in circuit.\n",
    "    print(tr_ae_circuit.size()) #1183273\n",
    "\n",
    "    #plot_circuit_layout(tr_ae_circuit, backend)"
   ]
  },
  {
   "cell_type": "code",
   "execution_count": 16,
   "metadata": {},
   "outputs": [],
   "source": [
    "try:\n",
    "  print(results)\n",
    "except:\n",
    "  results = pd.DataFrame()"
   ]
  },
  {
   "cell_type": "code",
   "execution_count": 17,
   "metadata": {},
   "outputs": [],
   "source": [
    "from datetime import datetime\n",
    "import pytz\n",
    "\n",
    "if serialization == True:\n",
    "    kind_of_simulation = 'sequential'\n",
    "    n_simulation = 10\n",
    "    asset_class = [36, 258]\n",
    "    risk_factor = [1]\n",
    "    execution_times = []\n",
    "\n",
    "    for i in range(n_simulation):\n",
    "        \n",
    "        if kind_of_simulation == 'parallel':\n",
    "            state_preparation = state_preparation2\n",
    "            execution_backend = 'Simulator'\n",
    "            now = datetime.now(tz=pytz.timezone(\"Europe/Rome\"))\n",
    "\n",
    "            ideal_result = run_parallel_noiseless(noise=False)\n",
    "\n",
    "            now_1 = datetime.now(tz=pytz.timezone(\"Europe/Rome\"))\n",
    "            execution_times.append(now_1-now)\n",
    "            \n",
    "        elif kind_of_simulation == 'sequential':\n",
    "            execution_backend = 'Simulator'\n",
    "            now = datetime.now(tz=pytz.timezone(\"Europe/Rome\"))\n",
    "            ideal_result = ae_sequential.estimate(problem).mle_processed\n",
    "            now_1 = datetime.now(tz=pytz.timezone(\"Europe/Rome\"))\n",
    "            execution_times.append(now_1-now)    \n",
    "\n",
    "\n",
    "        results = results.append({  'Device':backend_name,\n",
    "                                    'Kind': kind_of_simulation,\n",
    "                                    'qubits':int(state_preparation.num_qubits),\n",
    "                                    'Execution_backend':execution_backend,\n",
    "                                    'asset':asset_class,\n",
    "                                    'risk_factor':risk_factor,\n",
    "                                    'Expected Total Loss':ideal_result,\n",
    "                                    },ignore_index=True)\n",
    "    execution_times"
   ]
  },
  {
   "cell_type": "code",
   "execution_count": 18,
   "metadata": {},
   "outputs": [],
   "source": [
    "if serialization == True:\n",
    "    if kind_of_simulation == 'sequential':\n",
    "        results.to_excel('Data/qae_sequential_results.xlsx')\n",
    "    elif kind_of_simulation == 'parallel':\n",
    "        results.to_excel('Data/qae_parallel_results.xlsx')"
   ]
  },
  {
   "cell_type": "markdown",
   "metadata": {},
   "source": [
    "### Parallel IQAE attempt"
   ]
  },
  {
   "cell_type": "code",
   "execution_count": 70,
   "metadata": {},
   "outputs": [
    {
     "data": {
      "image/png": "[encoded data removed]",
      "text/plain": [
       "<Figure size 540.393x1047.48 with 1 Axes>"
      ]
     },
     "execution_count": 70,
     "metadata": {},
     "output_type": "execute_result"
    }
   ],
   "source": [
    "def get_parallelized_iqae_circuit():\n",
    "    \n",
    "    # define the registers for convenience and readability\n",
    "    qr_state = QuantumRegister(u.num_qubits, 'state')\n",
    "    qr_obj = QuantumRegister(1, 'objective')\n",
    "    ar = QuantumRegister(objective.num_ancillas, \"work\")  # additional qubits\n",
    "\n",
    "    qr_state2 = QuantumRegister(u.num_qubits, 'state_2')\n",
    "    qr_obj2 = QuantumRegister(1, 'objective_2')\n",
    "    ar2 = QuantumRegister(objective.num_ancillas, \"work_2\")  # additional qubits\n",
    "\n",
    "    qr_eval = QuantumRegister(1, 'eval')\n",
    "    qr_eval2 = QuantumRegister(1, 'eval_2')\n",
    "\n",
    "    # define the circuit\n",
    "    state_preparation = QuantumCircuit(qr_state, qr_obj, ar, qr_eval, qr_state2, qr_obj2, ar2, qr_eval2, name='A')\n",
    "\n",
    "    # load the random variable\n",
    "    # state_preparation.append(u.to_gate(), qr_state)\n",
    "    state_preparation.append(u.to_gate(), qr_state2)\n",
    "\n",
    "    # state_preparation.cx(qr_result[0], qr_eval[0])\n",
    "    state_preparation.h(qr_eval2[0])\n",
    "    # state_preparation.h(qr_eval[0])\n",
    "\n",
    "    # linear objective function (does aggregation and comparison)\n",
    "    # state_preparation.append(objective_e_loss.to_gate(), qr_state[-K:] + qr_obj[:] + ar[:])\n",
    "    state_preparation.append(objective_e_loss.to_gate(), qr_state2[-K:] + qr_obj2[:] + ar2[:])\n",
    "    #state_preparation.cx(qr_eval2[-1], qr_eval[-1])\n",
    "    # state_preparation.append(problem.grover_operator.to_gate(), qr_state[:] + qr_obj[:] + ar[:])\n",
    "    \n",
    "    # state_preparation.compose(grover_op.power(2**(3)).control(), qubits=qr_eval[:]+qr_state[:] + qr_obj[:] + ar[:], inplace=True)\n",
    "    \n",
    "    state_preparation.compose(grover_op.power(19).control(), qubits=qr_eval2[:]+qr_state2[:] + qr_obj2[:] + ar2[:], inplace=True)\n",
    "\n",
    "    # state_preparation.cx(qr_eval2[-1], qr_eval[-1])\n",
    "    state_preparation.h(qr_eval2[0])\n",
    "    # state_preparation.h(qr_eval[0])\n",
    "    # state_preparation.append(qpe.to_gate(), qr_eval[:] + qr_state2[:] + qr_obj2[:] + ar2[:])\n",
    "    # state_preparation.cx(qr_result[0], qr_result[0])\n",
    "    cr = ClassicalRegister(1)\n",
    "    state_preparation.add_register(cr)\n",
    "    state_preparation.measure(qr_eval2[:], [0])\n",
    "\n",
    "    return state_preparation, objective_e_loss\n",
    "\n",
    "    \n",
    "state_preparation3, objective = get_parallelized_iqae_circuit()\n",
    "state_preparation3.draw(\"mpl\")"
   ]
  },
  {
   "cell_type": "code",
   "execution_count": 71,
   "metadata": {},
   "outputs": [
    {
     "name": "stdout",
     "output_type": "stream",
     "text": [
      "result with no noise, parallel: 0.621337890625\n"
     ]
    }
   ],
   "source": [
    "mode = 'parallel'\n",
    "sequential_k = 15\n",
    "\n",
    "iqae = IterativeAmplitudeEstimation(epsilon_target=0.01, alpha=0.1, quantum_instance=qi_ideal)\n",
    "iqae_circuit = iqae.construct_circuit(problem, k=sequential_k, measurement=True)\n",
    "\n",
    "if mode == 'sequential':\n",
    "    counts = qi_ideal.execute(iqae_circuit).get_counts(iqae_circuit)\n",
    "elif mode == 'parallel':\n",
    "    counts = qi_ideal.execute(state_preparation3).get_counts(state_preparation3)\n",
    "    \n",
    "num_qubits = iqae_circuit.num_qubits - iqae_circuit.num_ancillas\n",
    "one_counts = 0\n",
    "for state, count in counts.items():\n",
    "    if problem.is_good_state(state):\n",
    "        one_counts += count\n",
    "iqae_ideal_result = one_counts / sum(counts.values())\n",
    "\n",
    "\n",
    "if mode == 'sequential':\n",
    "    print(\"result with no noise, sequential:\", iqae_ideal_result)\n",
    "    iqae_circuit.decompose().draw(\"mpl\")\n",
    "else:\n",
    "    print(\"result with no noise, parallel:\", iqae_ideal_result)\n",
    "    state_preparation3.draw(\"mpl\")"
   ]
  },
  {
   "cell_type": "code",
   "execution_count": 73,
   "metadata": {},
   "outputs": [
    {
     "name": "stdout",
     "output_type": "stream",
     "text": [
      "0.09557470853945021\n"
     ]
    }
   ],
   "source": [
    "theta = np.arccos(1-2*iqae_ideal_result)/19\n",
    "print(theta)\n",
    "# np.sin(theta)**2\n"
   ]
  },
  {
   "cell_type": "code",
   "execution_count": 50,
   "metadata": {},
   "outputs": [],
   "source": [
    "results_iqae_sequential = iqae.estimate(problem)\n",
    "print(results_iqae_sequential.theta_intervals[-1])"
   ]
  },
  {
   "cell_type": "code",
   "execution_count": 52,
   "metadata": {},
   "outputs": [
    {
     "name": "stdout",
     "output_type": "stream",
     "text": [
      "{   'alpha': 0.1,\n",
      "    'circuit_results': None,\n",
      "    'confidence_interval': (0.49353021025472343, 0.49469792355558634),\n",
      "    'confidence_interval_processed': (6451.690800397798, 11894.379218234271),\n",
      "    'epsilon_estimated': 0.0005838566504314524,\n",
      "    'epsilon_estimated_processed': 2721.3442089182367,\n",
      "    'epsilon_target': None,\n",
      "    'estimate_intervals': [   [0.0, 1.0],\n",
      "                              [0.48464829529047904, 0.5231558680401124],\n",
      "                              [0.49353021025472343, 0.49469792355558634]],\n",
      "    'estimation': 0.4941140669051549,\n",
      "    'estimation_processed': 9173.035009316163,\n",
      "    'num_oracle_queries': 65536,\n",
      "    'powers': [0, 0, 16],\n",
      "    'ratios': [1.0, 33.0],\n",
      "    'shots': None,\n",
      "    'theta_intervals': [   [0, 0.25],\n",
      "                           [0.1225563162648143, 0.12868668951631224],\n",
      "                           [0.12397027224489135, 0.12415613250950641]]}\n"
     ]
    }
   ],
   "source": [
    "print(results_iqae_sequential)"
   ]
  }
 ],
 "metadata": {
  "kernelspec": {
   "display_name": "Python 3.9.12 ('qvar')",
   "language": "python",
   "name": "python3"
  },
  "language_info": {
   "codemirror_mode": {
    "name": "ipython",
    "version": 3
   },
   "file_extension": ".py",
   "mimetype": "text/x-python",
   "name": "python",
   "nbconvert_exporter": "python",
   "pygments_lexer": "ipython3",
   "version": "3.9.12"
  },
  "vscode": {
   "interpreter": {
    "hash": "5779756d2c2f50ed1fbffcc348c65b8fe5d82e6d6f5b430de7595757022a152b"
   }
  },
  "widgets": {
   "application/vnd.jupyter.widget-state+json": {
    "state": {},
    "version_major": 2,
    "version_minor": 0
   }
  }
 },
 "nbformat": 4,
 "nbformat_minor": 4
}
