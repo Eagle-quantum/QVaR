{
 "cells": [
  {
   "cell_type": "markdown",
   "metadata": {},
   "source": [
    "## Libraries and data Loading"
   ]
  },
  {
   "cell_type": "code",
   "execution_count": 34,
   "metadata": {},
   "outputs": [],
   "source": [
    "import numpy as np\n",
    "import pandas as pd\n",
    "import matplotlib.pyplot as plt\n",
    "from datetime import datetime\n",
    "import pytz\n",
    "\n",
    "from multivariateGCI_mr import MultivariateGCI_mr\n",
    "from multivariateGCI_sr import MultivariateGCI_sr\n",
    "\n",
    "from qiskit import QuantumRegister, QuantumCircuit, Aer, execute, IBMQ, transpile\n",
    "from qiskit.utils import QuantumInstance\n",
    "from qiskit.algorithms import IterativeAmplitudeEstimation, EstimationProblem\n",
    "from qiskit.providers.aer.noise import NoiseModel\n",
    "from qiskit.circuit.library import LinearAmplitudeFunction, PhaseEstimation, QFT, GroverOperator"
   ]
  },
  {
   "cell_type": "code",
   "execution_count": 35,
   "metadata": {},
   "outputs": [],
   "source": [
    "df = pd.read_csv(\"Data/sampled_counterparts.csv\")\n",
    "# df = df[((df['pd']>=0.1) & ((1000 < df['lgd dwt']*df['ead']) & (df['lgd dwt']*df['ead'] < 5000000)))]\n",
    "df =  df.iloc[[38-2, 260-2]] #df.iloc[[38-2, 260-2, 7816-2]] \n",
    "\n",
    "F_matrix = pd.read_csv(\"Data/F_for_sampled_counterparts.csv\")\n",
    "sectors = [1] #[1, 2]\n",
    "F_values = [[F_matrix.iloc[df.index.values[j]][i-1] for i in sectors] for j in range(len(df))]\n",
    "# F_values = [[0.55], [0.65], [0.50]] # make F/rhos"
   ]
  },
  {
   "cell_type": "markdown",
   "metadata": {},
   "source": [
    "## Parameters setting"
   ]
  },
  {
   "cell_type": "code",
   "execution_count": 36,
   "metadata": {},
   "outputs": [
    {
     "name": "stdout",
     "output_type": "stream",
     "text": [
      "F: [[0.1580707722], [0.2555327991]]\n",
      "Rhos: [0.3 0.3]\n",
      "Lgds: [18406.56224845756, 54807.94141703075]\n",
      "p_zeros: [0.2565108504, 0.0715568886]\n"
     ]
    },
    {
     "data": {
      "text/html": [
       "<div>\n",
       "<style scoped>\n",
       "    .dataframe tbody tr th:only-of-type {\n",
       "        vertical-align: middle;\n",
       "    }\n",
       "\n",
       "    .dataframe tbody tr th {\n",
       "        vertical-align: top;\n",
       "    }\n",
       "\n",
       "    .dataframe thead th {\n",
       "        text-align: right;\n",
       "    }\n",
       "</style>\n",
       "<table border=\"1\" class=\"dataframe\">\n",
       "  <thead>\n",
       "    <tr style=\"text-align: right;\">\n",
       "      <th></th>\n",
       "      <th>cluster</th>\n",
       "      <th>pd</th>\n",
       "      <th>lgd dwt</th>\n",
       "      <th>ead</th>\n",
       "      <th>num ctp</th>\n",
       "      <th>sett</th>\n",
       "      <th>is</th>\n",
       "      <th>acca</th>\n",
       "      <th>cod type</th>\n",
       "      <th>cod stato</th>\n",
       "      <th>lgd pag</th>\n",
       "    </tr>\n",
       "  </thead>\n",
       "  <tbody>\n",
       "    <tr>\n",
       "      <th>36</th>\n",
       "      <td>005118_618</td>\n",
       "      <td>0.256511</td>\n",
       "      <td>0.223071</td>\n",
       "      <td>82514.537908</td>\n",
       "      <td>83292</td>\n",
       "      <td>5</td>\n",
       "      <td>0.3</td>\n",
       "      <td>0.000083</td>\n",
       "      <td>0</td>\n",
       "      <td>0</td>\n",
       "      <td>0.187699</td>\n",
       "    </tr>\n",
       "    <tr>\n",
       "      <th>258</th>\n",
       "      <td>002116_18</td>\n",
       "      <td>0.071557</td>\n",
       "      <td>0.194311</td>\n",
       "      <td>282063.242107</td>\n",
       "      <td>888</td>\n",
       "      <td>2</td>\n",
       "      <td>0.3</td>\n",
       "      <td>0.019318</td>\n",
       "      <td>0</td>\n",
       "      <td>0</td>\n",
       "      <td>0.157672</td>\n",
       "    </tr>\n",
       "  </tbody>\n",
       "</table>\n",
       "</div>"
      ],
      "text/plain": [
       "        cluster        pd   lgd dwt            ead  num ctp  sett   is  \\\n",
       "36   005118_618  0.256511  0.223071   82514.537908    83292     5  0.3   \n",
       "258   002116_18  0.071557  0.194311  282063.242107      888     2  0.3   \n",
       "\n",
       "         acca  cod type  cod stato   lgd pag  \n",
       "36   0.000083         0          0  0.187699  \n",
       "258  0.019318         0          0  0.157672  "
      ]
     },
     "execution_count": 36,
     "metadata": {},
     "output_type": "execute_result"
    }
   ],
   "source": [
    "# set problem parameters\n",
    "n_z = 2\n",
    "z_max = 2\n",
    "\n",
    "p_zeros = [el['pd'] for _, el in df.iterrows()]\n",
    "rhos = [el['is']**2 for _, el in df.iterrows()]\n",
    "lgd = [el['lgd dwt']*el['ead'] for _, el in df.iterrows()]\n",
    "\n",
    "K = len(p_zeros)\n",
    "\n",
    "alpha_var = 0.05\n",
    "\n",
    "print(f'F: {F_values}\\nRhos: {np.sqrt(rhos)}\\nLgds: {lgd}\\np_zeros: {p_zeros}')\n",
    "df"
   ]
  },
  {
   "cell_type": "markdown",
   "metadata": {},
   "source": [
    "### Encoding of the uncertainty model"
   ]
  },
  {
   "cell_type": "code",
   "execution_count": 37,
   "metadata": {},
   "outputs": [
    {
     "data": {
      "image/png": "[encoded data removed]",
      "text/plain": [
       "<Figure size 267.197x264.88 with 1 Axes>"
      ]
     },
     "execution_count": 37,
     "metadata": {},
     "output_type": "execute_result"
    }
   ],
   "source": [
    "u = MultivariateGCI_sr(n_z, z_max, p_zeros, rhos, F_values[1])\n",
    "u = MultivariateGCI_mr(n_z, z_max, p_zeros, rhos, F_values)\n",
    "\n",
    "# from qiskit_finance.circuit.library import GaussianConditionalIndependenceModel as GCI\n",
    "\n",
    "# u = GCI(n_z, z_max, p_zeros, rhos)\n",
    "\n",
    "# print(u.decompose().draw(output='latex_source'))\n",
    "u.decompose().draw(\"mpl\", filename='Images/u_circuit.svg')"
   ]
  },
  {
   "cell_type": "markdown",
   "metadata": {},
   "source": [
    "## Uncertainty model testing"
   ]
  },
  {
   "cell_type": "code",
   "execution_count": 38,
   "metadata": {},
   "outputs": [
    {
     "name": "stdout",
     "output_type": "stream",
     "text": [
      "Expected Loss E[L]:                8243.3829\n",
      "Value at Risk VaR[L]:              54807.9414\n"
     ]
    },
    {
     "data": {
      "image/png": "[encoded data removed]",
      "text/plain": [
       "<Figure size 576x576 with 1 Axes>"
      ]
     },
     "metadata": {
      "needs_background": "light"
     },
     "output_type": "display_data"
    },
    {
     "data": {
      "text/plain": [
       "array([0.7026144 , 0.93317148, 0.98169751, 1.        ])"
      ]
     },
     "execution_count": 38,
     "metadata": {},
     "output_type": "execute_result"
    }
   ],
   "source": [
    "# run the circuit and analyze the results\n",
    "job = execute(u, backend=Aer.get_backend('statevector_simulator'),) # n_shots=n_shots)\n",
    "\n",
    "# analyze uncertainty circuit and determine exact solutions\n",
    "p_z = np.zeros(2**n_z)\n",
    "p_default = np.zeros(K)\n",
    "values = []\n",
    "probabilities = []\n",
    "num_qubits = u.num_qubits\n",
    "for i, a in enumerate(np.array(job.result().get_statevector())):\n",
    "    \n",
    "    # get binary representation\n",
    "    b = ('{0:0%sb}' % num_qubits).format(i)\n",
    "    prob = np.abs(a)**2\n",
    "    \n",
    "    # extract value of Z and corresponding probability    \n",
    "    i_normal = int(b[-n_z:], 2)\n",
    "    p_z[i_normal] += prob\n",
    "\n",
    "    # determine overall default probability for k \n",
    "    loss = 0\n",
    "    for k in range(K):\n",
    "        if b[K - k - 1] == '1':\n",
    "            p_default[k] += prob\n",
    "            loss += lgd[k]\n",
    "    values += [loss]\n",
    "    probabilities += [prob]   \n",
    "\n",
    "values = np.array(values)\n",
    "probabilities = np.array(probabilities)\n",
    "    \n",
    "expected_loss = np.dot(values, probabilities)\n",
    "\n",
    "losses = np.sort(np.unique(values))\n",
    "pdf = np.zeros(len(losses))\n",
    "for i, v in enumerate(losses):\n",
    "    pdf[i] += sum(probabilities[values == v])\n",
    "cdf = np.cumsum(pdf)\n",
    "\n",
    "i_var = np.argmax(cdf >= 1-alpha_var)\n",
    "exact_var = losses[i_var]\n",
    "\n",
    "print('Expected Loss E[L]:                %.4f' % expected_loss)\n",
    "print('Value at Risk VaR[L]:              %.4f' % exact_var)\n",
    "\n",
    "# plot loss CDF\n",
    "plt.rcParams['text.usetex'] = True\n",
    "plt.rcParams[\"figure.figsize\"] = (8, 8)\n",
    "plt.plot(np.sort(np.unique(losses)), cdf, 'o-g')\n",
    "plt.axhline(1-alpha_var, color=\"orange\", linestyle=\"--\")\n",
    "   \n",
    "plt.xlabel(\"Loss L (\\$)\", size=17)\n",
    "plt.ylabel(r'$P[\\mathcal{L} \\leq X]$', size=17) \n",
    "plt.title (\"CDF of Total Loss\", size=17)\n",
    "plt.xticks(size=17) # plt.xticks(np.sort(np.unique(losses)), np.sort(np.unique(losses)), size=17)\n",
    "plt.yticks(size=17)\n",
    "plt.savefig('Images/cdf.svg', dpi=400, bbox_inches = \"tight\")\n",
    "plt.show()\n",
    "cdf"
   ]
  },
  {
   "cell_type": "code",
   "execution_count": 39,
   "metadata": {},
   "outputs": [],
   "source": [
    "def mapping(decimal_number):\n",
    "    b = ('{0:0%sb}' % K).format(decimal_number)\n",
    "    #print(b)\n",
    "    losses = [loss for i, loss in enumerate(lgd[::-1]) if b[i]=='1']\n",
    "    #print(losses)\n",
    "    total_loss = sum(losses)\n",
    "    return total_loss\n",
    "\n",
    "def find_breakpoint(x_eval):\n",
    "    for el in range(0,2**K):\n",
    "        if mapping(el) <= x_eval:\n",
    "            if mapping(el+1) >= x_eval:\n",
    "                return el\n",
    "    return 0\n",
    "\n",
    "depth = 'e_loss'"
   ]
  },
  {
   "cell_type": "code",
   "execution_count": 40,
   "metadata": {
    "tags": []
   },
   "outputs": [],
   "source": [
    "if depth == 'e_loss':\n",
    "    # define linear objective function for expected loss\n",
    "    breakpoints = list(range(0,2**K))\n",
    "    slopes = [0]*len(breakpoints)\n",
    "    offsets = [mapping(el) for el in breakpoints]\n",
    "    f_min = 0\n",
    "    f_max = sum(lgd)\n",
    "    c_approx = 0.01\n",
    "\n",
    "    objective_e_loss = LinearAmplitudeFunction(\n",
    "        K,\n",
    "        slope=slopes, \n",
    "        offset=offsets, \n",
    "        # max value that can be reached by the qubit register (will not always be reached)\n",
    "        domain=(0, 2**K-1),  \n",
    "        image=(f_min, f_max),\n",
    "        rescaling_factor=c_approx,\n",
    "        breakpoints=breakpoints\n",
    "    )"
   ]
  },
  {
   "cell_type": "code",
   "execution_count": 41,
   "metadata": {},
   "outputs": [],
   "source": [
    "# from qiskit.circuit.library import WeightedAdder\n",
    "\n",
    "# agg = WeightedAdder(n_z + K, [0] * n_z + lgd)\n",
    "\n",
    "# # define linear objective function\n",
    "# breakpoints = [0]\n",
    "# slopes = [1]\n",
    "# offsets = [0]\n",
    "# f_min = 0\n",
    "# f_max = sum(lgd)\n",
    "# c_approx = 0.25\n",
    "\n",
    "# objective_loss = LinearAmplitudeFunction(\n",
    "#     agg.num_sum_qubits,\n",
    "#     slope=slopes,\n",
    "#     offset=offsets,\n",
    "#     # max value that can be reached by the qubit register (will not always be reached)\n",
    "#     domain=(0, 2 ** agg.num_sum_qubits - 1),\n",
    "#     image=(f_min, f_max),\n",
    "#     rescaling_factor=c_approx,\n",
    "#     breakpoints=breakpoints,\n",
    "# )"
   ]
  },
  {
   "cell_type": "markdown",
   "metadata": {},
   "source": [
    "## Testing without QAE"
   ]
  },
  {
   "cell_type": "code",
   "execution_count": 9,
   "metadata": {},
   "outputs": [
    {
     "name": "stdout",
     "output_type": "stream",
     "text": [
      "Operator Expected Loss = 8244.4468 0.49391484094411564\n"
     ]
    },
    {
     "data": {
      "text/html": [
       "<pre style=\"word-wrap: normal;white-space: pre;background: #fff0;line-height: 1.1;font-family: &quot;Courier New&quot;,Courier,monospace\">           ┌───────┐      \n",
       "  state_0: ┤0      ├──────\n",
       "           │       │      \n",
       "  state_1: ┤1      ├──────\n",
       "           │  P(X) │┌────┐\n",
       "  state_2: ┤2      ├┤0   ├\n",
       "           │       ││    │\n",
       "  state_3: ┤3      ├┤1   ├\n",
       "           └───────┘│    │\n",
       "objective: ─────────┤2 F ├\n",
       "                    │    │\n",
       "   work_0: ─────────┤3   ├\n",
       "                    │    │\n",
       "   work_1: ─────────┤4   ├\n",
       "                    └────┘</pre>"
      ],
      "text/plain": [
       "           ┌───────┐      \n",
       "  state_0: ┤0      ├──────\n",
       "           │       │      \n",
       "  state_1: ┤1      ├──────\n",
       "           │  P(X) │┌────┐\n",
       "  state_2: ┤2      ├┤0   ├\n",
       "           │       ││    │\n",
       "  state_3: ┤3      ├┤1   ├\n",
       "           └───────┘│    │\n",
       "objective: ─────────┤2 F ├\n",
       "                    │    │\n",
       "   work_0: ─────────┤3   ├\n",
       "                    │    │\n",
       "   work_1: ─────────┤4   ├\n",
       "                    └────┘"
      ]
     },
     "execution_count": 9,
     "metadata": {},
     "output_type": "execute_result"
    }
   ],
   "source": [
    "from qiskit.circuit.library import LinearAmplitudeFunction\n",
    "\n",
    "\n",
    "def get_cdf_circuit(x_eval):\n",
    "    \n",
    "    # define linear objective function for cdf\n",
    "    breakpoints = list(range(0,2**K))\n",
    "    slopes = [0]*len(breakpoints)\n",
    "    # print(values)\n",
    "    offsets = [1 if mapping(el)<=x_eval else 0 for el in breakpoints]\n",
    "    f_min = 0\n",
    "    f_max = 1\n",
    "    c_approx = 0.01\n",
    "    \n",
    "    objective = LinearAmplitudeFunction(\n",
    "        K,\n",
    "        slope=slopes, \n",
    "        offset=offsets, \n",
    "        # max value that can be reached by the qubit register (will not always be reached)\n",
    "        domain=(0, 2**K-1),  \n",
    "        image=(f_min, f_max),\n",
    "        rescaling_factor=c_approx,\n",
    "        breakpoints=breakpoints\n",
    "    )\n",
    "\n",
    "    # define the registers for convenience and readability\n",
    "    qr_state = QuantumRegister(u.num_qubits, 'state')\n",
    "    qr_obj = QuantumRegister(1, 'objective')\n",
    "    ar = QuantumRegister(objective.num_ancillas, \"work\")  # additional qubits\n",
    "\n",
    "    # define the circuit\n",
    "    state_preparation = QuantumCircuit(qr_state, qr_obj, ar, name='A')\n",
    "\n",
    "    # load the random variable\n",
    "    state_preparation.append(u.to_gate(), qr_state)\n",
    "\n",
    "    # linear objective function (does aggregation and comparison)\n",
    "    if depth == 'e_loss':\n",
    "        state_preparation.append(objective_e_loss.to_gate(), qr_state[-K:] + qr_obj[:] + ar[:])\n",
    "        return state_preparation, objective_e_loss\n",
    "    else:\n",
    "        state_preparation.append(objective.to_gate(), qr_state[-K:] + qr_obj[:] + ar[:])\n",
    "        return state_preparation, objective\n",
    "    \n",
    "example = 0\n",
    "state_preparation, objective = get_cdf_circuit(example)\n",
    "job = execute(state_preparation, backend=Aer.get_backend('statevector_simulator'))\n",
    "\n",
    "# evaluate resulting statevector\n",
    "var_prob = 0\n",
    "for i, a in enumerate(np.array(job.result().get_statevector())):\n",
    "    b = ('{0:0%sb}' % (u.num_qubits + 1)).format(i)[-(u.num_qubits + 1):]\n",
    "    prob = np.abs(a)**2\n",
    "    if b[0] == '1':\n",
    "        var_prob += prob\n",
    "if depth == 'e_loss':\n",
    "    print('Operator Expected Loss' + ' = %.4f' % objective.post_processing(var_prob), var_prob)\n",
    "else:\n",
    "    print('Operator CDF(%s)' % example + ' = %.4f' % objective.post_processing(var_prob))\n",
    "state_preparation.draw()\n",
    "# objective.decompose().decompose().draw()"
   ]
  },
  {
   "cell_type": "code",
   "execution_count": 42,
   "metadata": {},
   "outputs": [
    {
     "data": {
      "text/plain": [
       "array([0.19915297+0.j, 0.52910695+0.j, 0.5677342 +0.j, 0.24632542+0.j,\n",
       "       0.14888641+0.j, 0.33248589+0.j, 0.29525796+0.j, 0.10327527+0.j,\n",
       "       0.08191289+0.j, 0.16332878+0.j, 0.11972758+0.j, 0.02837818+0.j,\n",
       "       0.06123793+0.j, 0.10263429+0.j, 0.06226597+0.j, 0.01189794+0.j])"
      ]
     },
     "execution_count": 42,
     "metadata": {},
     "output_type": "execute_result"
    }
   ],
   "source": [
    "np.array(job.result().get_statevector())"
   ]
  },
  {
   "cell_type": "markdown",
   "metadata": {},
   "source": [
    "## Experiments\n",
    "### Setup"
   ]
  },
  {
   "cell_type": "code",
   "execution_count": 10,
   "metadata": {
    "tags": []
   },
   "outputs": [],
   "source": [
    "import time\n",
    "# set target precision and confidence level\n",
    "epsilon = 0.01/6\n",
    "alpha = 0.05/6\n",
    "\n",
    "simulated = True\n",
    "optimization_level = 1\n",
    "n_shots = 2048\n",
    "\n",
    "# get backend\n",
    "backend_name = 'ibm_perth'\n",
    "try:\n",
    "    provider = IBMQ.get_provider(hub='ibm-q-research-2', group='politecnico-tor-1', project='main')\n",
    "except:\n",
    "    IBMQ.load_account()\n",
    "    provider = IBMQ.get_provider(hub='ibm-q-research-2', group='politecnico-tor-1', project='main')\n",
    "    \n",
    "backend = provider.get_backend(backend_name)\n",
    "\n",
    "qi_ideal = QuantumInstance(Aer.get_backend('qasm_simulator'), shots=n_shots, \n",
    "                           optimization_level=optimization_level, seed_transpiler=42)\n",
    "\n",
    "if simulated == False:\n",
    "    qi_noise = QuantumInstance(backend, shots=n_shots, \n",
    "                            optimization_level=optimization_level, seed_transpiler=42)\n",
    "                            \n",
    "else:\n",
    "    noise_model = NoiseModel.from_backend(backend)\n",
    "    # Get coupling map from backend\n",
    "    coupling_map = backend.configuration().coupling_map\n",
    "    # Get basis gates from noise model\n",
    "    basis_gates = noise_model.basis_gates\n",
    "\n",
    "    qi_noise = QuantumInstance(provider.get_backend('ibmq_qasm_simulator'), shots=n_shots, \n",
    "                           optimization_level=optimization_level, seed_transpiler=42,\n",
    "                           noise_model=noise_model, coupling_map=coupling_map, basis_gates=basis_gates)"
   ]
  },
  {
   "cell_type": "markdown",
   "metadata": {},
   "source": [
    "### Running and saving"
   ]
  },
  {
   "cell_type": "code",
   "execution_count": 11,
   "metadata": {
    "tags": []
   },
   "outputs": [
    {
     "name": "stdout",
     "output_type": "stream",
     "text": [
      "result with no noise: 8366.129711689638\n"
     ]
    }
   ],
   "source": [
    "if depth == 'e_loss':\n",
    "    for i in range(1):\n",
    "        now = datetime.now(tz=pytz.timezone(\"Europe/Rome\"))\n",
    "\n",
    "        problem = EstimationProblem(state_preparation=state_preparation,\n",
    "                                    objective_qubits=[u.num_qubits],\n",
    "                                    post_processing=objective.post_processing)\n",
    "        # construct amplitude estimation and run\n",
    "        ae = IterativeAmplitudeEstimation(epsilon, alpha=alpha, quantum_instance=qi_ideal)\n",
    "        ideal_result = ae.estimate(problem)\n",
    "\n",
    "        # print results\n",
    "        conf_int_ideal = np.array(ideal_result.confidence_interval_processed)\n",
    "        result_ideal_processed = ideal_result.estimation_processed\n",
    "\n",
    "        print(\"result with no noise:\", result_ideal_processed)\n",
    "\n",
    "\n",
    "        # problem = EstimationProblem(state_preparation=state_preparation,\n",
    "        #                             objective_qubits=[u.num_qubits],\n",
    "        #                             post_processing=objective.post_processing)\n",
    "        # # construct amplitude estimation and run\n",
    "        # ae = IterativeAmplitudeEstimation(epsilon, alpha=alpha, quantum_instance=qi_noise)\n",
    "        # noisy_result = ae.estimate(problem)\n",
    "\n",
    "        # # print results\n",
    "        # conf_int_noisy = np.array(noisy_result.confidence_interval_processed)\n",
    "        # result_noisy_processed = noisy_result.estimation_processed\n",
    "        \n",
    "        # print(\"\\nresult with noise:\", result_noisy_processed)\n",
    "        # print(\"\\n\\n\")\n",
    "\n",
    "        # with open('Data/experimental_results.csv', 'a+') as f:  \n",
    "        #     f.write(f\"{result_ideal_processed}, {result_noisy_processed}, simulated = {simulated}, {backend_name}, {now}\\n\")"
   ]
  },
  {
   "cell_type": "code",
   "execution_count": 12,
   "metadata": {
    "tags": []
   },
   "outputs": [
    {
     "name": "stdout",
     "output_type": "stream",
     "text": [
      "1923\n",
      "2674\n"
     ]
    }
   ],
   "source": [
    "# noisy_result.num_oracle_queries\n",
    "# ideal_result.num_oracle_queries\n",
    "if depth == 'e_loss':\n",
    "    from qiskit.visualization import plot_circuit_layout\n",
    "\n",
    "    ae_circuit = ae.construct_circuit(problem, k=1)\n",
    "    tr_ae_circuit = transpile(ae_circuit, optimization_level=optimization_level, backend=backend, seed_transpiler=42)\n",
    "    \n",
    "    # Return circuit depth (i.e., length of critical path).\n",
    "    print(tr_ae_circuit.depth())\n",
    "    # Returns total number of instructions in circuit.\n",
    "    print(tr_ae_circuit.size()) \n",
    "\n",
    "    plot_circuit_layout(tr_ae_circuit, backend)"
   ]
  },
  {
   "cell_type": "code",
   "execution_count": 13,
   "metadata": {},
   "outputs": [
    {
     "data": {
      "image/png": "[encoded data removed]",
      "text/plain": [
       "<Figure size 396.191x445.48 with 1 Axes>"
      ]
     },
     "execution_count": 13,
     "metadata": {},
     "output_type": "execute_result"
    }
   ],
   "source": [
    "state_preparation.decompose().decompose().draw(\"mpl\")"
   ]
  },
  {
   "cell_type": "code",
   "execution_count": 44,
   "metadata": {},
   "outputs": [
    {
     "data": {
      "image/png": "[encoded data removed]",
      "text/plain": [
       "<Figure size 186.314x445.48 with 1 Axes>"
      ]
     },
     "execution_count": 44,
     "metadata": {},
     "output_type": "execute_result"
    }
   ],
   "source": [
    "problem.grover_operator.draw(\"mpl\")"
   ]
  },
  {
   "cell_type": "code",
   "execution_count": 45,
   "metadata": {},
   "outputs": [
    {
     "data": {
      "image/png": "[encoded data removed]",
      "text/plain": [
       "<Figure size 267.197x445.48 with 1 Axes>"
      ]
     },
     "execution_count": 45,
     "metadata": {},
     "output_type": "execute_result"
    }
   ],
   "source": [
    "ae_circuit.decompose().draw(\"mpl\")\n"
   ]
  },
  {
   "cell_type": "code",
   "execution_count": 16,
   "metadata": {},
   "outputs": [],
   "source": [
    "# oracle = QuantumCircuit(8)\n",
    "# oracle.z(7)  # the qubit state |1> is the good state\n",
    "# grover_op = GroverOperator(oracle, state_preparation)\n",
    "# grover_op.decompose().draw()"
   ]
  },
  {
   "cell_type": "code",
   "execution_count": 17,
   "metadata": {},
   "outputs": [
    {
     "data": {
      "text/html": [
       "<pre style=\"word-wrap: normal;white-space: pre;background: #fff0;line-height: 1.1;font-family: &quot;Courier New&quot;,Courier,monospace\">global phase: π\n",
       "                  ┌──────────┐┌───┐     ┌───┐┌───────┐      \n",
       "state_0: ─────────┤0         ├┤ X ├──■──┤ X ├┤0      ├──────\n",
       "                  │          │├───┤  │  ├───┤│       │      \n",
       "state_1: ─────────┤1         ├┤ X ├──■──┤ X ├┤1      ├──────\n",
       "         ┌───────┐│  P(X)_dg │├───┤  │  ├───┤│  P(X) │┌────┐\n",
       "state_2: ┤0      ├┤2         ├┤ X ├──■──┤ X ├┤2      ├┤0   ├\n",
       "         │       ││          │├───┤  │  ├───┤│       ││    │\n",
       "state_3: ┤1      ├┤3         ├┤ X ├──■──┤ X ├┤3      ├┤1   ├\n",
       "         │       │└──┬───┬───┘└───┘  │  ├───┤└───────┘│    │\n",
       "state_4: ┤2 F_dg ├───┤ X ├───────────■──┤ X ├─────────┤2 F ├\n",
       "         │       │   ├───┤           │  ├───┤         │    │\n",
       "state_5: ┤3      ├───┤ X ├───────────■──┤ X ├─────────┤3   ├\n",
       "         │       │   ├───┤    ┌───┐┌─┴─┐├───┤  ┌───┐  │    │\n",
       "state_6: ┤4      ├───┤ X ├────┤ H ├┤ X ├┤ H ├──┤ X ├──┤4   ├\n",
       "         └───────┘   └───┘    └───┘└───┘└───┘  └───┘  └────┘</pre>"
      ],
      "text/plain": [
       "global phase: π\n",
       "                  ┌──────────┐┌───┐     ┌───┐┌───────┐      \n",
       "state_0: ─────────┤0         ├┤ X ├──■──┤ X ├┤0      ├──────\n",
       "                  │          │├───┤  │  ├───┤│       │      \n",
       "state_1: ─────────┤1         ├┤ X ├──■──┤ X ├┤1      ├──────\n",
       "         ┌───────┐│  P(X)_dg │├───┤  │  ├───┤│  P(X) │┌────┐\n",
       "state_2: ┤0      ├┤2         ├┤ X ├──■──┤ X ├┤2      ├┤0   ├\n",
       "         │       ││          │├───┤  │  ├───┤│       ││    │\n",
       "state_3: ┤1      ├┤3         ├┤ X ├──■──┤ X ├┤3      ├┤1   ├\n",
       "         │       │└──┬───┬───┘└───┘  │  ├───┤└───────┘│    │\n",
       "state_4: ┤2 F_dg ├───┤ X ├───────────■──┤ X ├─────────┤2 F ├\n",
       "         │       │   ├───┤           │  ├───┤         │    │\n",
       "state_5: ┤3      ├───┤ X ├───────────■──┤ X ├─────────┤3   ├\n",
       "         │       │   ├───┤    ┌───┐┌─┴─┐├───┤  ┌───┐  │    │\n",
       "state_6: ┤4      ├───┤ X ├────┤ H ├┤ X ├┤ H ├──┤ X ├──┤4   ├\n",
       "         └───────┘   └───┘    └───┘└───┘└───┘  └───┘  └────┘"
      ]
     },
     "execution_count": 17,
     "metadata": {},
     "output_type": "execute_result"
    }
   ],
   "source": [
    "oracle2 = QuantumCircuit(7)\n",
    "#oracle.z(6)  # the qubit state |1> is the good state\n",
    "grover_op2 = GroverOperator(oracle2, state_preparation)\n",
    "grover_op2.decompose().draw()"
   ]
  },
  {
   "cell_type": "code",
   "execution_count": 33,
   "metadata": {},
   "outputs": [
    {
     "name": "stdout",
     "output_type": "stream",
     "text": [
      "0.0\n",
      "1.0\n",
      "0.7071067811865476\n",
      "OrderedDict([(0, 0.21875), (4, 0.09765625), (2, 0.68359375)]) OrderedDict([(0.0, 0.21875), (1.0, 0.09765625), (0.5, 0.68359375)])\n"
     ]
    }
   ],
   "source": [
    "from collections import OrderedDict\n",
    "counts = {\"000\":224, \"001\":100, \"010\":700}\n",
    "m=3\n",
    "measurements = OrderedDict()\n",
    "samples = OrderedDict()\n",
    "for state, count in counts.items():\n",
    "    y = int(state.replace(\" \", \"\")[: m][::-1], 2)\n",
    "    probability = count / 1024\n",
    "    measurements[y] = probability\n",
    "    a = np.round(np.power(np.sin(y * np.pi / 2**m), 2), decimals=7)\n",
    "    print(np.sin(y * np.pi / 2**m))\n",
    "    samples[a] = samples.get(a, 0.0) + probability\n",
    "print(measurements, samples)"
   ]
  },
  {
   "cell_type": "code",
   "execution_count": 43,
   "metadata": {},
   "outputs": [
    {
     "name": "stdout",
     "output_type": "stream",
     "text": [
      "Operator Expected Loss = 46954.6276 0.5022200000000009\n"
     ]
    },
    {
     "data": {
      "image/png": "[encoded data removed]",
      "text/plain": [
       "<Figure size 1684.19x2251.48 with 1 Axes>"
      ]
     },
     "execution_count": 43,
     "metadata": {},
     "output_type": "execute_result"
    }
   ],
   "source": [
    "iqft = QFT(2, inverse=True, do_swaps=False).reverse_bits()\n",
    "def get_parallelized_circuit():\n",
    "    \n",
    "    # define the registers for convenience and readability\n",
    "    qr_state = QuantumRegister(u.num_qubits, 'state')\n",
    "    qr_obj = QuantumRegister(1, 'objective')\n",
    "    ar = QuantumRegister(objective.num_ancillas, \"work\")  # additional qubits\n",
    "\n",
    "    qr_state2 = QuantumRegister(u.num_qubits, 'state_2')\n",
    "    qr_obj2 = QuantumRegister(1, 'objective_2')\n",
    "    ar2 = QuantumRegister(objective.num_ancillas, \"work_2\")  # additional qubits\n",
    "\n",
    "    qr_result = QuantumRegister(2, 'result')\n",
    "    qr_eval = QuantumRegister(1, 'eval')\n",
    "\n",
    "    # define the circuit\n",
    "    state_preparation = QuantumCircuit(qr_state, qr_obj, ar, qr_eval, qr_state2, qr_obj2, ar2, qr_result, name='A')\n",
    "\n",
    "    state_preparation.h(qr_result[0])\n",
    "    state_preparation.h(qr_result[1])  # hadamards on evaluation qubits\n",
    "    # state_preparation.h(qr_result[1])\n",
    "\n",
    "    # load the random variable\n",
    "    state_preparation.append(u.to_gate(), qr_state)\n",
    "    state_preparation.append(u.to_gate(), qr_state2)\n",
    "\n",
    "    # state_preparation.cx(qr_result[0], qr_eval[0])\n",
    "\n",
    "\n",
    "\n",
    "    # linear objective function (does aggregation and comparison)\n",
    "    state_preparation.append(objective_e_loss.to_gate(), qr_state[-K:] + qr_obj[:] + ar[:])\n",
    "    state_preparation.append(objective_e_loss.to_gate(), qr_state2[-K:] + qr_obj2[:] + ar2[:])\n",
    "    state_preparation.cx(qr_result[1], qr_eval[0])\n",
    "    # state_preparation.append(problem.grover_operator.to_gate(), qr_state[:] + qr_obj[:] + ar[:])\n",
    "    \n",
    "\n",
    "    state_preparation.compose(grover_op2.power(2**0).control(), qubits=qr_eval[:]+qr_state[:] + qr_obj[:] + ar[:], inplace=True)\n",
    "    state_preparation.compose(grover_op2.power(2**0).control(), qubits=qr_eval[:]+qr_state[:] + qr_obj[:] + ar[:], inplace=True)\n",
    "    state_preparation.compose(grover_op2.power(2**0).control(), qubits=qr_result[:1]+qr_state2[:] + qr_obj2[:] + ar2[:], inplace=True)\n",
    "    state_preparation.cx(qr_result[1], qr_eval[0])\n",
    "    state_preparation.compose(iqft, qubits=qr_result[:], inplace=True)\n",
    "    \n",
    "    # state_preparation.append(qpe.to_gate(), qr_eval[:] + qr_state2[:] + qr_obj2[:] + ar2[:])\n",
    "    # state_preparation.cx(qr_result[0], qr_result[0])\n",
    "    state_preparation.measure_all()\n",
    "\n",
    "    return state_preparation, objective_e_loss\n",
    "\n",
    "    \n",
    "state_preparation2, objective = get_parallelized_circuit()\n",
    "job = execute(state_preparation2, backend=Aer.get_backend('qasm_simulator'), shots=50000)\n",
    "\n",
    "# evaluate resulting statevector\n",
    "var_prob = 0\n",
    "# for i, a in enumerate(np.array(job.result().get_counts())):\n",
    "#     b = ('{0:0%sb}' % (u.num_qubits + 1)).format(i)[-(u.num_qubits + 1):]\n",
    "#     if i==0:\n",
    "#         print(b)\n",
    "#     prob = np.abs(a)**2\n",
    "#     if b[0] == '1':\n",
    "#         var_prob += prob\n",
    "for i in job.result().get_counts():\n",
    "    a = job.result().get_counts()[i]\n",
    "\n",
    "    prob = a/50000\n",
    "    if i[15] == '1':\n",
    "        var_prob += prob\n",
    "\n",
    "print('Operator Expected Loss' + ' = %.4f' % objective.post_processing(var_prob), var_prob)\n",
    "\n",
    "state_preparation2.draw(\"mpl\")\n",
    "# objective.decompose().decompose().draw()"
   ]
  },
  {
   "cell_type": "markdown",
   "metadata": {},
   "source": [
    "Non puoi scendere sotto i 1000, se ti servono per k=1. Cutting?"
   ]
  }
 ],
 "metadata": {
  "interpreter": {
   "hash": "66fcc063aebacbfea25ada87ac2776b8de707e2cff9d5d456937ae541a74bb75"
  },
  "kernelspec": {
   "display_name": "Python 3.9.12 ('base')",
   "language": "python",
   "name": "python3"
  },
  "language_info": {
   "codemirror_mode": {
    "name": "ipython",
    "version": 3
   },
   "file_extension": ".py",
   "mimetype": "text/x-python",
   "name": "python",
   "nbconvert_exporter": "python",
   "pygments_lexer": "ipython3",
   "version": "3.9.12"
  },
  "widgets": {
   "application/vnd.jupyter.widget-state+json": {
    "state": {},
    "version_major": 2,
    "version_minor": 0
   }
  }
 },
 "nbformat": 4,
 "nbformat_minor": 4
}
