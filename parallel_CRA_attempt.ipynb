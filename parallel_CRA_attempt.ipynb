{
 "cells": [
  {
   "cell_type": "markdown",
   "metadata": {},
   "source": [
    "## Libraries and data Loading"
   ]
  },
  {
   "cell_type": "code",
   "execution_count": 14,
   "metadata": {},
   "outputs": [],
   "source": [
    "import numpy as np\n",
    "import pandas as pd\n",
    "import matplotlib.pyplot as plt\n",
    "\n",
    "from multivariateGCI_mr import MultivariateGCI_mr\n",
    "from multivariateGCI_sr import MultivariateGCI_sr\n",
    "\n",
    "from qiskit import QuantumRegister, QuantumCircuit, Aer, execute, IBMQ, transpile, ClassicalRegister\n",
    "from qiskit.utils import QuantumInstance\n",
    "from qiskit.algorithms import IterativeAmplitudeEstimation, EstimationProblem, AmplitudeEstimation\n",
    "from qiskit.providers.aer.noise import NoiseModel\n",
    "from qiskit.circuit.library import LinearAmplitudeFunction, QFT"
   ]
  },
  {
   "cell_type": "code",
   "execution_count": 15,
   "metadata": {},
   "outputs": [],
   "source": [
    "df = pd.read_csv(\"Data/sampled_counterparts.csv\")\n",
    "# df = df[((df['pd']>=0.1) & ((1000 < df['lgd dwt']*df['ead']) & (df['lgd dwt']*df['ead'] < 5000000)))]\n",
    "df =  df.iloc[[38-2, 260-2]] #df.iloc[[38-2, 260-2, 7816-2]] \n",
    "\n",
    "F_matrix = pd.read_csv(\"Data/F_for_sampled_counterparts.csv\")\n",
    "sectors = [1] #[1, 2]\n",
    "F_values = [[F_matrix.iloc[df.index.values[j]][i-1] for i in sectors] for j in range(len(df))]\n",
    "# F_values = [[0.55], [0.65], [0.50]] # make F/rhos"
   ]
  },
  {
   "cell_type": "markdown",
   "metadata": {},
   "source": [
    "## Parameters setting"
   ]
  },
  {
   "cell_type": "code",
   "execution_count": 16,
   "metadata": {},
   "outputs": [
    {
     "name": "stdout",
     "output_type": "stream",
     "text": [
      "F: [[0.1580707722], [0.2555327991]]\n",
      "Rhos: [0.3 0.3]\n",
      "Lgds: [18406.56224845756, 54807.94141703075]\n",
      "p_zeros: [0.2565108504, 0.0715568886]\n"
     ]
    },
    {
     "data": {
      "text/html": [
       "<div>\n",
       "<style scoped>\n",
       "    .dataframe tbody tr th:only-of-type {\n",
       "        vertical-align: middle;\n",
       "    }\n",
       "\n",
       "    .dataframe tbody tr th {\n",
       "        vertical-align: top;\n",
       "    }\n",
       "\n",
       "    .dataframe thead th {\n",
       "        text-align: right;\n",
       "    }\n",
       "</style>\n",
       "<table border=\"1\" class=\"dataframe\">\n",
       "  <thead>\n",
       "    <tr style=\"text-align: right;\">\n",
       "      <th></th>\n",
       "      <th>cluster</th>\n",
       "      <th>pd</th>\n",
       "      <th>lgd dwt</th>\n",
       "      <th>ead</th>\n",
       "      <th>num ctp</th>\n",
       "      <th>sett</th>\n",
       "      <th>is</th>\n",
       "      <th>acca</th>\n",
       "      <th>cod type</th>\n",
       "      <th>cod stato</th>\n",
       "      <th>lgd pag</th>\n",
       "    </tr>\n",
       "  </thead>\n",
       "  <tbody>\n",
       "    <tr>\n",
       "      <th>36</th>\n",
       "      <td>005118_618</td>\n",
       "      <td>0.256511</td>\n",
       "      <td>0.223071</td>\n",
       "      <td>82514.537908</td>\n",
       "      <td>83292</td>\n",
       "      <td>5</td>\n",
       "      <td>0.3</td>\n",
       "      <td>0.000083</td>\n",
       "      <td>0</td>\n",
       "      <td>0</td>\n",
       "      <td>0.187699</td>\n",
       "    </tr>\n",
       "    <tr>\n",
       "      <th>258</th>\n",
       "      <td>002116_18</td>\n",
       "      <td>0.071557</td>\n",
       "      <td>0.194311</td>\n",
       "      <td>282063.242107</td>\n",
       "      <td>888</td>\n",
       "      <td>2</td>\n",
       "      <td>0.3</td>\n",
       "      <td>0.019318</td>\n",
       "      <td>0</td>\n",
       "      <td>0</td>\n",
       "      <td>0.157672</td>\n",
       "    </tr>\n",
       "  </tbody>\n",
       "</table>\n",
       "</div>"
      ],
      "text/plain": [
       "        cluster        pd   lgd dwt            ead  num ctp  sett   is  \\\n",
       "36   005118_618  0.256511  0.223071   82514.537908    83292     5  0.3   \n",
       "258   002116_18  0.071557  0.194311  282063.242107      888     2  0.3   \n",
       "\n",
       "         acca  cod type  cod stato   lgd pag  \n",
       "36   0.000083         0          0  0.187699  \n",
       "258  0.019318         0          0  0.157672  "
      ]
     },
     "execution_count": 16,
     "metadata": {},
     "output_type": "execute_result"
    }
   ],
   "source": [
    "# set problem parameters\n",
    "n_z = 2\n",
    "z_max = 2\n",
    "\n",
    "p_zeros = [el['pd'] for _, el in df.iterrows()]\n",
    "rhos = [el['is']**2 for _, el in df.iterrows()]\n",
    "lgd = [el['lgd dwt']*el['ead'] for _, el in df.iterrows()]\n",
    "\n",
    "K = len(p_zeros)\n",
    "\n",
    "alpha_var = 0.05\n",
    "\n",
    "print(f'F: {F_values}\\nRhos: {np.sqrt(rhos)}\\nLgds: {lgd}\\np_zeros: {p_zeros}')\n",
    "df"
   ]
  },
  {
   "cell_type": "markdown",
   "metadata": {},
   "source": [
    "### Encoding of the uncertainty model"
   ]
  },
  {
   "cell_type": "code",
   "execution_count": 17,
   "metadata": {},
   "outputs": [
    {
     "data": {
      "image/png": "[encoded data removed]",
      "text/plain": [
       "<Figure size 267.197x264.88 with 1 Axes>"
      ]
     },
     "execution_count": 17,
     "metadata": {},
     "output_type": "execute_result"
    }
   ],
   "source": [
    "u = MultivariateGCI_sr(n_z, z_max, p_zeros, rhos, F_values[1])\n",
    "u = MultivariateGCI_mr(n_z, z_max, p_zeros, rhos, F_values)\n",
    "\n",
    "# from qiskit_finance.circuit.library import GaussianConditionalIndependenceModel as GCI\n",
    "\n",
    "# u = GCI(n_z, z_max, p_zeros, rhos)\n",
    "\n",
    "# print(u.decompose().draw(output='latex_source'))\n",
    "u.decompose().draw(\"mpl\")"
   ]
  },
  {
   "cell_type": "markdown",
   "metadata": {},
   "source": [
    "## Uncertainty model testing"
   ]
  },
  {
   "cell_type": "code",
   "execution_count": 18,
   "metadata": {},
   "outputs": [
    {
     "name": "stdout",
     "output_type": "stream",
     "text": [
      "Expected Loss E[L]:                8243.3829\n",
      "Value at Risk VaR[L]:              54807.9414\n"
     ]
    }
   ],
   "source": [
    "# run the circuit and analyze the results\n",
    "job = execute(u, backend=Aer.get_backend('statevector_simulator'),) # n_shots=n_shots)\n",
    "\n",
    "# analyze uncertainty circuit and determine exact solutions\n",
    "p_z = np.zeros(2**n_z)\n",
    "p_default = np.zeros(K)\n",
    "values = []\n",
    "probabilities = []\n",
    "num_qubits = u.num_qubits\n",
    "for i, a in enumerate(np.array(job.result().get_statevector())):\n",
    "    \n",
    "    # get binary representation\n",
    "    b = ('{0:0%sb}' % num_qubits).format(i)\n",
    "    prob = np.abs(a)**2\n",
    "    \n",
    "    # extract value of Z and corresponding probability    \n",
    "    i_normal = int(b[-n_z:], 2)\n",
    "    p_z[i_normal] += prob\n",
    "\n",
    "    # determine overall default probability for k \n",
    "    loss = 0\n",
    "    for k in range(K):\n",
    "        if b[K - k - 1] == '1':\n",
    "            p_default[k] += prob\n",
    "            loss += lgd[k]\n",
    "    values += [loss]\n",
    "    probabilities += [prob]   \n",
    "\n",
    "values = np.array(values)\n",
    "probabilities = np.array(probabilities)\n",
    "    \n",
    "expected_loss = np.dot(values, probabilities)\n",
    "\n",
    "losses = np.sort(np.unique(values))\n",
    "pdf = np.zeros(len(losses))\n",
    "for i, v in enumerate(losses):\n",
    "    pdf[i] += sum(probabilities[values == v])\n",
    "cdf = np.cumsum(pdf)\n",
    "\n",
    "i_var = np.argmax(cdf >= 1-alpha_var)\n",
    "exact_var = losses[i_var]\n",
    "\n",
    "print('Expected Loss E[L]:                %.4f' % expected_loss)\n",
    "print('Value at Risk VaR[L]:              %.4f' % exact_var)\n",
    "\n",
    "# # plot loss CDF\n",
    "# plt.rcParams['text.usetex'] = True\n",
    "# plt.rcParams[\"figure.figsize\"] = (8, 8)\n",
    "# plt.plot(np.sort(np.unique(losses)), cdf, 'o-g')\n",
    "# plt.axhline(1-alpha_var, color=\"orange\", linestyle=\"--\")\n",
    "   \n",
    "# plt.xlabel(\"Loss L ($)\", size=17)\n",
    "# plt.ylabel(r'$P[\\mathcal{L} \\leq X]$', size=17) \n",
    "# plt.title (\"CDF of Total Loss\", size=17)\n",
    "# plt.xticks(size=17) # plt.xticks(np.sort(np.unique(losses)), np.sort(np.unique(losses)), size=17)\n",
    "# plt.yticks(size=17)\n",
    "# plt.show()\n",
    "# cdf"
   ]
  },
  {
   "cell_type": "code",
   "execution_count": 19,
   "metadata": {},
   "outputs": [],
   "source": [
    "def mapping(decimal_number):\n",
    "    b = ('{0:0%sb}' % K).format(decimal_number)\n",
    "    #print(b)\n",
    "    losses = [loss for i, loss in enumerate(lgd[::-1]) if b[i]=='1']\n",
    "    #print(losses)\n",
    "    total_loss = sum(losses)\n",
    "    return total_loss\n",
    "\n",
    "def find_breakpoint(x_eval):\n",
    "    for el in range(0,2**K):\n",
    "        if mapping(el) <= x_eval:\n",
    "            if mapping(el+1) >= x_eval:\n",
    "                return el\n",
    "    return 0\n",
    "\n",
    "depth = 'e_loss'"
   ]
  },
  {
   "cell_type": "code",
   "execution_count": 20,
   "metadata": {
    "tags": []
   },
   "outputs": [],
   "source": [
    "if depth == 'e_loss':\n",
    "    # define linear objective function for expected loss\n",
    "    breakpoints = list(range(0,2**K))\n",
    "    slopes = [0]*len(breakpoints)\n",
    "    offsets = [mapping(el) for el in breakpoints]\n",
    "    f_min = 0\n",
    "    f_max = sum(lgd)\n",
    "    c_approx = 0.01\n",
    "\n",
    "    objective_e_loss = LinearAmplitudeFunction(\n",
    "        K,\n",
    "        slope=slopes, \n",
    "        offset=offsets, \n",
    "        # max value that can be reached by the qubit register (will not always be reached)\n",
    "        domain=(0, 2**K-1),  \n",
    "        image=(f_min, f_max),\n",
    "        rescaling_factor=c_approx,\n",
    "        breakpoints=breakpoints\n",
    "    )"
   ]
  },
  {
   "cell_type": "code",
   "execution_count": 21,
   "metadata": {},
   "outputs": [],
   "source": [
    "# from qiskit.circuit.library import WeightedAdder\n",
    "\n",
    "# agg = WeightedAdder(n_z + K, [0] * n_z + lgd)\n",
    "\n",
    "# # define linear objective function\n",
    "# breakpoints = [0]\n",
    "# slopes = [1]\n",
    "# offsets = [0]\n",
    "# f_min = 0\n",
    "# f_max = sum(lgd)\n",
    "# c_approx = 0.25\n",
    "\n",
    "# objective_loss = LinearAmplitudeFunction(\n",
    "#     agg.num_sum_qubits,\n",
    "#     slope=slopes,\n",
    "#     offset=offsets,\n",
    "#     # max value that can be reached by the qubit register (will not always be reached)\n",
    "#     domain=(0, 2 ** agg.num_sum_qubits - 1),\n",
    "#     image=(f_min, f_max),\n",
    "#     rescaling_factor=c_approx,\n",
    "#     breakpoints=breakpoints,\n",
    "# )"
   ]
  },
  {
   "cell_type": "markdown",
   "metadata": {},
   "source": [
    "## Testing without QAE"
   ]
  },
  {
   "cell_type": "code",
   "execution_count": 22,
   "metadata": {},
   "outputs": [
    {
     "name": "stdout",
     "output_type": "stream",
     "text": [
      "Operator Expected Loss = 8244.4468 0.49391484094411564\n"
     ]
    },
    {
     "data": {
      "text/html": [
       "<pre style=\"word-wrap: normal;white-space: pre;background: #fff0;line-height: 1.1;font-family: &quot;Courier New&quot;,Courier,monospace\">           ┌───────┐      \n",
       "  state_0: ┤0      ├──────\n",
       "           │       │      \n",
       "  state_1: ┤1      ├──────\n",
       "           │  P(X) │┌────┐\n",
       "  state_2: ┤2      ├┤0   ├\n",
       "           │       ││    │\n",
       "  state_3: ┤3      ├┤1   ├\n",
       "           └───────┘│    │\n",
       "objective: ─────────┤2 F ├\n",
       "                    │    │\n",
       "   work_0: ─────────┤3   ├\n",
       "                    │    │\n",
       "   work_1: ─────────┤4   ├\n",
       "                    └────┘</pre>"
      ],
      "text/plain": [
       "           ┌───────┐      \n",
       "  state_0: ┤0      ├──────\n",
       "           │       │      \n",
       "  state_1: ┤1      ├──────\n",
       "           │  P(X) │┌────┐\n",
       "  state_2: ┤2      ├┤0   ├\n",
       "           │       ││    │\n",
       "  state_3: ┤3      ├┤1   ├\n",
       "           └───────┘│    │\n",
       "objective: ─────────┤2 F ├\n",
       "                    │    │\n",
       "   work_0: ─────────┤3   ├\n",
       "                    │    │\n",
       "   work_1: ─────────┤4   ├\n",
       "                    └────┘"
      ]
     },
     "execution_count": 22,
     "metadata": {},
     "output_type": "execute_result"
    }
   ],
   "source": [
    "from qiskit.circuit.library import LinearAmplitudeFunction\n",
    "\n",
    "\n",
    "def get_cdf_circuit(x_eval):\n",
    "    \n",
    "    # define linear objective function for cdf\n",
    "    breakpoints = list(range(0,2**K))\n",
    "    slopes = [0]*len(breakpoints)\n",
    "    # print(values)\n",
    "    offsets = [1 if mapping(el)<=x_eval else 0 for el in breakpoints]\n",
    "    f_min = 0\n",
    "    f_max = 1\n",
    "    c_approx = 0.01\n",
    "    \n",
    "    objective = LinearAmplitudeFunction(\n",
    "        K,\n",
    "        slope=slopes, \n",
    "        offset=offsets, \n",
    "        # max value that can be reached by the qubit register (will not always be reached)\n",
    "        domain=(0, 2**K-1),  \n",
    "        image=(f_min, f_max),\n",
    "        rescaling_factor=c_approx,\n",
    "        breakpoints=breakpoints\n",
    "    )\n",
    "\n",
    "    # define the registers for convenience and readability\n",
    "    qr_state = QuantumRegister(u.num_qubits, 'state')\n",
    "    qr_obj = QuantumRegister(1, 'objective')\n",
    "    ar = QuantumRegister(objective.num_ancillas, \"work\")  # additional qubits\n",
    "\n",
    "    # define the circuit\n",
    "    state_preparation = QuantumCircuit(qr_state, qr_obj, ar, name='A')\n",
    "\n",
    "    # load the random variable\n",
    "    state_preparation.append(u.to_gate(), qr_state)\n",
    "\n",
    "    # linear objective function (does aggregation and comparison)\n",
    "    if depth == 'e_loss':\n",
    "        state_preparation.append(objective_e_loss.to_gate(), qr_state[-K:] + qr_obj[:] + ar[:])\n",
    "        return state_preparation, objective_e_loss\n",
    "    else:\n",
    "        state_preparation.append(objective.to_gate(), qr_state[-K:] + qr_obj[:] + ar[:])\n",
    "        return state_preparation, objective\n",
    "    \n",
    "example = 0\n",
    "state_preparation, objective = get_cdf_circuit(example)\n",
    "job = execute(state_preparation, backend=Aer.get_backend('statevector_simulator'))\n",
    "\n",
    "# evaluate resulting statevector\n",
    "var_prob = 0\n",
    "for i, a in enumerate(np.array(job.result().get_statevector())):\n",
    "    b = ('{0:0%sb}' % (u.num_qubits + 1)).format(i)[-(u.num_qubits + 1):]\n",
    "    prob = np.abs(a)**2\n",
    "    if b[0] == '1':\n",
    "        var_prob += prob\n",
    "if depth == 'e_loss':\n",
    "    print('Operator Expected Loss' + ' = %.4f' % objective.post_processing(var_prob), var_prob)\n",
    "else:\n",
    "    print('Operator CDF(%s)' % example + ' = %.4f' % objective.post_processing(var_prob))\n",
    "state_preparation.draw()\n",
    "# objective.decompose().decompose().draw()"
   ]
  },
  {
   "cell_type": "markdown",
   "metadata": {},
   "source": [
    "## Experiments\n",
    "### Setup"
   ]
  },
  {
   "cell_type": "code",
   "execution_count": 23,
   "metadata": {
    "tags": []
   },
   "outputs": [],
   "source": [
    "import time\n",
    "# set target precision and confidence level\n",
    "epsilon = 0.01/6\n",
    "alpha = 0.05/6\n",
    "\n",
    "simulated = True\n",
    "optimization_level = 1\n",
    "n_shots = 2048\n",
    "\n",
    "# get backend\n",
    "backend_name = ''\n",
    "# try:\n",
    "#     provider = IBMQ.get_provider(hub='ibm-q-research-2', group='politecnico-tor-1', project='main')\n",
    "# except:\n",
    "#     IBMQ.load_account()\n",
    "#     provider = IBMQ.get_provider(hub='ibm-q-research-2', group='politecnico-tor-1', project='main')\n",
    "    \n",
    "# backend = provider.get_backend(backend_name)\n",
    "\n",
    "qi_ideal = QuantumInstance(Aer.get_backend('qasm_simulator'), shots=n_shots, \n",
    "                           optimization_level=optimization_level, seed_transpiler=42)\n",
    "\n",
    "# if simulated == False:\n",
    "#     qi_noise = QuantumInstance(backend, shots=n_shots, \n",
    "#                             optimization_level=optimization_level, seed_transpiler=42)\n",
    "                            \n",
    "# else:\n",
    "#     noise_model = NoiseModel.from_backend(backend)\n",
    "#     # Get coupling map from backend\n",
    "#     coupling_map = backend.configuration().coupling_map\n",
    "#     # Get basis gates from noise model\n",
    "#     basis_gates = noise_model.basis_gates\n",
    "from qiskit.test.mock import FakeMontreal\n",
    "\n",
    "qi_noise = QuantumInstance(FakeMontreal(), shots=n_shots, \n",
    "                        optimization_level=optimization_level, seed_transpiler=42)"
   ]
  },
  {
   "cell_type": "markdown",
   "metadata": {},
   "source": [
    "### Running"
   ]
  },
  {
   "cell_type": "code",
   "execution_count": 24,
   "metadata": {},
   "outputs": [
    {
     "data": {
      "image/png": "[encoded data removed]",
      "text/plain": [
       "<Figure size 1080.51x806.68 with 1 Axes>"
      ]
     },
     "execution_count": 24,
     "metadata": {},
     "output_type": "execute_result"
    }
   ],
   "source": [
    "qi_ideal = QuantumInstance(Aer.get_backend('qasm_simulator'), shots=10000, \n",
    "                           optimization_level=optimization_level, seed_transpiler=42)\n",
    "problem = EstimationProblem(state_preparation=state_preparation,\n",
    "                            objective_qubits=[u.num_qubits],\n",
    "                            post_processing=objective.post_processing)\n",
    "\n",
    "ae_sequential = AmplitudeEstimation(6, quantum_instance=qi_ideal)\n",
    "circuit = ae_sequential.construct_circuit(problem)\n",
    "\n",
    "# ideal_result = ae_sequential.estimate(problem)\n",
    "# print(\"result with no noise:\", ideal_result.mle_processed, ideal_result.mle)\n",
    "circuit.decompose().draw(\"mpl\", filename='Images/canonical_ae_k_63.svg')"
   ]
  },
  {
   "cell_type": "code",
   "execution_count": 32,
   "metadata": {},
   "outputs": [],
   "source": [
    "from qiskit_ibm_runtime import QiskitRuntimeService\n",
    "\n",
    "service = QiskitRuntimeService()\n",
    "backend = service.backend(\"ibm_algiers\")"
   ]
  },
  {
   "cell_type": "code",
   "execution_count": 33,
   "metadata": {
    "tags": []
   },
   "outputs": [
    {
     "name": "stdout",
     "output_type": "stream",
     "text": [
      "843007\n",
      "1106202\n"
     ]
    }
   ],
   "source": [
    "from qiskit.test.mock import FakeMontreal\n",
    "if depth == 'e_loss':\n",
    "    #from qiskit.visualization import plot_circuit_layout\n",
    "\n",
    "    tr_ae_circuit = transpile(circuit, optimization_level=optimization_level, backend=backend, seed_transpiler=42)\n",
    "    \n",
    "    # Return circuit depth (i.e., length of critical path).\n",
    "    print(tr_ae_circuit.depth()) #883039 montreal - 901717 algiers (832217 with opt_level=2) - 880994 canberra (843007 with opt_level=2)\n",
    "    # Returns total number of instructions in circuit.\n",
    "    print(tr_ae_circuit.size()) #1186068 montreal - 1198662 algiers (1086111 with opt_level=2) - 1182081 canberra (1106202 with opt_level=2)\n",
    "\n",
    "    #plot_circuit_layout(tr_ae_circuit, backend)"
   ]
  },
  {
   "cell_type": "code",
   "execution_count": null,
   "metadata": {},
   "outputs": [
    {
     "data": {
      "text/html": [
       "<pre style=\"word-wrap: normal;white-space: pre;background: #fff0;line-height: 1.1;font-family: &quot;Courier New&quot;,Courier,monospace\">global phase: π\n",
       "                                 ┌──────────┐┌───┐     ┌───┐┌───────┐      \n",
       "state_0: ────────────────────────┤0         ├┤ X ├──■──┤ X ├┤0      ├──────\n",
       "                                 │          │├───┤  │  ├───┤│       │      \n",
       "state_1: ────────────────────────┤1         ├┤ X ├──■──┤ X ├┤1      ├──────\n",
       "                        ┌───────┐│  P(X)_dg │├───┤  │  ├───┤│  P(X) │┌────┐\n",
       "state_2: ───────────────┤0      ├┤2         ├┤ X ├──■──┤ X ├┤2      ├┤0   ├\n",
       "                        │       ││          │├───┤  │  ├───┤│       ││    │\n",
       "state_3: ───────────────┤1      ├┤3         ├┤ X ├──■──┤ X ├┤3      ├┤1   ├\n",
       "         ┌───┐┌───┐┌───┐│       │└──┬───┬───┘└───┘  │  ├───┤└───────┘│    │\n",
       "state_4: ┤ H ├┤ X ├┤ H ├┤2 F_dg ├───┤ X ├───────────■──┤ X ├─────────┤2 F ├\n",
       "         └───┘└───┘└───┘│       │   ├───┤           │  ├───┤         │    │\n",
       "state_5: ───────────────┤3      ├───┤ X ├───────────■──┤ X ├─────────┤3   ├\n",
       "                        │       │   ├───┤    ┌───┐┌─┴─┐├───┤  ┌───┐  │    │\n",
       "state_6: ───────────────┤4      ├───┤ X ├────┤ H ├┤ X ├┤ H ├──┤ X ├──┤4   ├\n",
       "                        └───────┘   └───┘    └───┘└───┘└───┘  └───┘  └────┘</pre>"
      ],
      "text/plain": [
       "global phase: π\n",
       "                                 ┌──────────┐┌───┐     ┌───┐┌───────┐      \n",
       "state_0: ────────────────────────┤0         ├┤ X ├──■──┤ X ├┤0      ├──────\n",
       "                                 │          │├───┤  │  ├───┤│       │      \n",
       "state_1: ────────────────────────┤1         ├┤ X ├──■──┤ X ├┤1      ├──────\n",
       "                        ┌───────┐│  P(X)_dg │├───┤  │  ├───┤│  P(X) │┌────┐\n",
       "state_2: ───────────────┤0      ├┤2         ├┤ X ├──■──┤ X ├┤2      ├┤0   ├\n",
       "                        │       ││          │├───┤  │  ├───┤│       ││    │\n",
       "state_3: ───────────────┤1      ├┤3         ├┤ X ├──■──┤ X ├┤3      ├┤1   ├\n",
       "         ┌───┐┌───┐┌───┐│       │└──┬───┬───┘└───┘  │  ├───┤└───────┘│    │\n",
       "state_4: ┤ H ├┤ X ├┤ H ├┤2 F_dg ├───┤ X ├───────────■──┤ X ├─────────┤2 F ├\n",
       "         └───┘└───┘└───┘│       │   ├───┤           │  ├───┤         │    │\n",
       "state_5: ───────────────┤3      ├───┤ X ├───────────■──┤ X ├─────────┤3   ├\n",
       "                        │       │   ├───┤    ┌───┐┌─┴─┐├───┤  ┌───┐  │    │\n",
       "state_6: ───────────────┤4      ├───┤ X ├────┤ H ├┤ X ├┤ H ├──┤ X ├──┤4   ├\n",
       "                        └───────┘   └───┘    └───┘└───┘└───┘  └───┘  └────┘"
      ]
     },
     "execution_count": 12,
     "metadata": {},
     "output_type": "execute_result"
    }
   ],
   "source": [
    "grover_op2 = problem.grover_operator #GroverOperator(oracle2, state_preparation)\n",
    "grover_op2.decompose().draw()"
   ]
  },
  {
   "cell_type": "code",
   "execution_count": null,
   "metadata": {},
   "outputs": [
    {
     "data": {
      "image/png": "[encoded data removed]",
      "text/plain": [
       "<Figure size 1503.59x1348.48 with 1 Axes>"
      ]
     },
     "execution_count": 13,
     "metadata": {},
     "output_type": "execute_result"
    }
   ],
   "source": [
    "resolution = 6\n",
    "iqft = QFT(resolution, inverse=True, do_swaps=False).reverse_bits()\n",
    "def get_parallelized_circuit():\n",
    "    \n",
    "    # define the registers for convenience and readability\n",
    "    qr_state = QuantumRegister(u.num_qubits, 'state')\n",
    "    qr_obj = QuantumRegister(1, 'objective')\n",
    "    ar = QuantumRegister(objective.num_ancillas, \"work\")  # additional qubits\n",
    "\n",
    "    qr_state2 = QuantumRegister(u.num_qubits, 'state_2')\n",
    "    qr_obj2 = QuantumRegister(1, 'objective_2')\n",
    "    ar2 = QuantumRegister(objective.num_ancillas, \"work_2\")  # additional qubits\n",
    "\n",
    "    qr_result = QuantumRegister(resolution, 'result')\n",
    "    qr_eval = QuantumRegister(1, 'eval')\n",
    "\n",
    "    # define the circuit\n",
    "    state_preparation = QuantumCircuit(qr_state, qr_obj, ar, qr_eval, qr_state2, qr_obj2, ar2, qr_result, name='A')\n",
    "\n",
    "    for i in range(resolution):\n",
    "        state_preparation.h(qr_result[i]) # hadamards on evaluation qubits\n",
    "    # state_preparation.h(qr_result[1])\n",
    "\n",
    "    # load the random variable\n",
    "    state_preparation.append(u.to_gate(), qr_state)\n",
    "    state_preparation.append(u.to_gate(), qr_state2)\n",
    "\n",
    "    # state_preparation.cx(qr_result[0], qr_eval[0])\n",
    "\n",
    "\n",
    "\n",
    "    # linear objective function (does aggregation and comparison)\n",
    "    state_preparation.append(objective_e_loss.to_gate(), qr_state[-K:] + qr_obj[:] + ar[:])\n",
    "    state_preparation.append(objective_e_loss.to_gate(), qr_state2[-K:] + qr_obj2[:] + ar2[:])\n",
    "    state_preparation.cx(qr_result[resolution-1], qr_eval[0])\n",
    "    # state_preparation.append(problem.grover_operator.to_gate(), qr_state[:] + qr_obj[:] + ar[:])\n",
    "    \n",
    "    state_preparation.compose(grover_op2.power(2**(resolution-1)).control(), qubits=qr_eval[:]+qr_state[:] + qr_obj[:] + ar[:], inplace=True)\n",
    "    \n",
    "    state_preparation.compose(grover_op2.power(2**0).control(), qubits=qr_result[:1]+qr_state2[:] + qr_obj2[:] + ar2[:], inplace=True)\n",
    "\n",
    "    state_preparation.compose(grover_op2.power(2**1).control(), qubits=qr_result[1:2]+qr_state2[:] + qr_obj2[:] + ar2[:], inplace=True)\n",
    "\n",
    "    state_preparation.compose(grover_op2.power(2**2).control(), qubits=qr_result[2:3]+qr_state2[:] + qr_obj2[:] + ar2[:], inplace=True)\n",
    "\n",
    "    state_preparation.compose(grover_op2.power(2**3).control(), qubits=qr_result[3:4]+qr_state2[:] + qr_obj2[:] + ar2[:], inplace=True)\n",
    "\n",
    "    state_preparation.compose(grover_op2.power(2**4).control(), qubits=qr_result[4:5]+qr_state2[:] + qr_obj2[:] + ar2[:], inplace=True)\n",
    "\n",
    "    state_preparation.cx(qr_result[resolution-1], qr_eval[0])\n",
    "    state_preparation.compose(iqft, qubits=qr_result[:], inplace=True)\n",
    "    \n",
    "    # state_preparation.append(qpe.to_gate(), qr_eval[:] + qr_state2[:] + qr_obj2[:] + ar2[:])\n",
    "    # state_preparation.cx(qr_result[0], qr_result[0])\n",
    "    cr = ClassicalRegister(resolution)\n",
    "    state_preparation.add_register(cr)\n",
    "    state_preparation.measure(qr_result[:], list(range(resolution)))\n",
    "\n",
    "    return state_preparation, objective_e_loss\n",
    "\n",
    "    \n",
    "state_preparation2, objective = get_parallelized_circuit()\n",
    "state_preparation2.draw(\"mpl\", filename='Images/parallel_qae_k_63.svg')\n"
   ]
  },
  {
   "cell_type": "code",
   "execution_count": null,
   "metadata": {},
   "outputs": [],
   "source": [
    "from collections import OrderedDict\n",
    "from qiskit.algorithms.amplitude_estimators.ae_utils import pdf_a, bisect_max\n",
    "\n",
    "def evaluate_count_results(counts):\n",
    "    # construct probabilities\n",
    "    measurements = OrderedDict()\n",
    "    samples = OrderedDict()\n",
    "    shots = n_shots\n",
    "\n",
    "    for state, count in counts.items():\n",
    "        y = int(state.replace(\" \", \"\")[:resolution][::-1], 2)\n",
    "        probability = count / shots\n",
    "        measurements[y] = probability\n",
    "        a = np.round(np.power(np.sin(y * np.pi / 2**resolution), 2), decimals=7)\n",
    "        samples[a] = samples.get(a, 0.0) + probability\n",
    "\n",
    "    return samples, measurements\n",
    "\n",
    "\n",
    "def compute_mle(\n",
    "        estimation, samples, apply_post_processing: bool = False\n",
    "    ) -> float:\n",
    "\n",
    "        m = resolution\n",
    "        M = 2**m  # pylint: disable=invalid-name\n",
    "        qae = estimation\n",
    "\n",
    "        # likelihood function\n",
    "        a_i = np.asarray(list(samples.keys()))\n",
    "        p_i = np.asarray(list(samples.values()))\n",
    "\n",
    "        def loglikelihood(a):\n",
    "            return np.sum(10000 * p_i * np.log(pdf_a(a_i, a, m)))\n",
    "\n",
    "        # y is pretty much an integer, but to map 1.9999 to 2 we must first\n",
    "        # use round and then int conversion\n",
    "        y = int(np.round(M * np.arcsin(np.sqrt(qae)) / np.pi))\n",
    "\n",
    "        # Compute the two intervals in which are candidates for containing\n",
    "        # the maximum of the log-likelihood function: the two bubbles next to\n",
    "        # the QAE estimate\n",
    "        if y == 0:\n",
    "            right_of_qae = np.sin(np.pi * (y + 1) / M) ** 2\n",
    "            bubbles = [qae, right_of_qae]\n",
    "\n",
    "        elif y == int(M / 2):  # remember, M = 2^m is a power of 2\n",
    "            left_of_qae = np.sin(np.pi * (y - 1) / M) ** 2\n",
    "            bubbles = [left_of_qae, qae]\n",
    "\n",
    "        else:\n",
    "            left_of_qae = np.sin(np.pi * (y - 1) / M) ** 2\n",
    "            right_of_qae = np.sin(np.pi * (y + 1) / M) ** 2\n",
    "            bubbles = [left_of_qae, qae, right_of_qae]\n",
    "\n",
    "        # Find global maximum amongst the two local maxima\n",
    "        a_opt = qae\n",
    "        loglik_opt = loglikelihood(a_opt)\n",
    "        for a, b in zip(bubbles[:-1], bubbles[1:]):\n",
    "            locmax, val = bisect_max(loglikelihood, a, b, retval=True)\n",
    "            if val > loglik_opt:\n",
    "                a_opt = locmax\n",
    "                loglik_opt = val\n",
    "\n",
    "        if apply_post_processing:\n",
    "            return problem.post_processing(a_opt)\n",
    "\n",
    "        return a_opt\n",
    "\n",
    "def run_parallel_noiseless(noise=False):\n",
    "    if noise == False:\n",
    "        qi_ideal = QuantumInstance(Aer.get_backend('qasm_simulator'), shots=n_shots, \n",
    "                            optimization_level=optimization_level, seed_transpiler=42)\n",
    "        counts = qi_ideal.execute(state_preparation2).get_counts()#job.result().get_counts()\n",
    "    else:\n",
    "        counts = qi_noise.execute(state_preparation2).get_counts()\n",
    "\n",
    "    samples, measurements = evaluate_count_results(counts)\n",
    "    samples_processed = {\n",
    "                problem.post_processing(a): p for a, p in samples.items()\n",
    "            }\n",
    "    # determine the most likely estimate\n",
    "    max_probability = 0\n",
    "    for amplitude, (mapped, prob) in zip(samples.keys(), samples_processed.items()):\n",
    "        if prob > max_probability:\n",
    "            max_probability = prob\n",
    "            estimation = amplitude\n",
    "            estimation_processed = mapped\n",
    "\n",
    "    return compute_mle(estimation, samples, apply_post_processing=True)"
   ]
  },
  {
   "cell_type": "code",
   "execution_count": null,
   "metadata": {},
   "outputs": [
    {
     "name": "stdout",
     "output_type": "stream",
     "text": [
      "455118\n",
      "1183273\n"
     ]
    }
   ],
   "source": [
    "if depth == 'e_loss':\n",
    "    #from qiskit.visualization import plot_circuit_layout\n",
    "\n",
    "    tr_ae_circuit = transpile(state_preparation2, optimization_level=optimization_level, backend=backend, seed_transpiler=42)\n",
    "    \n",
    "    # Return circuit depth (i.e., length of critical path).\n",
    "    print(tr_ae_circuit.depth()) #455118\n",
    "    # Returns total number of instructions in circuit.\n",
    "    print(tr_ae_circuit.size()) #1183273\n",
    "\n",
    "    #plot_circuit_layout(tr_ae_circuit, backend)"
   ]
  },
  {
   "cell_type": "code",
   "execution_count": 15,
   "metadata": {},
   "outputs": [],
   "source": [
    "results = pd.DataFrame()"
   ]
  },
  {
   "cell_type": "code",
   "execution_count": 18,
   "metadata": {},
   "outputs": [
    {
     "data": {
      "text/plain": [
       "[datetime.timedelta(seconds=146, microseconds=114046),\n",
       " datetime.timedelta(seconds=142, microseconds=587319),\n",
       " datetime.timedelta(seconds=142, microseconds=499628),\n",
       " datetime.timedelta(seconds=132, microseconds=938932),\n",
       " datetime.timedelta(seconds=123, microseconds=675149),\n",
       " datetime.timedelta(seconds=140, microseconds=897750),\n",
       " datetime.timedelta(seconds=139, microseconds=398270),\n",
       " datetime.timedelta(seconds=131, microseconds=352313),\n",
       " datetime.timedelta(seconds=138, microseconds=763538),\n",
       " datetime.timedelta(seconds=137, microseconds=745302)]"
      ]
     },
     "execution_count": 18,
     "metadata": {},
     "output_type": "execute_result"
    }
   ],
   "source": [
    "from datetime import datetime\n",
    "import pytz\n",
    "\n",
    "kind_of_simulation = 'sequential'\n",
    "n_simulation = 10\n",
    "asset_class = [36, 258]\n",
    "risk_factor = [1]\n",
    "execution_times = []\n",
    "\n",
    "for i in range(n_simulation):\n",
    "    \n",
    "    if kind_of_simulation == 'parallel':\n",
    "        state_preparation = state_preparation2\n",
    "        execution_backend = 'Simulator'\n",
    "        now = datetime.now(tz=pytz.timezone(\"Europe/Rome\"))\n",
    "        ideal_result = run_parallel_noiseless(noise=False)\n",
    "        now_1 = datetime.now(tz=pytz.timezone(\"Europe/Rome\"))\n",
    "        execution_times.append(now_1-now)\n",
    "    elif kind_of_simulation == 'sequential':\n",
    "        execution_backend = 'Simulator'\n",
    "        now = datetime.now(tz=pytz.timezone(\"Europe/Rome\"))\n",
    "        ideal_result = ae_sequential.estimate(problem).mle_processed\n",
    "        now_1 = datetime.now(tz=pytz.timezone(\"Europe/Rome\"))\n",
    "        execution_times.append(now_1-now)\n",
    "    # elif kind_of_simulation == 'realhw':\n",
    "    #     ae = IterativeAmplitudeEstimation(epsilon, alpha=alpha, quantum_instance=qi_realhw)\n",
    "    #     execution_backend = 'Real HW'\n",
    "    #     kind = '32'\n",
    "\n",
    "    \n",
    "    \n",
    "    \n",
    "\n",
    "\n",
    "    results = results.append({  'Device':backend_name,\n",
    "                                'Kind': kind_of_simulation,\n",
    "                                'qubits':int(state_preparation.num_qubits),\n",
    "                                'Execution_backend':execution_backend,\n",
    "                                'asset':asset_class,\n",
    "                                'risk_factor':risk_factor,\n",
    "                                'Expected Total Loss':ideal_result,\n",
    "                                },ignore_index=True)\n",
    "execution_times"
   ]
  },
  {
   "cell_type": "code",
   "execution_count": 17,
   "metadata": {},
   "outputs": [
    {
     "name": "stderr",
     "output_type": "stream",
     "text": [
      "C:\\Users\\emanu\\AppData\\Local\\Temp\\ipykernel_7908\\1890596104.py:4: FutureWarning: As the xlwt package is no longer maintained, the xlwt engine will be removed in a future version of pandas. This is the only engine in pandas that supports writing in the xls format. Install openpyxl and write to an xlsx file instead. You can set the option io.excel.xls.writer to 'xlwt' to silence this warning. While this option is deprecated and will also raise a warning, it can be globally set and the warning suppressed.\n",
      "  results.to_excel('Data/qae_parallel_results.xls')\n"
     ]
    }
   ],
   "source": [
    "if kind_of_simulation == 'sequential':\n",
    "    results.to_excel('Data/qae_sequential_results.xls')\n",
    "elif kind_of_simulation == 'parallel':\n",
    "    results.to_excel('Data/qae_parallel_results.xls')"
   ]
  },
  {
   "cell_type": "markdown",
   "metadata": {},
   "source": [
    "### Parallel IQAE attempt"
   ]
  },
  {
   "cell_type": "code",
   "execution_count": 27,
   "metadata": {},
   "outputs": [
    {
     "data": {
      "image/png": "[encoded data removed]",
      "text/plain": [
       "<Figure size 961.793x1047.48 with 1 Axes>"
      ]
     },
     "execution_count": 27,
     "metadata": {},
     "output_type": "execute_result"
    }
   ],
   "source": [
    "def get_parallelized_iqae_circuit():\n",
    "    \n",
    "    # define the registers for convenience and readability\n",
    "    qr_state = QuantumRegister(u.num_qubits, 'state')\n",
    "    qr_obj = QuantumRegister(1, 'objective')\n",
    "    ar = QuantumRegister(objective.num_ancillas, \"work\")  # additional qubits\n",
    "\n",
    "    qr_state2 = QuantumRegister(u.num_qubits, 'state_2')\n",
    "    qr_obj2 = QuantumRegister(1, 'objective_2')\n",
    "    ar2 = QuantumRegister(objective.num_ancillas, \"work_2\")  # additional qubits\n",
    "\n",
    "    qr_eval = QuantumRegister(1, 'eval')\n",
    "    qr_eval2 = QuantumRegister(1, 'eval_2')\n",
    "\n",
    "    # define the circuit\n",
    "    state_preparation = QuantumCircuit(qr_state, qr_obj, ar, qr_eval, qr_state2, qr_obj2, ar2, qr_eval2, name='A')\n",
    "\n",
    "    # load the random variable\n",
    "    state_preparation.append(u.to_gate(), qr_state)\n",
    "    state_preparation.append(u.to_gate(), qr_state2)\n",
    "\n",
    "    # state_preparation.cx(qr_result[0], qr_eval[0])\n",
    "    state_preparation.h(qr_eval2[0])\n",
    "\n",
    "    # linear objective function (does aggregation and comparison)\n",
    "    state_preparation.append(objective_e_loss.to_gate(), qr_state[-K:] + qr_obj[:] + ar[:])\n",
    "    state_preparation.append(objective_e_loss.to_gate(), qr_state2[-K:] + qr_obj2[:] + ar2[:])\n",
    "    state_preparation.cx(qr_obj2[-1], qr_obj[-1])\n",
    "    # state_preparation.append(problem.grover_operator.to_gate(), qr_state[:] + qr_obj[:] + ar[:])\n",
    "    \n",
    "    state_preparation.compose(grover_op2.power(2**(3)), qubits=qr_state[:] + qr_obj[:] + ar[:], inplace=True)\n",
    "    \n",
    "    state_preparation.compose(grover_op2.power(7), qubits=qr_state2[:] + qr_obj2[:] + ar2[:], inplace=True)\n",
    "\n",
    "    # state_preparation.compose(grover_op2.power(2**1), qubits=qr_state2[:] + qr_obj2[:] + ar2[:], inplace=True)\n",
    "\n",
    "    # state_preparation.compose(grover_op2.power(2**2), qubits=qr_state2[:] + qr_obj2[:] + ar2[:], inplace=True)\n",
    "\n",
    "    # state_preparation.compose(grover_op2.power(2**3), qubits=qr_state2[:] + qr_obj2[:] + ar2[:], inplace=True)\n",
    "\n",
    "    # state_preparation.compose(grover_op2.power(2**4), qubits=qr_state2[:] + qr_obj2[:] + ar2[:], inplace=True)\n",
    "\n",
    "    state_preparation.cx(qr_obj2[-1], qr_obj[-1])\n",
    "    state_preparation.h(qr_eval2[0])\n",
    "    # state_preparation.append(qpe.to_gate(), qr_eval[:] + qr_state2[:] + qr_obj2[:] + ar2[:])\n",
    "    # state_preparation.cx(qr_result[0], qr_result[0])\n",
    "    cr = ClassicalRegister(1)\n",
    "    state_preparation.add_register(cr)\n",
    "    state_preparation.measure(qr_obj2[:], [0])\n",
    "\n",
    "    return state_preparation, objective_e_loss\n",
    "\n",
    "    \n",
    "state_preparation3, objective = get_parallelized_iqae_circuit()\n",
    "state_preparation3.draw(\"mpl\")"
   ]
  },
  {
   "cell_type": "code",
   "execution_count": 17,
   "metadata": {},
   "outputs": [],
   "source": [
    "from typing import Optional, Union, List, Tuple, Dict, cast\n",
    "def good_state_probability(\n",
    "    problem: EstimationProblem,\n",
    "    counts_or_statevector: Union[Dict[str, int], np.ndarray],\n",
    "    num_state_qubits: int,\n",
    "):\n",
    "    \"\"\"Get the probability to measure '1' in the last qubit.\n",
    "\n",
    "    Args:\n",
    "        problem: The estimation problem, used to obtain the number of objective qubits and\n",
    "            the ``is_good_state`` function.\n",
    "        counts_or_statevector: Either a counts-dictionary (with one measured qubit only!) or\n",
    "            the statevector returned from the statevector_simulator.\n",
    "        num_state_qubits: The number of state qubits.\n",
    "\n",
    "    Returns:\n",
    "        If a dict is given, return (#one-counts, #one-counts/#all-counts),\n",
    "        otherwise Pr(measure '1' in the last qubit).\n",
    "    \"\"\"\n",
    "    if isinstance(counts_or_statevector, dict):\n",
    "        one_counts = 0\n",
    "        for state, counts in counts_or_statevector.items():\n",
    "            if problem.is_good_state(state):\n",
    "                one_counts += counts\n",
    "\n",
    "        return int(one_counts), one_counts / sum(counts_or_statevector.values())\n",
    "    else:\n",
    "        statevector = counts_or_statevector\n",
    "        num_qubits = int(np.log2(len(statevector)))  # the total number of qubits\n",
    "\n",
    "        # sum over all amplitudes where the objective qubit is 1\n",
    "        prob = 0\n",
    "        for i, amplitude in enumerate(statevector):\n",
    "            # consider only state qubits and revert bit order\n",
    "            bitstr = bin(i)[2:].zfill(num_qubits)[-num_state_qubits:][::-1]\n",
    "            objectives = [bitstr[index] for index in problem.objective_qubits]\n",
    "            if problem.is_good_state(objectives):\n",
    "                prob = prob + np.abs(amplitude) ** 2\n",
    "\n",
    "        return prob"
   ]
  },
  {
   "cell_type": "code",
   "execution_count": 18,
   "metadata": {},
   "outputs": [],
   "source": [
    "from scipy.stats import beta\n",
    "def clopper_pearson_confint(counts: int, shots: int, alpha: float) -> Tuple[float, float]:\n",
    "    \"\"\"Compute the Clopper-Pearson confidence interval for `shots` i.i.d. Bernoulli trials.\n",
    "\n",
    "    Args:\n",
    "        counts: The number of positive counts.\n",
    "        shots: The number of shots.\n",
    "        alpha: The confidence level for the confidence interval.\n",
    "\n",
    "    Returns:\n",
    "        The Clopper-Pearson confidence interval.\n",
    "    \"\"\"\n",
    "    lower, upper = 0, 1\n",
    "\n",
    "    # if counts == 0, the beta quantile returns nan\n",
    "    if counts != 0:\n",
    "        lower = beta.ppf(alpha / 2, counts, shots - counts + 1)\n",
    "\n",
    "    # if counts == shots, the beta quantile returns nan\n",
    "    if counts != shots:\n",
    "        upper = beta.ppf(1 - alpha / 2, counts + 1, shots - counts)\n",
    "\n",
    "    return lower, upper"
   ]
  },
  {
   "cell_type": "code",
   "execution_count": 28,
   "metadata": {},
   "outputs": [
    {
     "name": "stdout",
     "output_type": "stream",
     "text": [
      "result with no noise: 108836.20727931996 0.5154965167041342\n"
     ]
    }
   ],
   "source": [
    "mode = 'sequentia'\n",
    "\n",
    "qi_ideal = QuantumInstance(Aer.get_backend('qasm_simulator'), shots=3000, \n",
    "                           optimization_level=optimization_level, seed_transpiler=42)\n",
    "problem = EstimationProblem(state_preparation=state_preparation,\n",
    "                            objective_qubits=[u.num_qubits],\n",
    "                            post_processing=objective.post_processing)\n",
    "\n",
    "iqae = IterativeAmplitudeEstimation(epsilon_target=0.01, alpha=0.1, quantum_instance=qi_ideal)\n",
    "iqae_circuit = iqae.construct_circuit(problem, k=7, measurement=True)\n",
    "\n",
    "if mode == 'sequential':\n",
    "    counts = qi_ideal.execute(iqae_circuit).get_counts(iqae_circuit)\n",
    "else:\n",
    "    counts = qi_ideal.execute(state_preparation3).get_counts(state_preparation3)\n",
    "num_qubits = iqae_circuit.num_qubits - iqae_circuit.num_ancillas\n",
    "one_counts, iqae_ideal_result = good_state_probability(problem, counts, num_qubits)\n",
    "max_rounds = (\n",
    "            int(np.log(2 * np.pi / 8 / 0.01) / np.log(2)) + 1\n",
    "        )\n",
    "a_i_min, a_i_max = clopper_pearson_confint(\n",
    "    one_counts, 3000, 0.1 / max_rounds\n",
    ")\n",
    "upper_half_circle=True\n",
    "\n",
    "# compute theta_min_i, theta_max_i\n",
    "if upper_half_circle:\n",
    "    theta_min_i = np.arccos(1 - 2 * a_i_min) / 2 / np.pi\n",
    "    theta_max_i = np.arccos(1 - 2 * a_i_max) / 2 / np.pi\n",
    "else:\n",
    "    theta_min_i = 1 - np.arccos(1 - 2 * a_i_max) / 2 / np.pi\n",
    "    theta_max_i = 1 - np.arccos(1 - 2 * a_i_min) / 2 / np.pi\n",
    "\n",
    "theta_intervals = [[0, 1 / 4]]\n",
    "# compute theta_u, theta_l of this iteration\n",
    "scaling = 4 * k + 2  # current K_i factor\n",
    "theta_u = (int(scaling * theta_intervals[-1][1]) + theta_max_i) / scaling\n",
    "theta_l = (int(scaling * theta_intervals[-1][0]) + theta_min_i) / scaling\n",
    "theta_intervals.append([theta_l, theta_u])\n",
    "\n",
    "# compute a_u_i, a_l_i\n",
    "a_u = np.sin(2 * np.pi * theta_u) ** 2\n",
    "a_l = np.sin(2 * np.pi * theta_l) ** 2\n",
    "a_u = cast(float, a_u)\n",
    "a_l = cast(float, a_l)\n",
    "\n",
    "# get the latest confidence interval for the estimate of a\n",
    "confidence_interval = tuple([a_l, a_u])\n",
    "\n",
    "# the final estimate is the mean of the confidence interval\n",
    "estimation = np.mean(confidence_interval)\n",
    "\n",
    "print(\"result with no noise:\", objective.post_processing(estimation), estimation)\n",
    "if mode == 'sequential':\n",
    "    iqae_circuit.decompose().draw(\"mpl\")\n",
    "else:\n",
    "    state_preparation3.draw(\"mpl\")"
   ]
  },
  {
   "cell_type": "code",
   "execution_count": 31,
   "metadata": {},
   "outputs": [
    {
     "name": "stdout",
     "output_type": "stream",
     "text": [
      "{   'alpha': 0.1,\n",
      "    'circuit_results': None,\n",
      "    'confidence_interval': (0.49266537236412333, 0.49433461494948744),\n",
      "    'confidence_interval_processed': (2420.698632202972, 10201.00504749084),\n",
      "    'epsilon_estimated': 0.0008346212926820529,\n",
      "    'epsilon_estimated_processed': 3890.1532076439344,\n",
      "    'epsilon_target': None,\n",
      "    'estimate_intervals': [   [0.0, 1.0],\n",
      "                              [0.472489713576505, 0.5175248742924704],\n",
      "                              [0.49266537236412333, 0.49433461494948744]],\n",
      "    'estimation': 0.4934999936568054,\n",
      "    'estimation_processed': 6310.851839847035,\n",
      "    'num_oracle_queries': 39000,\n",
      "    'powers': [0, 0, 13],\n",
      "    'ratios': [1.0, 27.0],\n",
      "    'shots': None,\n",
      "    'theta_intervals': [   [0, 0.25],\n",
      "                           [0.12061938982094898, 0.12778974176224556],\n",
      "                           [0.12383261588580154, 0.12409830666980402]]}\n"
     ]
    }
   ],
   "source": [
    "print(iqae.estimate(problem))"
   ]
  }
 ],
 "metadata": {
  "kernelspec": {
   "display_name": "Python 3.9.12 ('qvar')",
   "language": "python",
   "name": "python3"
  },
  "language_info": {
   "codemirror_mode": {
    "name": "ipython",
    "version": 3
   },
   "file_extension": ".py",
   "mimetype": "text/x-python",
   "name": "python",
   "nbconvert_exporter": "python",
   "pygments_lexer": "ipython3",
   "version": "3.9.12"
  },
  "vscode": {
   "interpreter": {
    "hash": "5779756d2c2f50ed1fbffcc348c65b8fe5d82e6d6f5b430de7595757022a152b"
   }
  },
  "widgets": {
   "application/vnd.jupyter.widget-state+json": {
    "state": {},
    "version_major": 2,
    "version_minor": 0
   }
  }
 },
 "nbformat": 4,
 "nbformat_minor": 4
}
