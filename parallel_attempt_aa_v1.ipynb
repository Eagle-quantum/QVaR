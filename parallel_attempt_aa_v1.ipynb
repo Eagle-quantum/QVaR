{
 "cells": [
  {
   "cell_type": "markdown",
   "metadata": {},
   "source": [
    "# Experiment Iterative Quantum Amplitude Estimatio Parallelization"
   ]
  },
  {
   "cell_type": "code",
   "execution_count": 1,
   "metadata": {},
   "outputs": [],
   "source": [
    "import numpy as np\n",
    "import pandas as pd\n",
    "#import matplotlib.pyplot as plt\n",
    "\n",
    "from multivariateGCI_mr import MultivariateGCI_mr\n",
    "from multivariateGCI_sr import MultivariateGCI_sr\n",
    "\n",
    "from qiskit import QuantumRegister, QuantumCircuit, Aer, execute, IBMQ, transpile, ClassicalRegister\n",
    "from qiskit.utils import QuantumInstance\n",
    "from qiskit.algorithms import IterativeAmplitudeEstimation, EstimationProblem, AmplitudeEstimation\n",
    "#from qiskit.providers.aer.noise import NoiseModel\n",
    "from qiskit.circuit.library import LinearAmplitudeFunction, QFT\n",
    "from qiskit.circuit.library import LinearAmplitudeFunction"
   ]
  },
  {
   "cell_type": "code",
   "execution_count": 2,
   "metadata": {},
   "outputs": [],
   "source": [
    "df = pd.read_csv(\"Data/sampled_counterparts.csv\")\n",
    "# df = df[((df['pd']>=0.1) & ((1000 < df['lgd dwt']*df['ead']) & (df['lgd dwt']*df['ead'] < 5000000)))]\n",
    "df =  df.iloc[[38-2, 260-2]] #df.iloc[[38-2, 260-2, 7816-2]] \n",
    "\n",
    "F_matrix = pd.read_csv(\"Data/F_for_sampled_counterparts.csv\")\n",
    "sectors = [1] #[1, 2]\n",
    "F_values = [[F_matrix.iloc[df.index.values[j]][i-1] for i in sectors] for j in range(len(df))]\n",
    "# F_values = [[0.55], [0.65], [0.50]] # make F/rhos"
   ]
  },
  {
   "cell_type": "markdown",
   "metadata": {},
   "source": [
    "## Parameter Setting"
   ]
  },
  {
   "cell_type": "code",
   "execution_count": 3,
   "metadata": {},
   "outputs": [
    {
     "name": "stdout",
     "output_type": "stream",
     "text": [
      "F: [[0.1580707722], [0.2555327991]]\n",
      "Rhos: [0.3 0.3]\n",
      "Lgds: [18406.56224845756, 54807.94141703075]\n",
      "p_zeros: [0.2565108504, 0.0715568886]\n"
     ]
    },
    {
     "data": {
      "text/html": [
       "<div>\n",
       "<style scoped>\n",
       "    .dataframe tbody tr th:only-of-type {\n",
       "        vertical-align: middle;\n",
       "    }\n",
       "\n",
       "    .dataframe tbody tr th {\n",
       "        vertical-align: top;\n",
       "    }\n",
       "\n",
       "    .dataframe thead th {\n",
       "        text-align: right;\n",
       "    }\n",
       "</style>\n",
       "<table border=\"1\" class=\"dataframe\">\n",
       "  <thead>\n",
       "    <tr style=\"text-align: right;\">\n",
       "      <th></th>\n",
       "      <th>cluster</th>\n",
       "      <th>pd</th>\n",
       "      <th>lgd dwt</th>\n",
       "      <th>ead</th>\n",
       "      <th>num ctp</th>\n",
       "      <th>sett</th>\n",
       "      <th>is</th>\n",
       "      <th>acca</th>\n",
       "      <th>cod type</th>\n",
       "      <th>cod stato</th>\n",
       "      <th>lgd pag</th>\n",
       "    </tr>\n",
       "  </thead>\n",
       "  <tbody>\n",
       "    <tr>\n",
       "      <th>36</th>\n",
       "      <td>005118_618</td>\n",
       "      <td>0.256511</td>\n",
       "      <td>0.223071</td>\n",
       "      <td>82514.537908</td>\n",
       "      <td>83292</td>\n",
       "      <td>5</td>\n",
       "      <td>0.3</td>\n",
       "      <td>0.000083</td>\n",
       "      <td>0</td>\n",
       "      <td>0</td>\n",
       "      <td>0.187699</td>\n",
       "    </tr>\n",
       "    <tr>\n",
       "      <th>258</th>\n",
       "      <td>002116_18</td>\n",
       "      <td>0.071557</td>\n",
       "      <td>0.194311</td>\n",
       "      <td>282063.242107</td>\n",
       "      <td>888</td>\n",
       "      <td>2</td>\n",
       "      <td>0.3</td>\n",
       "      <td>0.019318</td>\n",
       "      <td>0</td>\n",
       "      <td>0</td>\n",
       "      <td>0.157672</td>\n",
       "    </tr>\n",
       "  </tbody>\n",
       "</table>\n",
       "</div>"
      ],
      "text/plain": [
       "        cluster        pd   lgd dwt            ead  num ctp  sett   is  \\\n",
       "36   005118_618  0.256511  0.223071   82514.537908    83292     5  0.3   \n",
       "258   002116_18  0.071557  0.194311  282063.242107      888     2  0.3   \n",
       "\n",
       "         acca  cod type  cod stato   lgd pag  \n",
       "36   0.000083         0          0  0.187699  \n",
       "258  0.019318         0          0  0.157672  "
      ]
     },
     "execution_count": 3,
     "metadata": {},
     "output_type": "execute_result"
    }
   ],
   "source": [
    "# set problem parameters\n",
    "n_z = 2\n",
    "z_max = 2\n",
    "\n",
    "p_zeros = [el['pd'] for _, el in df.iterrows()]\n",
    "rhos = [el['is']**2 for _, el in df.iterrows()]\n",
    "lgd = [el['lgd dwt']*el['ead'] for _, el in df.iterrows()]\n",
    "\n",
    "K = len(p_zeros)\n",
    "\n",
    "alpha_var = 0.05\n",
    "\n",
    "compute_depth = False\n",
    "serialization = False\n",
    "\n",
    "print(f'F: {F_values}\\nRhos: {np.sqrt(rhos)}\\nLgds: {lgd}\\np_zeros: {p_zeros}')\n",
    "df"
   ]
  },
  {
   "cell_type": "code",
   "execution_count": 4,
   "metadata": {},
   "outputs": [],
   "source": [
    "# Encoding of the uncertainty model\n",
    "\n",
    "u = MultivariateGCI_sr(n_z, z_max, p_zeros, rhos, F_values[1])\n",
    "u = MultivariateGCI_mr(n_z, z_max, p_zeros, rhos, F_values)"
   ]
  },
  {
   "cell_type": "code",
   "execution_count": 5,
   "metadata": {},
   "outputs": [],
   "source": [
    "def mapping(decimal_number):\n",
    "    b = ('{0:0%sb}' % K).format(decimal_number)\n",
    "    #print(b)\n",
    "    losses = [loss for i, loss in enumerate(lgd[::-1]) if b[i]=='1']\n",
    "    #print(losses)\n",
    "    total_loss = sum(losses)\n",
    "    return total_loss\n",
    "\n",
    "def find_breakpoint(x_eval):\n",
    "    for el in range(0,2**K):\n",
    "        if mapping(el) <= x_eval:\n",
    "            if mapping(el+1) >= x_eval:\n",
    "                return el\n",
    "    return 0\n",
    "\n",
    "depth = 'e_loss'\n",
    "\n",
    "if depth == 'e_loss':\n",
    "    # define linear objective function for expected loss\n",
    "    breakpoints = list(range(0,2**K))\n",
    "    slopes = [0]*len(breakpoints)\n",
    "    offsets = [mapping(el) for el in breakpoints]\n",
    "    f_min = 0\n",
    "    f_max = sum(lgd)\n",
    "    c_approx = 0.01\n",
    "\n",
    "\n",
    "    objective_e_loss = LinearAmplitudeFunction(\n",
    "        K,\n",
    "        slope=slopes, \n",
    "        offset=offsets, \n",
    "        # max value that can be reached by the qubit register (will not always be reached)\n",
    "        domain=(0, 2**K-1),  \n",
    "        image=(f_min, f_max),\n",
    "        rescaling_factor=c_approx,\n",
    "        breakpoints=breakpoints\n",
    "    )"
   ]
  },
  {
   "cell_type": "code",
   "execution_count": 6,
   "metadata": {},
   "outputs": [],
   "source": [
    "def get_cdf_circuit(x_eval):\n",
    "    \n",
    "    # define linear objective function for cdf\n",
    "    breakpoints = list(range(0,2**K))\n",
    "    slopes = [0]*len(breakpoints)\n",
    "    # print(values)\n",
    "    offsets = [1 if mapping(el)<=x_eval else 0 for el in breakpoints]\n",
    "    f_min = 0\n",
    "    f_max = 1\n",
    "    c_approx = 0.01\n",
    "    \n",
    "    objective = LinearAmplitudeFunction(\n",
    "        K,\n",
    "        slope=slopes, \n",
    "        offset=offsets, \n",
    "        # max value that can be reached by the qubit register (will not always be reached)\n",
    "        domain=(0, 2**K-1),  \n",
    "        image=(f_min, f_max),\n",
    "        rescaling_factor=c_approx,\n",
    "        breakpoints=breakpoints\n",
    "    )\n",
    "\n",
    "    # define the registers for convenience and readability\n",
    "    qr_state = QuantumRegister(u.num_qubits, 'state')\n",
    "    qr_obj = QuantumRegister(1, 'objective')\n",
    "    ar = QuantumRegister(objective.num_ancillas, \"work\")  # additional qubits\n",
    "\n",
    "    # define the circuit\n",
    "    state_preparation = QuantumCircuit(qr_state, qr_obj, ar, name='A')\n",
    "\n",
    "    # load the random variable\n",
    "    state_preparation.append(u.to_gate(), qr_state)\n",
    "\n",
    "    # linear objective function (does aggregation and comparison)\n",
    "    if depth == 'e_loss':\n",
    "        state_preparation.append(objective_e_loss.to_gate(), qr_state[-K:] + qr_obj[:] + ar[:])\n",
    "        return state_preparation, objective_e_loss\n",
    "    else:\n",
    "        state_preparation.append(objective.to_gate(), qr_state[-K:] + qr_obj[:] + ar[:])\n",
    "        return state_preparation, objective\n",
    "    "
   ]
  },
  {
   "cell_type": "code",
   "execution_count": 7,
   "metadata": {},
   "outputs": [],
   "source": [
    "example = 0\n",
    "state_preparation, objective = get_cdf_circuit(example)"
   ]
  },
  {
   "cell_type": "code",
   "execution_count": 8,
   "metadata": {},
   "outputs": [
    {
     "data": {
      "text/html": [
       "<pre style=\"word-wrap: normal;white-space: pre;background: #fff0;line-height: 1.1;font-family: &quot;Courier New&quot;,Courier,monospace\">           ┌───────┐      \n",
       "  state_0: ┤0      ├──────\n",
       "           │       │      \n",
       "  state_1: ┤1      ├──────\n",
       "           │  P(X) │┌────┐\n",
       "  state_2: ┤2      ├┤0   ├\n",
       "           │       ││    │\n",
       "  state_3: ┤3      ├┤1   ├\n",
       "           └───────┘│    │\n",
       "objective: ─────────┤2 F ├\n",
       "                    │    │\n",
       "   work_0: ─────────┤3   ├\n",
       "                    │    │\n",
       "   work_1: ─────────┤4   ├\n",
       "                    └────┘</pre>"
      ],
      "text/plain": [
       "           ┌───────┐      \n",
       "  state_0: ┤0      ├──────\n",
       "           │       │      \n",
       "  state_1: ┤1      ├──────\n",
       "           │  P(X) │┌────┐\n",
       "  state_2: ┤2      ├┤0   ├\n",
       "           │       ││    │\n",
       "  state_3: ┤3      ├┤1   ├\n",
       "           └───────┘│    │\n",
       "objective: ─────────┤2 F ├\n",
       "                    │    │\n",
       "   work_0: ─────────┤3   ├\n",
       "                    │    │\n",
       "   work_1: ─────────┤4   ├\n",
       "                    └────┘"
      ]
     },
     "execution_count": 8,
     "metadata": {},
     "output_type": "execute_result"
    }
   ],
   "source": [
    "state_preparation.draw()"
   ]
  },
  {
   "cell_type": "code",
   "execution_count": 9,
   "metadata": {},
   "outputs": [],
   "source": [
    "# set target precision and confidence level\n",
    "epsilon = 0.01/6\n",
    "alpha = 0.05/6\n",
    "\n",
    "simulated = True\n",
    "optimization_level = 1\n",
    "n_shots = 10000\n",
    "\n",
    "qi_ideal = QuantumInstance(Aer.get_backend('qasm_simulator'), shots=n_shots, \n",
    "                           optimization_level=optimization_level, seed_transpiler=42)\n",
    "\n",
    "\n",
    "#coupling_map = backend.configuration().coupling_map\n",
    "#basis_gates = noise_model.basis_gates\n",
    "\n",
    "#qi_noise = QuantumInstance(Aer.get_backend('qasm_simulator'), shots=n_shots, \n",
    "#                        optimization_level=optimization_level, seed_transpiler=42,\n",
    "#                        noise_model=noise_model, basis_gates=basis_gates, coupling_map=coupling_map)\n",
    "\n",
    "problem = EstimationProblem(state_preparation=state_preparation,\n",
    "                            objective_qubits=[u.num_qubits],\n",
    "                            post_processing=objective.post_processing)"
   ]
  },
  {
   "cell_type": "code",
   "execution_count": 10,
   "metadata": {},
   "outputs": [],
   "source": [
    "def get_parallelized_iqae_circuit(iterations,u, objective, K=2,):\n",
    "    \n",
    "    # define the registers for convenience and readability\n",
    "    qr_state = QuantumRegister(u.num_qubits, 'state')\n",
    "    qr_obj = QuantumRegister(1, 'objective')\n",
    "    ar = QuantumRegister(objective.num_ancillas, \"work\")  # additional qubits\n",
    "\n",
    "    qr_state2 = QuantumRegister(u.num_qubits, 'state_2')\n",
    "    qr_obj2 = QuantumRegister(1, 'objective_2')\n",
    "    ar2 = QuantumRegister(objective.num_ancillas, \"work_2\")  # additional qubits\n",
    "\n",
    "    qr_eval = QuantumRegister(1, 'eval')\n",
    "    qr_eval2 = QuantumRegister(1, 'eval_2')\n",
    "\n",
    "    # define the circuit\n",
    "    state_preparation = QuantumCircuit(qr_state, qr_obj, ar, qr_eval, qr_state2, qr_obj2, ar2, qr_eval2, name='A')\n",
    "\n",
    "    # load the random variable\n",
    "    # state_preparation.append(u.to_gate(), qr_state)\n",
    "    state_preparation.append(u.to_gate(), qr_state2)\n",
    "\n",
    "    # state_preparation.cx(qr_result[0], qr_eval[0])\n",
    "    state_preparation.h(qr_eval2[0])\n",
    "    # state_preparation.h(qr_eval[0])\n",
    "\n",
    "    # linear objective function (does aggregation and comparison)\n",
    "    # state_preparation.append(objective_e_loss.to_gate(), qr_state[-K:] + qr_obj[:] + ar[:])\n",
    "    state_preparation.append(objective_e_loss.to_gate(), qr_state2[-K:] + qr_obj2[:] + ar2[:])\n",
    "    #state_preparation.cx(qr_eval2[-1], qr_eval[-1])\n",
    "    # state_preparation.append(problem.grover_operator.to_gate(), qr_state[:] + qr_obj[:] + ar[:])\n",
    "    \n",
    "    # state_preparation.compose(grover_op.power(2**(3)).control(), qubits=qr_eval[:]+qr_state[:] + qr_obj[:] + ar[:], inplace=True)\n",
    "    \n",
    "    state_preparation.compose(grover_op.power(iterations).control(), qubits=qr_eval2[:]+qr_state2[:] + qr_obj2[:] + ar2[:], inplace=True)\n",
    "\n",
    "    # state_preparation.cx(qr_eval2[-1], qr_eval[-1])\n",
    "    state_preparation.h(qr_eval2[0])\n",
    "    # state_preparation.h(qr_eval[0])\n",
    "    # state_preparation.append(qpe.to_gate(), qr_eval[:] + qr_state2[:] + qr_obj2[:] + ar2[:])\n",
    "    # state_preparation.cx(qr_result[0], qr_result[0])\n",
    "    cr = ClassicalRegister(1)\n",
    "    state_preparation.add_register(cr)\n",
    "    state_preparation.measure(qr_eval2[:], [0])\n",
    "\n",
    "    return state_preparation, objective_e_loss"
   ]
  },
  {
   "cell_type": "code",
   "execution_count": 11,
   "metadata": {},
   "outputs": [],
   "source": [
    "grover_op = problem.grover_operator\n",
    "\n",
    "state_preparation3, objective = get_parallelized_iqae_circuit(15)"
   ]
  },
  {
   "cell_type": "markdown",
   "metadata": {},
   "source": [
    "### Results"
   ]
  },
  {
   "cell_type": "code",
   "execution_count": 12,
   "metadata": {},
   "outputs": [
    {
     "name": "stderr",
     "output_type": "stream",
     "text": [
      "/var/folders/8_/g3c06kds6psc_vkvjcfmfwbw0000gp/T/ipykernel_14524/907075978.py:15: FutureWarning: The frame.append method is deprecated and will be removed from pandas in a future version. Use pandas.concat instead.\n",
      "  df = df.append({'iterations':i, 'P_1':one_counts}, ignore_index=True)\n",
      "/var/folders/8_/g3c06kds6psc_vkvjcfmfwbw0000gp/T/ipykernel_14524/907075978.py:15: FutureWarning: The frame.append method is deprecated and will be removed from pandas in a future version. Use pandas.concat instead.\n",
      "  df = df.append({'iterations':i, 'P_1':one_counts}, ignore_index=True)\n"
     ]
    }
   ],
   "source": [
    "mode = 'parallel'\n",
    "k = 12\n",
    "\n",
    "df = pd.DataFrame()\n",
    "for i in range(2):\n",
    "\n",
    "    state_preparation3, objective = get_parallelized_iqae_circuit(i)\n",
    "    counts = qi_ideal.execute(state_preparation3).get_counts(state_preparation3)\n",
    "\n",
    "    one_counts = 0\n",
    "    for state, count in counts.items():\n",
    "        if problem.is_good_state(state):\n",
    "            one_counts += count\n",
    "    #iqae_ideal_result = one_counts / sum(counts.values())\n",
    "    df = df.append({'iterations':i, 'P_1':one_counts}, ignore_index=True)"
   ]
  },
  {
   "cell_type": "code",
   "execution_count": 13,
   "metadata": {},
   "outputs": [
    {
     "data": {
      "text/plain": [
       "<AxesSubplot:xlabel='iterations'>"
      ]
     },
     "execution_count": 13,
     "metadata": {},
     "output_type": "execute_result"
    },
    {
     "data": {
      "image/png": "[encoded data removed]",
      "text/plain": [
       "<Figure size 432x288 with 1 Axes>"
      ]
     },
     "metadata": {
      "needs_background": "light"
     },
     "output_type": "display_data"
    }
   ],
   "source": [
    "df.set_index('iterations').plot(style='.-')"
   ]
  },
  {
   "cell_type": "code",
   "execution_count": 13,
   "metadata": {
    "collapsed": true,
    "jupyter": {
     "outputs_hidden": true
    }
   },
   "outputs": [
    {
     "data": {
      "image/png": "[encoded data removed]",
      "text/plain": [
       "<Figure size 540.393x1047.48 with 1 Axes>"
      ]
     },
     "execution_count": 13,
     "metadata": {},
     "output_type": "execute_result"
    }
   ],
   "source": [
    "state_preparation3.draw(\"mpl\")"
   ]
  },
  {
   "cell_type": "code",
   "execution_count": 52,
   "metadata": {},
   "outputs": [],
   "source": [
    "mode = 'sequential'\n",
    "sequential_k = 14\n",
    "\n",
    "df_s = pd.DataFrame()\n",
    "for i in range(19):\n",
    "    iqae = IterativeAmplitudeEstimation(epsilon_target=0.01, alpha=0.1, quantum_instance=qi_ideal)\n",
    "    iqae_circuit = iqae.construct_circuit(problem, k=i, measurement=True)\n",
    "\n",
    "    counts = qi_ideal.execute(iqae_circuit).get_counts(iqae_circuit)\n",
    "\n",
    "    one_counts = 0\n",
    "    for state, count in counts.items():\n",
    "        if problem.is_good_state(state):\n",
    "            one_counts += count\n",
    "    df_s = df.append({'iterations':i, 'P_1':one_counts}, ignore_index=True)"
   ]
  },
  {
   "cell_type": "code",
   "execution_count": 53,
   "metadata": {},
   "outputs": [
    {
     "data": {
      "text/plain": [
       "<matplotlib.axes._subplots.AxesSubplot at 0x7ff6f1c61550>"
      ]
     },
     "execution_count": 53,
     "metadata": {},
     "output_type": "execute_result"
    },
    {
     "data": {
      "image/png": "[encoded data removed]",
      "text/plain": [
       "<Figure size 432x288 with 1 Axes>"
      ]
     },
     "metadata": {
      "needs_background": "light"
     },
     "output_type": "display_data"
    }
   ],
   "source": [
    "df_s.set_index('iterations').plot(style='.-')"
   ]
  },
  {
   "cell_type": "code",
   "execution_count": 28,
   "metadata": {},
   "outputs": [
    {
     "data": {
      "image/png": "[encoded data removed]",
      "text/plain": [
       "<Figure size 1170.2x505.68 with 1 Axes>"
      ]
     },
     "execution_count": 28,
     "metadata": {},
     "output_type": "execute_result"
    }
   ],
   "source": [
    "iqae_circuit.decompose().draw(\"mpl\")"
   ]
  },
  {
   "cell_type": "code",
   "execution_count": 65,
   "metadata": {},
   "outputs": [],
   "source": [
    "df_tot = df.merge(df_s, left_on='iterations',right_on='iterations',suffixes=('_parallel','_sequential'))"
   ]
  },
  {
   "cell_type": "code",
   "execution_count": 69,
   "metadata": {},
   "outputs": [],
   "source": [
    "df_tot = df_tot[['iterations','P_1_parallel', 'P_1_sequential']]"
   ]
  },
  {
   "cell_type": "code",
   "execution_count": 71,
   "metadata": {},
   "outputs": [
    {
     "name": "stderr",
     "output_type": "stream",
     "text": [
      "<ipython-input-71-dad37dd18a5c>:1: SettingWithCopyWarning: \n",
      "A value is trying to be set on a copy of a slice from a DataFrame.\n",
      "Try using .loc[row_indexer,col_indexer] = value instead\n",
      "\n",
      "See the caveats in the documentation: https://pandas.pydata.org/pandas-docs/stable/user_guide/indexing.html#returning-a-view-versus-a-copy\n",
      "  df_tot['diff'] = df_tot.eval(\" P_1_parallel - P_1_sequential \")\n"
     ]
    }
   ],
   "source": [
    "df_tot['diff'] = df_tot.eval(\" P_1_parallel - P_1_sequential \")"
   ]
  },
  {
   "cell_type": "code",
   "execution_count": 74,
   "metadata": {},
   "outputs": [
    {
     "data": {
      "text/plain": [
       "<matplotlib.axes._subplots.AxesSubplot at 0x7ff6fa47ccd0>"
      ]
     },
     "execution_count": 74,
     "metadata": {},
     "output_type": "execute_result"
    },
    {
     "data": {
      "image/png": "[encoded data removed]",
      "text/plain": [
       "<Figure size 432x288 with 1 Axes>"
      ]
     },
     "metadata": {
      "needs_background": "light"
     },
     "output_type": "display_data"
    }
   ],
   "source": [
    "df_tot[['P_1_parallel', 'P_1_sequential']].plot(style='.-')"
   ]
  },
  {
   "cell_type": "code",
   "execution_count": 75,
   "metadata": {},
   "outputs": [
    {
     "data": {
      "text/html": [
       "<div>\n",
       "<style scoped>\n",
       "    .dataframe tbody tr th:only-of-type {\n",
       "        vertical-align: middle;\n",
       "    }\n",
       "\n",
       "    .dataframe tbody tr th {\n",
       "        vertical-align: top;\n",
       "    }\n",
       "\n",
       "    .dataframe thead th {\n",
       "        text-align: right;\n",
       "    }\n",
       "</style>\n",
       "<table border=\"1\" class=\"dataframe\">\n",
       "  <thead>\n",
       "    <tr style=\"text-align: right;\">\n",
       "      <th></th>\n",
       "      <th>iterations</th>\n",
       "      <th>P_1_parallel</th>\n",
       "      <th>P_1_sequential</th>\n",
       "      <th>diff</th>\n",
       "    </tr>\n",
       "  </thead>\n",
       "  <tbody>\n",
       "    <tr>\n",
       "      <th>0</th>\n",
       "      <td>0.0</td>\n",
       "      <td>0.0</td>\n",
       "      <td>0.0</td>\n",
       "      <td>0.0</td>\n",
       "    </tr>\n",
       "    <tr>\n",
       "      <th>1</th>\n",
       "      <td>1.0</td>\n",
       "      <td>4945.0</td>\n",
       "      <td>4928.0</td>\n",
       "      <td>17.0</td>\n",
       "    </tr>\n",
       "    <tr>\n",
       "      <th>2</th>\n",
       "      <td>2.0</td>\n",
       "      <td>10000.0</td>\n",
       "      <td>10000.0</td>\n",
       "      <td>0.0</td>\n",
       "    </tr>\n",
       "    <tr>\n",
       "      <th>3</th>\n",
       "      <td>3.0</td>\n",
       "      <td>5186.0</td>\n",
       "      <td>5281.0</td>\n",
       "      <td>-95.0</td>\n",
       "    </tr>\n",
       "    <tr>\n",
       "      <th>4</th>\n",
       "      <td>4.0</td>\n",
       "      <td>9.0</td>\n",
       "      <td>7.0</td>\n",
       "      <td>2.0</td>\n",
       "    </tr>\n",
       "    <tr>\n",
       "      <th>5</th>\n",
       "      <td>5.0</td>\n",
       "      <td>4739.0</td>\n",
       "      <td>4742.0</td>\n",
       "      <td>-3.0</td>\n",
       "    </tr>\n",
       "    <tr>\n",
       "      <th>6</th>\n",
       "      <td>6.0</td>\n",
       "      <td>9988.0</td>\n",
       "      <td>9985.0</td>\n",
       "      <td>3.0</td>\n",
       "    </tr>\n",
       "    <tr>\n",
       "      <th>7</th>\n",
       "      <td>7.0</td>\n",
       "      <td>5463.0</td>\n",
       "      <td>5337.0</td>\n",
       "      <td>126.0</td>\n",
       "    </tr>\n",
       "    <tr>\n",
       "      <th>8</th>\n",
       "      <td>8.0</td>\n",
       "      <td>22.0</td>\n",
       "      <td>31.0</td>\n",
       "      <td>-9.0</td>\n",
       "    </tr>\n",
       "    <tr>\n",
       "      <th>9</th>\n",
       "      <td>9.0</td>\n",
       "      <td>4493.0</td>\n",
       "      <td>4438.0</td>\n",
       "      <td>55.0</td>\n",
       "    </tr>\n",
       "    <tr>\n",
       "      <th>10</th>\n",
       "      <td>10.0</td>\n",
       "      <td>9948.0</td>\n",
       "      <td>9958.0</td>\n",
       "      <td>-10.0</td>\n",
       "    </tr>\n",
       "    <tr>\n",
       "      <th>11</th>\n",
       "      <td>11.0</td>\n",
       "      <td>5748.0</td>\n",
       "      <td>5618.0</td>\n",
       "      <td>130.0</td>\n",
       "    </tr>\n",
       "    <tr>\n",
       "      <th>12</th>\n",
       "      <td>12.0</td>\n",
       "      <td>52.0</td>\n",
       "      <td>57.0</td>\n",
       "      <td>-5.0</td>\n",
       "    </tr>\n",
       "    <tr>\n",
       "      <th>13</th>\n",
       "      <td>13.0</td>\n",
       "      <td>4144.0</td>\n",
       "      <td>4261.0</td>\n",
       "      <td>-117.0</td>\n",
       "    </tr>\n",
       "    <tr>\n",
       "      <th>14</th>\n",
       "      <td>14.0</td>\n",
       "      <td>9923.0</td>\n",
       "      <td>9939.0</td>\n",
       "      <td>-16.0</td>\n",
       "    </tr>\n",
       "    <tr>\n",
       "      <th>15</th>\n",
       "      <td>15.0</td>\n",
       "      <td>5916.0</td>\n",
       "      <td>5929.0</td>\n",
       "      <td>-13.0</td>\n",
       "    </tr>\n",
       "    <tr>\n",
       "      <th>16</th>\n",
       "      <td>16.0</td>\n",
       "      <td>89.0</td>\n",
       "      <td>98.0</td>\n",
       "      <td>-9.0</td>\n",
       "    </tr>\n",
       "    <tr>\n",
       "      <th>17</th>\n",
       "      <td>17.0</td>\n",
       "      <td>3987.0</td>\n",
       "      <td>4003.0</td>\n",
       "      <td>-16.0</td>\n",
       "    </tr>\n",
       "    <tr>\n",
       "      <th>18</th>\n",
       "      <td>18.0</td>\n",
       "      <td>9879.0</td>\n",
       "      <td>9871.0</td>\n",
       "      <td>8.0</td>\n",
       "    </tr>\n",
       "    <tr>\n",
       "      <th>19</th>\n",
       "      <td>18.0</td>\n",
       "      <td>9879.0</td>\n",
       "      <td>2822.0</td>\n",
       "      <td>7057.0</td>\n",
       "    </tr>\n",
       "  </tbody>\n",
       "</table>\n",
       "</div>"
      ],
      "text/plain": [
       "    iterations  P_1_parallel  P_1_sequential    diff\n",
       "0          0.0           0.0             0.0     0.0\n",
       "1          1.0        4945.0          4928.0    17.0\n",
       "2          2.0       10000.0         10000.0     0.0\n",
       "3          3.0        5186.0          5281.0   -95.0\n",
       "4          4.0           9.0             7.0     2.0\n",
       "5          5.0        4739.0          4742.0    -3.0\n",
       "6          6.0        9988.0          9985.0     3.0\n",
       "7          7.0        5463.0          5337.0   126.0\n",
       "8          8.0          22.0            31.0    -9.0\n",
       "9          9.0        4493.0          4438.0    55.0\n",
       "10        10.0        9948.0          9958.0   -10.0\n",
       "11        11.0        5748.0          5618.0   130.0\n",
       "12        12.0          52.0            57.0    -5.0\n",
       "13        13.0        4144.0          4261.0  -117.0\n",
       "14        14.0        9923.0          9939.0   -16.0\n",
       "15        15.0        5916.0          5929.0   -13.0\n",
       "16        16.0          89.0            98.0    -9.0\n",
       "17        17.0        3987.0          4003.0   -16.0\n",
       "18        18.0        9879.0          9871.0     8.0\n",
       "19        18.0        9879.0          2822.0  7057.0"
      ]
     },
     "execution_count": 75,
     "metadata": {},
     "output_type": "execute_result"
    }
   ],
   "source": [
    "df_tot"
   ]
  },
  {
   "cell_type": "code",
   "execution_count": null,
   "metadata": {},
   "outputs": [],
   "source": []
  }
 ],
 "metadata": {
  "kernelspec": {
   "display_name": "Python 3",
   "language": "python",
   "name": "python3"
  },
  "language_info": {
   "codemirror_mode": {
    "name": "ipython",
    "version": 3
   },
   "file_extension": ".py",
   "mimetype": "text/x-python",
   "name": "python",
   "nbconvert_exporter": "python",
   "pygments_lexer": "ipython3",
   "version": "3.8.3"
  },
  "vscode": {
   "interpreter": {
    "hash": "ac6cf344f882233862f7df4282f38b02654403d78659cfdf6a1d6cf1d7ed63c5"
   }
  }
 },
 "nbformat": 4,
 "nbformat_minor": 4
}
