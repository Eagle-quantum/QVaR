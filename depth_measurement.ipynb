{
 "cells": [
  {
   "cell_type": "code",
   "execution_count": 1,
   "metadata": {},
   "outputs": [],
   "source": [
    "import pandas as pd\n",
    "from multivariateGCI_mr import MultivariateGCI_mr\n",
    "import random\n",
    "from utils import compute_depth"
   ]
  },
  {
   "cell_type": "code",
   "execution_count": 3,
   "metadata": {},
   "outputs": [
    {
     "name": "stdout",
     "output_type": "stream",
     "text": [
      "31579\n"
     ]
    }
   ],
   "source": [
    "df = pd.read_csv(\"Data/sampled_counterparts.csv\")\n",
    "df =  df.iloc[[38-2]]\n",
    "\n",
    "F_matrix = pd.read_csv(\"Data/F_for_sampled_counterparts.csv\")\n",
    "sectors = [1]\n",
    "\n",
    "F_values = [[F_matrix.iloc[df.index.values[j]][i-1] for i in sectors] for j in range(len(df))]\n",
    "\n",
    "# set problem parameters\n",
    "n_z = 2\n",
    "z_max = 2\n",
    "alpha_var = 0.05\n",
    "\n",
    "p_zeros = [el['pd'] for _, el in df.iterrows()]\n",
    "rhos = [el['is']**2 for _, el in df.iterrows()]\n",
    "lgd = [random.randint(1, 2) for i in range(len(p_zeros))]\n",
    "\n",
    "u = MultivariateGCI_mr(n_z, z_max, p_zeros, rhos, F_values)\n",
    "\n",
    "K = len(p_zeros)\n",
    "\n",
    "depth, size = compute_depth(n_z, K, lgd, u, optimization_level = 1, k = 126)\n",
    "\n",
    "print(depth)"
   ]
  }
 ],
 "metadata": {
  "kernelspec": {
   "display_name": "Python 3.9.12 ('qvar')",
   "language": "python",
   "name": "python3"
  },
  "language_info": {
   "codemirror_mode": {
    "name": "ipython",
    "version": 3
   },
   "file_extension": ".py",
   "mimetype": "text/x-python",
   "name": "python",
   "nbconvert_exporter": "python",
   "pygments_lexer": "ipython3",
   "version": "3.9.12"
  },
  "orig_nbformat": 4,
  "vscode": {
   "interpreter": {
    "hash": "5779756d2c2f50ed1fbffcc348c65b8fe5d82e6d6f5b430de7595757022a152b"
   }
  }
 },
 "nbformat": 4,
 "nbformat_minor": 2
}
