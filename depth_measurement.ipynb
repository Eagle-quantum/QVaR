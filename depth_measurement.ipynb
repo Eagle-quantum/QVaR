{
 "cells": [
  {
   "cell_type": "code",
   "execution_count": 1,
   "metadata": {},
   "outputs": [],
   "source": [
    "import pandas as pd\n",
    "from multivariateGCI_mr import MultivariateGCI_mr\n",
    "import random\n",
    "from utils import compute_depth\n",
    "import datetime\n",
    "import csv"
   ]
  },
  {
   "cell_type": "code",
   "execution_count": 2,
   "metadata": {},
   "outputs": [],
   "source": [
    "df = pd.read_csv(\"Data/sampled_counterparts.csv\")\n",
    "F_matrix = pd.read_csv(\"Data/F_for_sampled_counterparts.csv\")"
   ]
  },
  {
   "cell_type": "code",
   "execution_count": 3,
   "metadata": {},
   "outputs": [
    {
     "data": {
      "text/plain": [
       "[1, 2]"
      ]
     },
     "execution_count": 3,
     "metadata": {},
     "output_type": "execute_result"
    }
   ],
   "source": [
    "[i for i in range(1,3)]"
   ]
  },
  {
   "cell_type": "code",
   "execution_count": 4,
   "metadata": {},
   "outputs": [],
   "source": [
    "df = pd.read_csv(\"Data/sampled_counterparts.csv\")\n",
    "F_matrix = pd.read_csv(\"Data/F_for_sampled_counterparts.csv\")\n",
    "\n",
    "def depth_calculation(asset_classes, risk_factors, df, F_matrix):\n",
    "    print(f'asset: {asset_classes}')\n",
    "    print(f'risk_factor: {[i for i in range(1,risk_factors+1)]}')\n",
    "    df =  df.iloc[[i for i in range(asset_classes)]]\n",
    "\n",
    "    F_values = [[F_matrix.iloc[df.index.values[j]][i-1] for i in [i for i in range(1,risk_factors+1)]] for j in range(len(df))]\n",
    "\n",
    "    # set problem parameters\n",
    "    n_z = 2\n",
    "    z_max = 2\n",
    "\n",
    "    p_zeros = [el['pd'] for _, el in df.iterrows()]\n",
    "    rhos = [el['is']**2 for _, el in df.iterrows()]\n",
    "    lgd = [random.randint(1, 2) for i in range(len(p_zeros))]\n",
    "\n",
    "    u = MultivariateGCI_mr(n_z, z_max, p_zeros, rhos, F_values)\n",
    "\n",
    "    K = len(p_zeros)\n",
    "\n",
    "    depth, size, cnot_n = compute_depth(n_z, risk_factors, K, lgd, u, optimization_level = 1, k = 126)\n",
    "    \n",
    "    return depth, size, cnot_n\n",
    "    "
   ]
  },
  {
   "cell_type": "code",
   "execution_count": null,
   "metadata": {},
   "outputs": [
    {
     "name": "stdout",
     "output_type": "stream",
     "text": [
      "Run: risk_factor: 1,asset_number: 1\n",
      "asset: 1\n",
      "risk_factor: [1]\n",
      "Run: risk_factor: 1,asset_number: 2\n",
      "asset: 2\n",
      "risk_factor: [1]\n",
      "Run: risk_factor: 1,asset_number: 3\n",
      "asset: 3\n",
      "risk_factor: [1]\n",
      "Run: risk_factor: 1,asset_number: 4\n",
      "asset: 4\n",
      "risk_factor: [1]\n"
     ]
    }
   ],
   "source": [
    "with open('results_1_25062022.csv', 'a+') as f:  \n",
    "    f.write(\"asset_number, risk_factor, depth, size, cnot, execution_time[s]\\n\")\n",
    "\n",
    "for risk_factor_n in range(1,10):\n",
    "    for asset_n in range(1,5):\n",
    "        print(f\"Run: risk_factor: {risk_factor_n},asset_number: {asset_n}\")\n",
    "        try:\n",
    "            d1 = datetime.datetime.now()\n",
    "            depth, size, cnot_n = depth_calculation(asset_n, risk_factor_n, df, F_matrix)\n",
    "            d2 = datetime.datetime.now()\n",
    "        \n",
    "            with open('results_1_25062022.csv', 'a+') as f:  \n",
    "                f.write(f\"{asset_n}, {risk_factor_n}, {depth}, {size}, {cnot_n}, {(d2-d1).total_seconds()}\\n\")\n",
    "        except:\n",
    "            print(f\"no possible to run: risk_factor: {risk_factor_n},asset_number: {asset_n}\")\n",
    "            "
   ]
  },
  {
   "cell_type": "code",
   "execution_count": 5,
   "metadata": {},
   "outputs": [
    {
     "name": "stdout",
     "output_type": "stream",
     "text": [
      "risk_factor: [1, 2]\n"
     ]
    }
   ],
   "source": [
    "depth_calculation(2, 2, df, F_matrix)"
   ]
  },
  {
   "cell_type": "code",
   "execution_count": 1,
   "metadata": {},
   "outputs": [
    {
     "name": "stdout",
     "output_type": "stream",
     "text": [
      "1\n",
      "2\n",
      "3\n",
      "4\n"
     ]
    }
   ],
   "source": [
    "for asset_n in range(1,5):\n",
    "    print(asset_n)"
   ]
  },
  {
   "cell_type": "code",
   "execution_count": null,
   "metadata": {},
   "outputs": [],
   "source": []
  }
 ],
 "metadata": {
  "kernelspec": {
   "display_name": "Python 3.9.12 ('qvar')",
   "language": "python",
   "name": "python3"
  },
  "language_info": {
   "codemirror_mode": {
    "name": "ipython",
    "version": 3
   },
   "file_extension": ".py",
   "mimetype": "text/x-python",
   "name": "python",
   "nbconvert_exporter": "python",
   "pygments_lexer": "ipython3",
   "version": "3.9.12"
  },
  "vscode": {
   "interpreter": {
    "hash": "5779756d2c2f50ed1fbffcc348c65b8fe5d82e6d6f5b430de7595757022a152b"
   }
  }
 },
 "nbformat": 4,
 "nbformat_minor": 4
}
