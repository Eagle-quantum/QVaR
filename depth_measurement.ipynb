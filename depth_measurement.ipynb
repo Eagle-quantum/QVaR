{
 "cells": [
  {
   "cell_type": "code",
   "execution_count": 2,
   "metadata": {},
   "outputs": [],
   "source": [
    "import pandas as pd\n",
    "from multivariateGCI_mr import MultivariateGCI_mr\n",
    "import random\n",
    "from utils import compute_depth\n",
    "import datetime\n",
    "import csv"
   ]
  },
  {
   "cell_type": "code",
   "execution_count": 3,
   "metadata": {},
   "outputs": [],
   "source": [
    "df = pd.read_csv(\"Data/sampled_counterparts.csv\")\n",
    "F_matrix = pd.read_csv(\"Data/F_for_sampled_counterparts.csv\")"
   ]
  },
  {
   "cell_type": "code",
   "execution_count": 24,
   "metadata": {},
   "outputs": [
    {
     "data": {
      "text/plain": [
       "[1, 2]"
      ]
     },
     "execution_count": 24,
     "metadata": {},
     "output_type": "execute_result"
    }
   ],
   "source": [
    "[i for i in range(1,3)]"
   ]
  },
  {
   "cell_type": "code",
   "execution_count": 25,
   "metadata": {},
   "outputs": [],
   "source": [
    "df = pd.read_csv(\"Data/sampled_counterparts.csv\")\n",
    "F_matrix = pd.read_csv(\"Data/F_for_sampled_counterparts.csv\")\n",
    "\n",
    "def depth_calculation(asset_classes, risk_factors, df, F_matrix):\n",
    "    print(f'asset: {asset_n}')\n",
    "    print(f'risk_factor: {[i for i in range(1,risk_factors+1)]}')\n",
    "    df =  df.iloc[[i for i in range(asset_classes)]]\n",
    "\n",
    "    F_values = [[F_matrix.iloc[df.index.values[j]][i-1] for i in [i for i in range(1,risk_factors+1)]] for j in range(len(df))]\n",
    "\n",
    "    # set problem parameters\n",
    "    n_z = 2\n",
    "    z_max = 2\n",
    "    alpha_var = 0.05\n",
    "\n",
    "    p_zeros = [el['pd'] for _, el in df.iterrows()]\n",
    "    rhos = [el['is']**2 for _, el in df.iterrows()]\n",
    "    lgd = [random.randint(1, 2) for i in range(len(p_zeros))]\n",
    "\n",
    "    u = MultivariateGCI_mr(n_z, z_max, p_zeros, rhos, F_values)\n",
    "\n",
    "    K = len(p_zeros)\n",
    "\n",
    "    depth, size, cnot_n = compute_depth(n_z, K, lgd, u, optimization_level = 1, k = 126)\n",
    "    \n",
    "    return depth, size, cnot_n\n",
    "    "
   ]
  },
  {
   "cell_type": "code",
   "execution_count": null,
   "metadata": {},
   "outputs": [
    {
     "name": "stdout",
     "output_type": "stream",
     "text": [
      "Run: risk_factor: 1,asset_number: 1\n",
      "asset: 1\n",
      "risk_factor: [1]\n",
      "Run: risk_factor: 1,asset_number: 2\n",
      "asset: 2\n",
      "risk_factor: [1]\n",
      "Run: risk_factor: 1,asset_number: 3\n",
      "asset: 3\n",
      "risk_factor: [1]\n",
      "Run: risk_factor: 1,asset_number: 4\n",
      "asset: 4\n",
      "risk_factor: [1]\n"
     ]
    }
   ],
   "source": [
    "with open('results_1_25062022.csv', 'a+') as f:  \n",
    "    f.write(\"asset_number, risk_factor, depth, size, cnot, execution_time[s]\\n\")\n",
    "\n",
    "for risk_factor_n in range(1,10):\n",
    "    for asset_n in range(1,5):\n",
    "        print(f\"Run: risk_factor: {risk_factor_n},asset_number: {asset_n}\")\n",
    "        try:\n",
    "            d1 = datetime.datetime.now()\n",
    "            depth, size, cnot_n = depth_calculation(asset_n, risk_factor_n, df, F_matrix)\n",
    "            d2 = datetime.datetime.now()\n",
    "        \n",
    "            with open('results_1_25062022.csv', 'a+') as f:  \n",
    "                f.write(f\"{asset_n}, {risk_factor_n}, {depth}, {size}, {cnot_n}, {(d2-d1).total_seconds()}\\n\")\n",
    "        except:\n",
    "            print(f\"no possible to run: risk_factor: {risk_factor_n},asset_number: {asset_n}\")\n",
    "            "
   ]
  },
  {
   "cell_type": "code",
   "execution_count": 14,
   "metadata": {},
   "outputs": [
    {
     "ename": "CircuitError",
     "evalue": "'The amount of qubit(4)/clbit(0) arguments does not match the gate expectation (6).'",
     "output_type": "error",
     "traceback": [
      "\u001b[0;31m---------------------------------------------------------------------------\u001b[0m",
      "\u001b[0;31mCircuitError\u001b[0m                              Traceback (most recent call last)",
      "\u001b[0;32m<ipython-input-14-f91727f61bf7>\u001b[0m in \u001b[0;36m<module>\u001b[0;34m\u001b[0m\n\u001b[0;32m----> 1\u001b[0;31m \u001b[0mdepth_calculation\u001b[0m\u001b[0;34m(\u001b[0m\u001b[0;36m1\u001b[0m\u001b[0;34m,\u001b[0m \u001b[0;36m1\u001b[0m\u001b[0;34m,\u001b[0m \u001b[0mdf\u001b[0m\u001b[0;34m,\u001b[0m \u001b[0mF_matrix\u001b[0m\u001b[0;34m)\u001b[0m\u001b[0;34m\u001b[0m\u001b[0;34m\u001b[0m\u001b[0m\n\u001b[0m",
      "\u001b[0;32m<ipython-input-3-74963955e1e5>\u001b[0m in \u001b[0;36mdepth_calculation\u001b[0;34m(asset_classes, risk_factors, df, F_matrix)\u001b[0m\n\u001b[1;32m     21\u001b[0m     \u001b[0mK\u001b[0m \u001b[0;34m=\u001b[0m \u001b[0mlen\u001b[0m\u001b[0;34m(\u001b[0m\u001b[0mp_zeros\u001b[0m\u001b[0;34m)\u001b[0m\u001b[0;34m\u001b[0m\u001b[0;34m\u001b[0m\u001b[0m\n\u001b[1;32m     22\u001b[0m \u001b[0;34m\u001b[0m\u001b[0m\n\u001b[0;32m---> 23\u001b[0;31m     \u001b[0mdepth\u001b[0m\u001b[0;34m,\u001b[0m \u001b[0msize\u001b[0m\u001b[0;34m,\u001b[0m \u001b[0mcnot_n\u001b[0m \u001b[0;34m=\u001b[0m \u001b[0mcompute_depth\u001b[0m\u001b[0;34m(\u001b[0m\u001b[0mn_z\u001b[0m\u001b[0;34m,\u001b[0m \u001b[0mK\u001b[0m\u001b[0;34m,\u001b[0m \u001b[0mlgd\u001b[0m\u001b[0;34m,\u001b[0m \u001b[0mu\u001b[0m\u001b[0;34m,\u001b[0m \u001b[0moptimization_level\u001b[0m \u001b[0;34m=\u001b[0m \u001b[0;36m1\u001b[0m\u001b[0;34m,\u001b[0m \u001b[0mk\u001b[0m \u001b[0;34m=\u001b[0m \u001b[0;36m126\u001b[0m\u001b[0;34m)\u001b[0m\u001b[0;34m\u001b[0m\u001b[0;34m\u001b[0m\u001b[0m\n\u001b[0m\u001b[1;32m     24\u001b[0m \u001b[0;34m\u001b[0m\u001b[0m\n\u001b[1;32m     25\u001b[0m     \u001b[0;32mreturn\u001b[0m \u001b[0mdepth\u001b[0m\u001b[0;34m,\u001b[0m \u001b[0msize\u001b[0m\u001b[0;34m,\u001b[0m \u001b[0mcnot_n\u001b[0m\u001b[0;34m\u001b[0m\u001b[0;34m\u001b[0m\u001b[0m\n",
      "\u001b[0;32m~/Desktop/PROGETTI/INTESA/EAGLE/materiale/QVaR-7-qubit-experiments-2/utils.py\u001b[0m in \u001b[0;36mcompute_depth\u001b[0;34m(n_z, K, lgd, u, optimization_level, k)\u001b[0m\n\u001b[1;32m     46\u001b[0m \u001b[0;34m\u001b[0m\u001b[0m\n\u001b[1;32m     47\u001b[0m     \u001b[0;31m# aggregate\u001b[0m\u001b[0;34m\u001b[0m\u001b[0;34m\u001b[0m\u001b[0;34m\u001b[0m\u001b[0m\n\u001b[0;32m---> 48\u001b[0;31m     \u001b[0mstate_preparation\u001b[0m\u001b[0;34m.\u001b[0m\u001b[0mappend\u001b[0m\u001b[0;34m(\u001b[0m\u001b[0magg\u001b[0m\u001b[0;34m.\u001b[0m\u001b[0mto_gate\u001b[0m\u001b[0;34m(\u001b[0m\u001b[0;34m)\u001b[0m\u001b[0;34m,\u001b[0m \u001b[0mqr_state\u001b[0m\u001b[0;34m[\u001b[0m\u001b[0;34m:\u001b[0m\u001b[0;34m]\u001b[0m \u001b[0;34m+\u001b[0m \u001b[0mqr_sum\u001b[0m\u001b[0;34m[\u001b[0m\u001b[0;34m:\u001b[0m\u001b[0;34m]\u001b[0m \u001b[0;34m+\u001b[0m \u001b[0mqr_carry\u001b[0m\u001b[0;34m[\u001b[0m\u001b[0;34m:\u001b[0m\u001b[0;34m]\u001b[0m \u001b[0;34m+\u001b[0m \u001b[0mqr_control\u001b[0m\u001b[0;34m[\u001b[0m\u001b[0;34m:\u001b[0m\u001b[0;34m]\u001b[0m\u001b[0;34m)\u001b[0m\u001b[0;34m\u001b[0m\u001b[0;34m\u001b[0m\u001b[0m\n\u001b[0m\u001b[1;32m     49\u001b[0m \u001b[0;34m\u001b[0m\u001b[0m\n\u001b[1;32m     50\u001b[0m     \u001b[0;31m# linear objective function\u001b[0m\u001b[0;34m\u001b[0m\u001b[0;34m\u001b[0m\u001b[0;34m\u001b[0m\u001b[0m\n",
      "\u001b[0;32m/opt/anaconda3/envs/qiskit/lib/python3.8/site-packages/qiskit/circuit/quantumcircuit.py\u001b[0m in \u001b[0;36mappend\u001b[0;34m(self, instruction, qargs, cargs)\u001b[0m\n\u001b[1;32m   1212\u001b[0m             \u001b[0mrequester\u001b[0m \u001b[0;34m=\u001b[0m \u001b[0mself\u001b[0m\u001b[0;34m.\u001b[0m\u001b[0m_resolve_classical_resource\u001b[0m\u001b[0;34m\u001b[0m\u001b[0;34m\u001b[0m\u001b[0m\n\u001b[1;32m   1213\u001b[0m         \u001b[0minstructions\u001b[0m \u001b[0;34m=\u001b[0m \u001b[0mInstructionSet\u001b[0m\u001b[0;34m(\u001b[0m\u001b[0mresource_requester\u001b[0m\u001b[0;34m=\u001b[0m\u001b[0mrequester\u001b[0m\u001b[0;34m)\u001b[0m\u001b[0;34m\u001b[0m\u001b[0;34m\u001b[0m\u001b[0m\n\u001b[0;32m-> 1214\u001b[0;31m         \u001b[0;32mfor\u001b[0m \u001b[0mqarg\u001b[0m\u001b[0;34m,\u001b[0m \u001b[0mcarg\u001b[0m \u001b[0;32min\u001b[0m \u001b[0minstruction\u001b[0m\u001b[0;34m.\u001b[0m\u001b[0mbroadcast_arguments\u001b[0m\u001b[0;34m(\u001b[0m\u001b[0mexpanded_qargs\u001b[0m\u001b[0;34m,\u001b[0m \u001b[0mexpanded_cargs\u001b[0m\u001b[0;34m)\u001b[0m\u001b[0;34m:\u001b[0m\u001b[0;34m\u001b[0m\u001b[0;34m\u001b[0m\u001b[0m\n\u001b[0m\u001b[1;32m   1215\u001b[0m             \u001b[0mself\u001b[0m\u001b[0;34m.\u001b[0m\u001b[0m_check_dups\u001b[0m\u001b[0;34m(\u001b[0m\u001b[0mqarg\u001b[0m\u001b[0;34m)\u001b[0m\u001b[0;34m\u001b[0m\u001b[0;34m\u001b[0m\u001b[0m\n\u001b[1;32m   1216\u001b[0m             \u001b[0minstructions\u001b[0m\u001b[0;34m.\u001b[0m\u001b[0madd\u001b[0m\u001b[0;34m(\u001b[0m\u001b[0mappender\u001b[0m\u001b[0;34m(\u001b[0m\u001b[0minstruction\u001b[0m\u001b[0;34m,\u001b[0m \u001b[0mqarg\u001b[0m\u001b[0;34m,\u001b[0m \u001b[0mcarg\u001b[0m\u001b[0;34m)\u001b[0m\u001b[0;34m,\u001b[0m \u001b[0mqarg\u001b[0m\u001b[0;34m,\u001b[0m \u001b[0mcarg\u001b[0m\u001b[0;34m)\u001b[0m\u001b[0;34m\u001b[0m\u001b[0;34m\u001b[0m\u001b[0m\n",
      "\u001b[0;32m/opt/anaconda3/envs/qiskit/lib/python3.8/site-packages/qiskit/circuit/gate.py\u001b[0m in \u001b[0;36mbroadcast_arguments\u001b[0;34m(self, qargs, cargs)\u001b[0m\n\u001b[1;32m    197\u001b[0m         \"\"\"\n\u001b[1;32m    198\u001b[0m         \u001b[0;32mif\u001b[0m \u001b[0mlen\u001b[0m\u001b[0;34m(\u001b[0m\u001b[0mqargs\u001b[0m\u001b[0;34m)\u001b[0m \u001b[0;34m!=\u001b[0m \u001b[0mself\u001b[0m\u001b[0;34m.\u001b[0m\u001b[0mnum_qubits\u001b[0m \u001b[0;32mor\u001b[0m \u001b[0mcargs\u001b[0m\u001b[0;34m:\u001b[0m\u001b[0;34m\u001b[0m\u001b[0;34m\u001b[0m\u001b[0m\n\u001b[0;32m--> 199\u001b[0;31m             raise CircuitError(\n\u001b[0m\u001b[1;32m    200\u001b[0m                 \u001b[0;34mf\"The amount of qubit({len(qargs)})/clbit({len(cargs)}) arguments does\"\u001b[0m\u001b[0;34m\u001b[0m\u001b[0;34m\u001b[0m\u001b[0m\n\u001b[1;32m    201\u001b[0m                 \u001b[0;34mf\" not match the gate expectation ({self.num_qubits}).\"\u001b[0m\u001b[0;34m\u001b[0m\u001b[0;34m\u001b[0m\u001b[0m\n",
      "\u001b[0;31mCircuitError\u001b[0m: 'The amount of qubit(4)/clbit(0) arguments does not match the gate expectation (6).'"
     ]
    }
   ],
   "source": [
    "depth_calculation(1, 1, df, F_matrix)"
   ]
  },
  {
   "cell_type": "code",
   "execution_count": 1,
   "metadata": {},
   "outputs": [
    {
     "name": "stdout",
     "output_type": "stream",
     "text": [
      "1\n",
      "2\n",
      "3\n",
      "4\n"
     ]
    }
   ],
   "source": [
    "for asset_n in range(1,5):\n",
    "    print(asset_n)"
   ]
  },
  {
   "cell_type": "code",
   "execution_count": null,
   "metadata": {},
   "outputs": [],
   "source": []
  }
 ],
 "metadata": {
  "kernelspec": {
   "display_name": "qiskit",
   "language": "python",
   "name": "qiskit"
  },
  "language_info": {
   "codemirror_mode": {
    "name": "ipython",
    "version": 3
   },
   "file_extension": ".py",
   "mimetype": "text/x-python",
   "name": "python",
   "nbconvert_exporter": "python",
   "pygments_lexer": "ipython3",
   "version": "3.8.3"
  },
  "vscode": {
   "interpreter": {
    "hash": "5779756d2c2f50ed1fbffcc348c65b8fe5d82e6d6f5b430de7595757022a152b"
   }
  }
 },
 "nbformat": 4,
 "nbformat_minor": 4
}
