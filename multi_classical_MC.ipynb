{
 "cells": [
  {
   "cell_type": "code",
   "execution_count": 1,
   "metadata": {},
   "outputs": [
    {
     "name": "stderr",
     "output_type": "stream",
     "text": [
      "<frozen importlib._bootstrap>:219: RuntimeWarning: scipy._lib.messagestream.MessageStream size changed, may indicate binary incompatibility. Expected 56 from C header, got 64 from PyObject\n"
     ]
    }
   ],
   "source": [
    "# import all required libreries\n",
    "\n",
    "import pandas as pd\n",
    "import numpy as np\n",
    "import random\n",
    "from  scipy import stats\n",
    "from scipy.stats import bernoulli\n",
    "from scipy.stats import norm\n",
    "import math\n",
    "import matplotlib.pyplot as plt"
   ]
  },
  {
   "cell_type": "code",
   "execution_count": 2,
   "metadata": {},
   "outputs": [],
   "source": [
    "import pandas as pd\n",
    "from itertools import combinations\n",
    "\n",
    "df = pd.read_csv(\"sampled_counterparts.csv\")\n",
    "\n",
    "df = df.iloc[[38-2, 260-2, 7816-2]]#df.iloc[[3446-2, 14469-2, 11252-2]]\n",
    "\n",
    "F = pd.read_csv(\"F_for_sampled_counterparts.csv\")\n",
    "\n",
    "sectors = [1] #[1-1, 2-1] #[10-1, 13-1]\n",
    "alphas_list = [[F.iloc[df.index.values[j]][i] for i in sectors] for j in range(len(df))]"
   ]
  },
  {
   "cell_type": "code",
   "execution_count": 3,
   "metadata": {},
   "outputs": [
    {
     "name": "stdout",
     "output_type": "stream",
     "text": [
      "[[0.057751624756012], [0.157171844120119], [0.04397951004988]]\n"
     ]
    },
    {
     "data": {
      "text/html": [
       "<div>\n",
       "<style scoped>\n",
       "    .dataframe tbody tr th:only-of-type {\n",
       "        vertical-align: middle;\n",
       "    }\n",
       "\n",
       "    .dataframe tbody tr th {\n",
       "        vertical-align: top;\n",
       "    }\n",
       "\n",
       "    .dataframe thead th {\n",
       "        text-align: right;\n",
       "    }\n",
       "</style>\n",
       "<table border=\"1\" class=\"dataframe\">\n",
       "  <thead>\n",
       "    <tr style=\"text-align: right;\">\n",
       "      <th></th>\n",
       "      <th>cluster</th>\n",
       "      <th>pd</th>\n",
       "      <th>lgd dwt</th>\n",
       "      <th>ead</th>\n",
       "      <th>num ctp</th>\n",
       "      <th>sett</th>\n",
       "      <th>is</th>\n",
       "      <th>acca</th>\n",
       "      <th>cod type</th>\n",
       "      <th>cod stato</th>\n",
       "      <th>lgd pag</th>\n",
       "    </tr>\n",
       "  </thead>\n",
       "  <tbody>\n",
       "    <tr>\n",
       "      <th>36</th>\n",
       "      <td>005118_618</td>\n",
       "      <td>0.256511</td>\n",
       "      <td>0.223071</td>\n",
       "      <td>82514.537908</td>\n",
       "      <td>83292</td>\n",
       "      <td>5</td>\n",
       "      <td>0.300000</td>\n",
       "      <td>0.000083</td>\n",
       "      <td>0</td>\n",
       "      <td>0</td>\n",
       "      <td>0.187699</td>\n",
       "    </tr>\n",
       "    <tr>\n",
       "      <th>258</th>\n",
       "      <td>002116_18</td>\n",
       "      <td>0.071557</td>\n",
       "      <td>0.194311</td>\n",
       "      <td>282063.242107</td>\n",
       "      <td>888</td>\n",
       "      <td>2</td>\n",
       "      <td>0.300000</td>\n",
       "      <td>0.019318</td>\n",
       "      <td>0</td>\n",
       "      <td>0</td>\n",
       "      <td>0.157672</td>\n",
       "    </tr>\n",
       "    <tr>\n",
       "      <th>7814</th>\n",
       "      <td>010817_14</td>\n",
       "      <td>0.102194</td>\n",
       "      <td>0.350912</td>\n",
       "      <td>141607.211932</td>\n",
       "      <td>4</td>\n",
       "      <td>10</td>\n",
       "      <td>0.657714</td>\n",
       "      <td>0.010912</td>\n",
       "      <td>0</td>\n",
       "      <td>0</td>\n",
       "      <td>0.334555</td>\n",
       "    </tr>\n",
       "  </tbody>\n",
       "</table>\n",
       "</div>"
      ],
      "text/plain": [
       "         cluster        pd   lgd dwt            ead  num ctp  sett        is  \\\n",
       "36    005118_618  0.256511  0.223071   82514.537908    83292     5  0.300000   \n",
       "258    002116_18  0.071557  0.194311  282063.242107      888     2  0.300000   \n",
       "7814   010817_14  0.102194  0.350912  141607.211932        4    10  0.657714   \n",
       "\n",
       "          acca  cod type  cod stato   lgd pag  \n",
       "36    0.000083         0          0  0.187699  \n",
       "258   0.019318         0          0  0.157672  \n",
       "7814  0.010912         0          0  0.334555  "
      ]
     },
     "execution_count": 3,
     "metadata": {},
     "output_type": "execute_result"
    }
   ],
   "source": [
    "print(alphas_list)\n",
    "df"
   ]
  },
  {
   "cell_type": "code",
   "execution_count": 4,
   "metadata": {},
   "outputs": [],
   "source": [
    "#set problem parameters\n",
    "\n",
    "p_zeros = [el['pd'] for _, el in df.iterrows()]\n",
    "rhos = [el['is']**2 for _, el in df.iterrows()]\n",
    "lgd = [el['lgd dwt']*el['ead'] for _, el in df.iterrows()]\n",
    "\n",
    "# p_zeros = [0.15, 0.25]\n",
    "# rhos = [0.1, 0.05]\n",
    "# lgd = [0.67, 0.49]\n",
    "\n",
    "#p_zeros = [0.8, 0.8, 0.8]\n",
    "#rhos = [0.01, 0.12, 0.12]\n",
    "#lgd = [1, 1, 3]\n",
    "\n",
    "# p_zeros = [0.5, 0.1]\n",
    "# rhos = [0.1, 0.2]\n",
    "# lgd = [1, 1]\n",
    "\n",
    "#p_zeros = [0.35, 0.2, 0.05]\n",
    "#rhos = [0.4, 0.1, 0.02]\n",
    "#lgd = [2, 2, 2]\n",
    "\n",
    "#p_zeros = [0.15, 0.25, 0.1]\n",
    "#rhos = [0.1, 0.05, 0.2]\n",
    "#lgd = [1, 2, 3]\n",
    "\n",
    "p_zeros = [0.15, 0.25]#[el['pd'] for _, el in df.iterrows()]                                                             #[0.15, 0.25, 0.2]\n",
    "rhos = [0.1, 0.05]#[el['is']**2 for _, el in df.iterrows()]    #not the same as the paper                                 #[0.1, 0.05, 0.2]\n",
    "lgd = [1000.5, 2000.5]\n",
    "alphas_list = [[0.35,0.2],[0.1,0.25]]\n",
    "\n",
    "K = len(p_zeros)\n",
    "alpha = 0.05\n",
    "num_simulations = 500000"
   ]
  },
  {
   "cell_type": "markdown",
   "metadata": {},
   "source": [
    "Calculate $P D_{C} \\mid Z=\\Phi\\left(\\frac{\\Phi^{-1}\\left(P D_{c}\\right)-r_{c, s} \\sum_{k=1}^{S} \\alpha_{s, k} Z_{k}}{\\sqrt{1-r_{c, s}^{2}}}\\right)$"
   ]
  },
  {
   "cell_type": "code",
   "execution_count": 5,
   "metadata": {},
   "outputs": [
    {
     "data": {
      "text/plain": [
       "([1000.5, 2000.5], [0.15, 0.25], array([0.31622777, 0.2236068 ]))"
      ]
     },
     "execution_count": 5,
     "metadata": {},
     "output_type": "execute_result"
    }
   ],
   "source": [
    "lgd, p_zeros, np.sqrt(rhos)"
   ]
  },
  {
   "cell_type": "code",
   "execution_count": 6,
   "metadata": {},
   "outputs": [],
   "source": [
    "# function to sample bernoulli variables\n",
    "def calculate_p(z, p_zeros, rhos):\n",
    "    \n",
    "    p = np.zeros((num_simulations, np.size(p_zeros)))\n",
    "\n",
    "    for i in range(num_simulations):\n",
    "        index = i * len(sectors)\n",
    "        for k in range(0, K):\n",
    "            p[i,k] = norm.cdf(\n",
    "                (\n",
    "                norm.ppf(p_zeros[k]) - np.sum([np.sqrt(rhos[k])*alpha*sim for alpha, sim in zip(alphas_list[k], z[index:index+len(sectors)])])\n",
    "                ) / np.sqrt(1-rhos[k])\n",
    "            ) \n",
    "            # if i == 0:\n",
    "                # print((\n",
    "                #     norm.ppf(p_zeros[k]) - np.sum(alphas_list[1])\n",
    "                #     ) / np.sqrt(1-rhos[k]))\n",
    "    \n",
    "    return p"
   ]
  },
  {
   "cell_type": "code",
   "execution_count": 7,
   "metadata": {},
   "outputs": [],
   "source": [
    "# function to evaluate losses per each scenario\n",
    "def calculate_loss_per_scenario(p, lgd):\n",
    "\n",
    "    losses = np.zeros(p.shape[0])\n",
    "    \n",
    "    for i in range(0, p.shape[0]):\n",
    "        for j in range(0, np.size(lgd)):\n",
    "            losses[i] = losses[i] + lgd[j] * bernoulli.rvs(p[i, j])\n",
    "    \n",
    "    return losses\n",
    "\n",
    "# function to calculate var\n",
    "def calculate_var(losses, alpha):\n",
    "    \n",
    "    vect = losses\n",
    "    vect = np.sort(vect)\n",
    "\n",
    "    index = math.trunc((1-alpha) * np. size (vect))\n",
    "\n",
    "    return vect[index]"
   ]
  },
  {
   "cell_type": "code",
   "execution_count": 8,
   "metadata": {},
   "outputs": [],
   "source": [
    "# function to estimate empirical PDF and CDF of losses\n",
    "\n",
    "def calculate_pdf_cdf(array):\n",
    "    values = np.sort(np.unique(array))\n",
    "    temp = np.sort(array)\n",
    "    pdf = np.zeros(np.size(values))\n",
    "\n",
    "    index = 0\n",
    "    for i in range(0, np.size(array)):\n",
    "        if temp[i]==values[index]:\n",
    "            pdf[index] += 1\n",
    "        else:\n",
    "            index += 1\n",
    "            pdf[index] += 1\n",
    "\n",
    "    return pdf / np.size(array), np.cumsum(pdf) / np.size(array) "
   ]
  },
  {
   "cell_type": "code",
   "execution_count": 9,
   "metadata": {},
   "outputs": [],
   "source": [
    "# main of the code\n",
    "\n",
    "#np.random.seed(30)\n",
    "z = np.random.standard_normal(num_simulations*len(sectors))\n",
    "p = calculate_p(z, p_zeros, rhos)\n",
    "losses = calculate_loss_per_scenario(p, lgd)\n",
    "expected_loss = sum(losses)/num_simulations\n",
    "var = calculate_var(losses, alpha)\n",
    "\n",
    "pdf, _ = calculate_pdf_cdf(losses)"
   ]
  },
  {
   "cell_type": "code",
   "execution_count": 12,
   "metadata": {},
   "outputs": [
    {
     "data": {
      "image/png": "[encoded data removed]",
      "text/plain": [
       "<Figure size 432x288 with 1 Axes>"
      ]
     },
     "metadata": {
      "needs_background": "light"
     },
     "output_type": "display_data"
    },
    {
     "name": "stdout",
     "output_type": "stream",
     "text": [
      "expected loss =  627.473371\n",
      "var =  2000.5\n"
     ]
    }
   ],
   "source": [
    "# plot loss PDF, expected loss, var, and evar\n",
    "cdf = [np.sum(pdf[0:i+1]) for i in range(len(pdf))]\n",
    "plt.plot(np.sort(np.unique(losses)), cdf, 'o-g')#, align = \"center\", width = 90)\n",
    "#plt.axvline(expected_loss, color=\"green\", linestyle=\"--\", label=\"E[L]\") \n",
    "plt.axhline(0.95, color=\"orange\", linestyle=\"--\")#, label=\"VaR(L)\")\n",
    " \n",
    "# plt.legend(fontsize=15)\n",
    "plt.xlabel(\"Loss L ($)\", size=15)\n",
    "plt.ylabel(\"probability\", size=15)\n",
    "plt.title (\"CDF of Total Loss\", size=15)\n",
    "plt.xticks(size=15)\n",
    "plt.yticks(size=15)\n",
    "plt.show()\n",
    "\n",
    "print(\"expected loss = \", expected_loss)\n",
    "print(\"var = \", var)"
   ]
  },
  {
   "cell_type": "code",
   "execution_count": 11,
   "metadata": {},
   "outputs": [
    {
     "data": {
      "text/plain": [
       "[0.651212, 0.75546, 0.966046, 1.0]"
      ]
     },
     "execution_count": 11,
     "metadata": {},
     "output_type": "execute_result"
    }
   ],
   "source": [
    "cdf"
   ]
  }
 ],
 "metadata": {
  "interpreter": {
   "hash": "78db515f20ea3ea4a5e6010e5f5c6acdfd5c894326950d3f89ba334738678483"
  },
  "kernelspec": {
   "display_name": "Qiskit v0.35.0 (ipykernel)",
   "language": "python",
   "name": "python3"
  },
  "language_info": {
   "codemirror_mode": {
    "name": "ipython",
    "version": 3
   },
   "file_extension": ".py",
   "mimetype": "text/x-python",
   "name": "python",
   "nbconvert_exporter": "python",
   "pygments_lexer": "ipython3",
   "version": "3.8.13"
  },
  "widgets": {
   "application/vnd.jupyter.widget-state+json": {
    "state": {},
    "version_major": 2,
    "version_minor": 0
   }
  }
 },
 "nbformat": 4,
 "nbformat_minor": 4
}
