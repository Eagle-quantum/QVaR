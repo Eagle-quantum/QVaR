{
 "cells": [
  {
   "cell_type": "code",
   "execution_count": 3,
   "metadata": {},
   "outputs": [],
   "source": [
    "# import all required libreries\n",
    "\n",
    "import pandas as pd\n",
    "import numpy as np\n",
    "import random\n",
    "from scipy.stats import bernoulli\n",
    "from scipy.stats import norm\n",
    "import math\n",
    "import matplotlib.pyplot as plt"
   ]
  },
  {
   "cell_type": "code",
   "execution_count": 4,
   "metadata": {},
   "outputs": [
    {
     "name": "stdout",
     "output_type": "stream",
     "text": [
      "[[0.1580707722], [0.2555327991]]\n"
     ]
    },
    {
     "data": {
      "text/html": [
       "<div>\n",
       "<style scoped>\n",
       "    .dataframe tbody tr th:only-of-type {\n",
       "        vertical-align: middle;\n",
       "    }\n",
       "\n",
       "    .dataframe tbody tr th {\n",
       "        vertical-align: top;\n",
       "    }\n",
       "\n",
       "    .dataframe thead th {\n",
       "        text-align: right;\n",
       "    }\n",
       "</style>\n",
       "<table border=\"1\" class=\"dataframe\">\n",
       "  <thead>\n",
       "    <tr style=\"text-align: right;\">\n",
       "      <th></th>\n",
       "      <th>cluster</th>\n",
       "      <th>pd</th>\n",
       "      <th>lgd dwt</th>\n",
       "      <th>ead</th>\n",
       "      <th>num ctp</th>\n",
       "      <th>sett</th>\n",
       "      <th>is</th>\n",
       "      <th>acca</th>\n",
       "      <th>cod type</th>\n",
       "      <th>cod stato</th>\n",
       "      <th>lgd pag</th>\n",
       "    </tr>\n",
       "  </thead>\n",
       "  <tbody>\n",
       "    <tr>\n",
       "      <th>36</th>\n",
       "      <td>005118_618</td>\n",
       "      <td>0.256511</td>\n",
       "      <td>0.223071</td>\n",
       "      <td>82514.537908</td>\n",
       "      <td>83292</td>\n",
       "      <td>5</td>\n",
       "      <td>0.3</td>\n",
       "      <td>0.000083</td>\n",
       "      <td>0</td>\n",
       "      <td>0</td>\n",
       "      <td>0.187699</td>\n",
       "    </tr>\n",
       "    <tr>\n",
       "      <th>258</th>\n",
       "      <td>002116_18</td>\n",
       "      <td>0.071557</td>\n",
       "      <td>0.194311</td>\n",
       "      <td>282063.242107</td>\n",
       "      <td>888</td>\n",
       "      <td>2</td>\n",
       "      <td>0.3</td>\n",
       "      <td>0.019318</td>\n",
       "      <td>0</td>\n",
       "      <td>0</td>\n",
       "      <td>0.157672</td>\n",
       "    </tr>\n",
       "  </tbody>\n",
       "</table>\n",
       "</div>"
      ],
      "text/plain": [
       "        cluster        pd   lgd dwt            ead  num ctp  sett   is  \\\n",
       "36   005118_618  0.256511  0.223071   82514.537908    83292     5  0.3   \n",
       "258   002116_18  0.071557  0.194311  282063.242107      888     2  0.3   \n",
       "\n",
       "         acca  cod type  cod stato   lgd pag  \n",
       "36   0.000083         0          0  0.187699  \n",
       "258  0.019318         0          0  0.157672  "
      ]
     },
     "execution_count": 4,
     "metadata": {},
     "output_type": "execute_result"
    }
   ],
   "source": [
    "df = pd.read_csv(\"Data/sampled_counterparts.csv\")\n",
    "df = df.iloc[[38-2, 260-2]] #df.iloc[[38-2, 260-2, 7816-2]]\n",
    "\n",
    "F = pd.read_csv(\"Data/F_for_sampled_counterparts.csv\")\n",
    "sectors = [1] #[1, 2]\n",
    "F_list = [[F.iloc[df.index.values[j]][i-1] for i in sectors] for j in range(len(df))]\n",
    "# F_list = [[0.55], [0.65], [0.50]] # make F/rhos\n",
    "\n",
    "print(F_list)\n",
    "df"
   ]
  },
  {
   "cell_type": "code",
   "execution_count": 5,
   "metadata": {},
   "outputs": [
    {
     "name": "stdout",
     "output_type": "stream",
     "text": [
      "F: [[0.1580707722], [0.2555327991]]\n",
      "Rhos: [0.3 0.3]\n",
      "Lgds: [18406.56224845756, 54807.94141703075]\n",
      "p_zeros: [0.2565108504, 0.0715568886]\n"
     ]
    }
   ],
   "source": [
    "#set problem parameters\n",
    "\n",
    "p_zeros = [el['pd'] for _, el in df.iterrows()]\n",
    "rhos = [el['is']**2 for _, el in df.iterrows()]\n",
    "lgd = [el['lgd dwt']*el['ead'] for _, el in df.iterrows()]\n",
    "\n",
    "#alphas_list = [[0.35,0.2],[0.1,0.25]]\n",
    "\n",
    "K = len(p_zeros)\n",
    "alpha = 0.05\n",
    "num_simulations = 10000\n",
    "\n",
    "print(f'F: {F_list}\\nRhos: {np.sqrt(rhos)}\\nLgds: {lgd}\\np_zeros: {p_zeros}')"
   ]
  },
  {
   "cell_type": "markdown",
   "metadata": {},
   "source": [
    "Calculate $P D_{C} \\mid Z=\\Phi\\left(\\frac{\\Phi^{-1}\\left(P D_{c}\\right)-r_{c, s} \\sum_{k=1}^{S} \\alpha_{s, k} Z_{k}}{\\sqrt{1-r_{c, s}^{2}}}\\right)$"
   ]
  },
  {
   "cell_type": "code",
   "execution_count": 6,
   "metadata": {},
   "outputs": [],
   "source": [
    "# function to sample bernoulli variables\n",
    "def calculate_p(z, p_zeros, rhos):\n",
    "    \n",
    "    p = np.zeros((num_simulations, np.size(p_zeros)))\n",
    "\n",
    "    for i in range(num_simulations):\n",
    "        index = i * len(sectors)\n",
    "        for k in range(0, K):\n",
    "            p[i,k] = norm.cdf(\n",
    "                (\n",
    "                norm.ppf(p_zeros[k]) - np.sum([F*sim for F, sim in zip(F_list[k], z[index:index+len(sectors)])])\n",
    "                ) / np.sqrt(1-rhos[k])\n",
    "            ) \n",
    "    \n",
    "    return p"
   ]
  },
  {
   "cell_type": "code",
   "execution_count": 7,
   "metadata": {},
   "outputs": [],
   "source": [
    "# function to evaluate losses per each scenario\n",
    "def calculate_loss_per_scenario(p, lgd):\n",
    "\n",
    "    losses = np.zeros(p.shape[0])\n",
    "    \n",
    "    for i in range(0, p.shape[0]):\n",
    "        for j in range(0, np.size(lgd)):\n",
    "            losses[i] = losses[i] + lgd[j] * bernoulli.rvs(p[i, j])\n",
    "    \n",
    "    return losses\n",
    "\n",
    "# function to calculate var\n",
    "def calculate_var(losses, alpha):\n",
    "    \n",
    "    vect = losses\n",
    "    vect = np.sort(vect)\n",
    "\n",
    "    index = math.trunc((1-alpha) * np. size (vect))\n",
    "\n",
    "    return vect[index]"
   ]
  },
  {
   "cell_type": "code",
   "execution_count": 8,
   "metadata": {},
   "outputs": [],
   "source": [
    "# function to estimate empirical PDF and CDF of losses\n",
    "\n",
    "def calculate_pdf_cdf(array):\n",
    "    values = np.sort(np.unique(array))\n",
    "    temp = np.sort(array)\n",
    "    pdf = np.zeros(np.size(values))\n",
    "\n",
    "    index = 0\n",
    "    for i in range(0, np.size(array)):\n",
    "        if temp[i]==values[index]:\n",
    "            pdf[index] += 1\n",
    "        else:\n",
    "            index += 1\n",
    "            pdf[index] += 1\n",
    "\n",
    "    return pdf / np.size(array), np.cumsum(pdf) / np.size(array) "
   ]
  },
  {
   "cell_type": "code",
   "execution_count": 9,
   "metadata": {},
   "outputs": [],
   "source": [
    "# main of the code\n",
    "\n",
    "#np.random.seed(30)\n",
    "z = np.random.standard_normal(num_simulations*len(sectors))\n",
    "p = calculate_p(z, p_zeros, rhos)\n",
    "losses = calculate_loss_per_scenario(p, lgd)\n",
    "expected_loss = sum(losses)/num_simulations\n",
    "var = calculate_var(losses, alpha)\n",
    "\n",
    "pdf, cdf = calculate_pdf_cdf(losses)"
   ]
  },
  {
   "cell_type": "code",
   "execution_count": 10,
   "metadata": {},
   "outputs": [
    {
     "data": {
      "image/png": "[encoded data removed]",
      "text/plain": [
       "<Figure size 432x288 with 1 Axes>"
      ]
     },
     "metadata": {
      "needs_background": "light"
     },
     "output_type": "display_data"
    },
    {
     "name": "stdout",
     "output_type": "stream",
     "text": [
      "expected loss =  8397.702024360033\n",
      "var =  54807.94141703075\n",
      "{0.0: 0.7007, 18406.56224845756: 0.93, 54807.94141703075: 0.9815, 73214.50366548832: 1.0}\n"
     ]
    }
   ],
   "source": [
    "# plot loss PDF, expected loss, var, and evar\n",
    "plt.plot(np.sort(np.unique(losses)), cdf, 'o-g')#, align = \"center\", width = 90)\n",
    "#plt.axvline(expected_loss, color=\"green\", linestyle=\"--\", label=\"E[L]\") \n",
    "plt.axhline(0.95, color=\"orange\", linestyle=\"--\")#, label=\"VaR(L)\")\n",
    " \n",
    "# plt.legend(fontsize=15)\n",
    "plt.xlabel(\"Loss L ($)\", size=15)\n",
    "plt.ylabel(\"probability\", size=15)\n",
    "plt.title (\"CDF of Total Loss\", size=15)\n",
    "plt.xticks(size=15) # plt.xticks(np.sort([int(n) for n in np.unique(losses)]), np.sort([int(n) for n in np.unique(losses)]), size=13)\n",
    "plt.yticks(size=15)\n",
    "plt.rcParams[\"figure.figsize\"] = (8, 8)\n",
    "plt.show()\n",
    "\n",
    "print(\"expected loss = \", expected_loss)\n",
    "print(\"var = \", var)\n",
    "print({value:cdf for value, cdf in zip(np.sort(np.unique(losses)), cdf)})"
   ]
  }
 ],
 "metadata": {
  "interpreter": {
   "hash": "66fcc063aebacbfea25ada87ac2776b8de707e2cff9d5d456937ae541a74bb75"
  },
  "kernelspec": {
   "display_name": "Python 3.9.12 ('base')",
   "language": "python",
   "name": "python3"
  },
  "language_info": {
   "codemirror_mode": {
    "name": "ipython",
    "version": 3
   },
   "file_extension": ".py",
   "mimetype": "text/x-python",
   "name": "python",
   "nbconvert_exporter": "python",
   "pygments_lexer": "ipython3",
   "version": "3.9.12"
  },
  "widgets": {
   "application/vnd.jupyter.widget-state+json": {
    "state": {},
    "version_major": 2,
    "version_minor": 0
   }
  }
 },
 "nbformat": 4,
 "nbformat_minor": 4
}
